{
 "cells": [
  {
   "cell_type": "markdown",
   "id": "3b4e1005",
   "metadata": {},
   "source": [
    "## Python-Bibliotheken\n",
    "\n",
    "Hilfsfunktionen für die ff. Abschnitte - bitte nachfolgende Zelle zuerst ausführen."
   ]
  },
  {
   "cell_type": "code",
   "execution_count": null,
   "id": "4920f06c",
   "metadata": {},
   "outputs": [],
   "source": [
    "from string import ascii_lowercase\n",
    "\n",
    "# pip install pycryptodome\n",
    "from Crypto.Util.number import isPrime as is_prime\n",
    "from Crypto.Util.number import getPrime as get_prime\n",
    "from Crypto.Util.number import GCD as ggt # grösster gemeinsamer Teiler\n",
    "from Crypto.Random.random import randrange as zufallszahl_aus_bereich"
   ]
  },
  {
   "cell_type": "markdown",
   "id": "6a6f8878",
   "metadata": {},
   "source": [
    "## Kryptografie\n",
    "\n",
    "### Zufällige Substitutions-Verschlüsselung\n",
    "\n",
    "Jeder Buchstabe des Alphabets wird zufällig auf einen anderen Buchstaben des Alphabets abgebildet.\n",
    "\n",
    "Problem: die [Häufigkeitsverteilung](https://de.wikipedia.org/wiki/Buchstabenh%C3%A4ufigkeit#Buchstabenh%C3%A4ufigkeit_in_deutschsprachigen_Texten) einzelner Buchstaben in Nachricht und Chiffre sowie Sprachcharakteristika, wie häufig gemeinsam auftretende Buchstaben, können zur Entschlüsslung verwendet werden.\n",
    "\n",
    "https://de.wikipedia.org/wiki/Monoalphabetische_Substitution#Entzifferung\n",
    "\n",
    "### Häufigkeitsanalyse\n",
    "Der folgende deutsche Text wurde mit einem zufälligen Substitutionsschlüssel aus 26 Buchstaben chiffriert. Umlaute und Satzzeichen sind nicht verschlüsselt.\n",
    "\n",
    "Können Sie den Text extschlüsseln?\n",
    "\n",
    "#### Chiffre"
   ]
  },
  {
   "cell_type": "code",
   "execution_count": null,
   "id": "fee938e9",
   "metadata": {},
   "outputs": [],
   "source": [
    "chiffre = \"Ihwe tdt, hli! Biaufsfbiae, Jdoasneoea dtr Ceravat, Dtr ueareo hdli Niefufmae Rdolihds sndraeon, can ieaßec Wecüit. Rh snei ali tdt, ali hoceo Nfo! Dtr wat sf pudm hus gae vdkfo; Ieaße Chmasneo, ieaße Rfpnfo mho Dtr vaeie slift ht rae veiet Jhio Ieohdy, ieohw dtr xdeo dtr podcc Ceate Sliüueo ht reo Thse ieodc – Dtr seie, rhß gao talins gasset pöttet! Rhs gauu cao sliaeo rhs Ieov keowoettet. Vgho wat ali meslieaneo hus huu rae Uhyyet, Rfpnfoet, Chmasneo, Slioeaweo dtr Byhyyet; Cali buhmet peate Spodbeu tfli Vgeayeu, Yüoline cali gereo kfo Iöuue tfli Nedyeu – Rhyüo asn cao hdli huue Yoedr etnoasset, Waure cao talin eat, ghs Oelins vd gasset, Waure cao talin eat, ali pöttne ghs ueioet, Rae Cetsliet vd wesseot dtr vd wepeioet. Hdli ihw ali gereo Mdn tfli Meur, Tfli Eio dtr Ieooualipean reo Geun; Es cöline peat Idtr sf uätmeo uewet! Rodc ihw ali cali reo Chmae eomewet, Fw cao rdoli Measnes Pohyn dtr Cdtr Talin chtli Meieactas güore pdtr; Rhß ali talin ceio can shdoec Sligeaß Vd shmet wohdlie, ghs ali talin geaß; Rhß ali eopette, ghs rae Geun Ac Atteosnet vdshccetiäun, Slihd huue Gaopetspohyn dtr Shcet, Dtr nd talin ceio at Gfonet pohcet. F säisn rd, kfuueo Cftretslieat, Vdc uenvetchu hdy ceate Beat, Ret ali sf chtlie Canneothlin Ht raesec Bdun ieohtmeghlin: Rhtt üweo Wülieot dtr Bhbaeo, Noüwseu'meo Yoedtr, eosliaetsn rd cao! Hli! pöttn ali rfli hdy Weomesiöit At reatec uaewet Ualine meit, Dc Weomesiöiue can Measneot sligewet, Hdy Gaeset at reatec Räcceo gewet, Kft huuec Gassetsxdhuc etnuhret, At reatec Nhd mesdtr cali whret! Gei! snelp ali at rec Peopeo tfli? Keoyudlines rdcbyes Chdeoufli, Gf seuwsn rhs uaewe Iacceusualin Noüw rdoli mechune Slieawet woalin! Weslioätpn can raesec Wülieoihdy, ret Güoce thmet, Snhdw werelpn, Ret was hts ifie Megöuw iathdy Eat htmeohdlin Bhbaeo dcsnelpn; Can Muäseot, Wüliset oatms dcsneuun, Can Atsnodcetnet kfuumebyofbyn, Dokäneo Ihdsohn roeat mesnfbyn – Rhs asn reate Geun! rhs ieaßn eate Geun! Dtr yohmsn rd tfli, ghodc reat Ieov Sali whtm at reatec Wdset pueccn? Ghodc eat dteopuäoneo Sliceov Rao huue Uewetsoemdtm ieccn? Snhnn reo uewetramet Thndo, Rh Mfnn rae Cetsliet slidy iateat, Dcmawn at Ohdli dtr Cfreo tdo Rali Naeomeoabb dtr Nfnetweat. Yuaei! hdy! iathds ats geane Uhtr! Dtr raes meieactaskfuue Wdli, Kft Tfsnohrhcds' eamteo Ihtr, Asn rao es talin Meuean metdm? Eopettesn rhtt reo Sneote Uhdy, Dtr gett Thndo rali Dtneogeasn, Rhtt mein rae Seeuetpohyn rao hdy, Gae sboalin eat Measn vdc htroet Measn. Dcsftsn, rhß noflptes Sattet iaeo Rae ieau'met Vealiet rao eopuäon: Aio sligewn, aio Measneo, tewet cao; Htngfonen cao, gett aio cali iöon!\""
   ]
  },
  {
   "cell_type": "code",
   "execution_count": null,
   "id": "02501a09",
   "metadata": {},
   "outputs": [],
   "source": [
    "print(chiffre)"
   ]
  },
  {
   "cell_type": "markdown",
   "id": "d67fa987",
   "metadata": {},
   "source": [
    "#### Buchstabenhäufigkeiten im Chiffre bestimmen\n",
    "In der Variablen \n",
    "\n",
    "```python\n",
    "haeufigkeit\n",
    "```\n",
    "\n",
    "speichern wir zu jedem Buchstaben die Anzahl seines Vorkommens in der Chiffre."
   ]
  },
  {
   "cell_type": "code",
   "execution_count": null,
   "id": "fbddfa7e",
   "metadata": {},
   "outputs": [],
   "source": [
    "kleinbuchstaben = list(ascii_lowercase)\n",
    "\n",
    "haeufigkeit = {}  # Dictionary, zum Zählen der Häufigkeit jedes einzelnen Buchstabens, Python hat keinen \"Bag\", also bauen wir einen von Hand\n",
    "\n",
    "for buchstabe in kleinbuchstaben:\n",
    "    haeufigkeit[buchstabe] = 0  # Initialisieren\n",
    "\n",
    "for zeichen in chiffre:\n",
    "    if zeichen.lower() in kleinbuchstaben:\n",
    "        haeufigkeit[zeichen.lower()] += 1"
   ]
  },
  {
   "cell_type": "markdown",
   "id": "caf94a77",
   "metadata": {},
   "source": [
    "#### Buchstabenhäufigkeiten ausgeben"
   ]
  },
  {
   "cell_type": "code",
   "execution_count": null,
   "id": "b6bb7e6d",
   "metadata": {},
   "outputs": [],
   "source": [
    "buchstaben_total = sum(haeufigkeit.values())\n",
    "\n",
    "for buchstabe in sorted(haeufigkeit, key=haeufigkeit.get, reverse=True):\n",
    "    h = haeufigkeit[buchstabe] / buchstaben_total * 100\n",
    "    print(\"{} : {:.2f}%\".format(buchstabe, h))"
   ]
  },
  {
   "cell_type": "markdown",
   "id": "b9fa7424",
   "metadata": {},
   "source": [
    "#### Tipp\n",
    "\"e\", \"n\" und \"i\" sind die drei häufigsten Buchstaben in deutschen Texten - in der Reihenfolge. Sie sollten diese drei für einen ersten Versuch eintagen und dann den Tipps [hier](https://de.wikipedia.org/wiki/Monoalphabetische_Substitution#Entzifferung) und [hier](https://de.wikipedia.org/wiki/Buchstabenh%C3%A4ufigkeit#Anfangsbuchstaben) folgen."
   ]
  },
  {
   "cell_type": "code",
   "execution_count": null,
   "id": "8f2778ee",
   "metadata": {},
   "outputs": [],
   "source": [
    "# encrypted : decrypted\n",
    "schluessel = {\n",
    "    \"a\": \"_\",\n",
    "    \"b\": \"_\",\n",
    "    \"c\": \"_\",\n",
    "    \"d\": \"_\",\n",
    "    \"e\": \"_\",\n",
    "    \"f\": \"_\",\n",
    "    \"g\": \"_\",\n",
    "    \"h\": \"_\",\n",
    "    \"i\": \"_\",\n",
    "    \"j\": \"_\",\n",
    "    \"k\": \"_\",\n",
    "    \"l\": \"_\",\n",
    "    \"m\": \"_\",\n",
    "    \"n\": \"_\",\n",
    "    \"o\": \"_\",\n",
    "    \"p\": \"_\",\n",
    "    \"q\": \"_\",\n",
    "    \"r\": \"_\",\n",
    "    \"s\": \"_\",\n",
    "    \"t\": \"_\",\n",
    "    \"u\": \"_\",\n",
    "    \"v\": \"_\",\n",
    "    \"w\": \"_\",\n",
    "    \"x\": \"_\",\n",
    "    \"y\": \"_\",\n",
    "    \"z\": \"_\"\n",
    "}\n",
    "\n",
    "for encrypted in chiffre:\n",
    "    if encrypted.lower() in kleinbuchstaben:\n",
    "        decrypted = schluessel[encrypted.lower()]\n",
    "    else:\n",
    "        decrypted = encrypted\n",
    "\n",
    "    print(\"{} {}\".format(encrypted, decrypted))"
   ]
  },
  {
   "cell_type": "markdown",
   "id": "f22c19ed",
   "metadata": {},
   "source": [
    "### Vigenère-Verfahren\n",
    "Das [Vigenère-Verfahren](https://www.inf-schule.de/kryptologie/historischechiffriersysteme/station_vigenereverfahren) ist ein polyalphabetisches Verfahren, welches in zwei Schritten geknackt wird:\n",
    "\n",
    "- wahrscheinliche Schlüssellänge bestimmen\n",
    "- Jede Teilmenge der Chiffre, die mit dem selben Buchstaben des Schlüsselwortes chiffriert wurde, mittels Häufigkeitsanalyse entschlüsseln."
   ]
  },
  {
   "cell_type": "code",
   "execution_count": null,
   "id": "4f48f05f",
   "metadata": {},
   "outputs": [],
   "source": [
    "chiffre = \"HGINEHWTEIBLUNARWPCLDWCVDDYUVNCETJIBLTFTQEVIIFFJEEHRNREQGIVNZYTLRZPUVNYIJKEMHBJKNQNKMHVOZCGXBLSCINJIMREZEKYGKIRXLLEGPVEDDWELNJIMKUMHSLHHKGCIDWTKDDVSYEHREVRFMQWEKHFJBDVHVSEYOBEKXJDAAIOUSNROVNRGIVIMHJVSBLPVNRXFAUMKGIATWJKZDXEFRSSCVNVYOUEQFBIIGVHFLCRFJGDWDYMDMEVBKMUQESWJVKZINDTHLSXOKHFEERLBRRRMFBADQNKERQJKGNPEVNDQLRMLIVEDRMOXTDMOCIDHERBDMERSGEUVIMIXLNCISJALIHVWZPUXELIMFDDMEVNRGIZFEISZMJPFZNDRTTHHJGVEQKSVIEXFJMHXXZLCINNEGISJCGEVKNHGIKDHIGVLRIOIIEJFVRRGIRUSRVIHHRBLFHREZEGSFYIBLHCATFFUIDAFCLDRWVRRGICIMKFEALIOUERGIZFEISLNCOBYNTREUARLBKMHXJYRDQTZNFIOUIDPPIEKIZXESEO\""
   ]
  },
  {
   "cell_type": "code",
   "execution_count": null,
   "id": "9ecece7b",
   "metadata": {},
   "outputs": [],
   "source": [
    "print(chiffre)"
   ]
  },
  {
   "cell_type": "markdown",
   "id": "90cf8717",
   "metadata": {},
   "source": [
    "#### Schlüssellänge bestimmen"
   ]
  },
  {
   "cell_type": "code",
   "execution_count": null,
   "id": "b70c0d8b",
   "metadata": {},
   "outputs": [],
   "source": [
    "buchstabenfolgen_laenge = 3  # Laengen der Buchstabenfolgen, mit der eine Dopplung gesucht wird\n",
    "\n",
    "buchstabenanzahl = len(chiffre)\n",
    "buchstabenfolgen = []\n",
    "\n",
    "# alle Tuple der Länge \"buchstabenfolgen_laenge\" aus der Chiffre erzeugen und in der Liste \"buchstabenfolgen\" speichern\n",
    "letzter_startbuchstabe = buchstabenanzahl - buchstabenfolgen_laenge\n",
    "\n",
    "for start in range(0, letzter_startbuchstabe):\n",
    "    ende = start + buchstabenfolgen_laenge\n",
    "    buchstabenfolgen.append(chiffre[start:ende])\n",
    "\n",
    "print(buchstabenfolgen)"
   ]
  },
  {
   "cell_type": "code",
   "execution_count": null,
   "id": "0b37dd98",
   "metadata": {},
   "outputs": [],
   "source": [
    "# Schlüssellänge 1 wäre simple Caesar-Verschlüsselung\n",
    "schluessellaengen = range(2, 10)  # Liste der Schlüssellängen, die ausprobiert werden soll\n",
    "\n",
    "haeufigkeit = {}  # Dictionary, zum Zählen der Häufigkeit der Dopplungen der Buchstabenfolgen pro Schlüssellänge\n",
    "for i in schluessellaengen:\n",
    "    haeufigkeit[i] = 0  # initialisieren\n",
    "\n",
    "# für alle potentiellen Schlüssellängen die Anzahl der Dopplungen bestimmen\n",
    "print(\"Schlüssellänge, String, gefunden in Position 1, und Position 2 der Buchstabenfolgen\")\n",
    "for s in schluessellaengen:\n",
    "    for i in range(len(buchstabenfolgen) - s):\n",
    "        for j in range(i + s, len(buchstabenfolgen), s):\n",
    "            if buchstabenfolgen[i] == buchstabenfolgen[j]:\n",
    "                print(s, buchstabenfolgen[i], i, j)\n",
    "                haeufigkeit[s] += 1"
   ]
  },
  {
   "cell_type": "markdown",
   "id": "19d3b5b6",
   "metadata": {},
   "source": [
    "Ergebnis übersichtlich und sortiert ausgeben"
   ]
  },
  {
   "cell_type": "code",
   "execution_count": null,
   "id": "eb87b47c",
   "metadata": {},
   "outputs": [],
   "source": [
    "print(\"Schlüssellänge\\t:\\tAnzahl der Dopplungen\")\n",
    "for s in sorted(haeufigkeit, key=haeufigkeit.get, reverse=True):\n",
    "    print(\"{}\\t\\t:\\t{}\".format(s, haeufigkeit[s]))"
   ]
  },
  {
   "cell_type": "markdown",
   "id": "210b4164",
   "metadata": {},
   "source": [
    "#### Chiffre in Teilmengen aufteilen\n",
    "Wenn die Schlüssellänge bekant ist (oder vermutet wird), muss im nächsten Schritt der verschlüsselte Text so unterteilt werden, dass in jeder Teilmenge nur Buchstaben enthalten sind, die mit der selben konstanten Verschiebung erzeugt wurden.\n",
    "\n",
    "Wir wissen also, dass alle Buchstaben einer Klasse um den gleichen Wert verschoben wurden - wie wissen nur noch nicht, um wie viel sie verschieben wurden.\n",
    "\n",
    "Wir erzeugen nun also aus der Chiffre genau so viele Caesar-Verschlüsselte Teilmengen, wie es Buchstaben im Schlüsselwort hat und erraten dann jeden dieser Buchstaben mittels Häufigkeitsanalyse einzeln."
   ]
  },
  {
   "cell_type": "code",
   "execution_count": null,
   "id": "b2196168",
   "metadata": {},
   "outputs": [],
   "source": [
    "vermutete_schluessellaenge = 5\n",
    "\n",
    "teilmengen = {}  # Dictionary, zum gruppieren der Buchstaben der Chiffre nach Verschiebung\n",
    "\n",
    "for i in range(vermutete_schluessellaenge):\n",
    "    teilmengen[i] = []  # initialisieren mit leerer Liste\n",
    "\n",
    "for i in range(0,\n",
    "               len(chiffre) - vermutete_schluessellaenge,\n",
    "               vermutete_schluessellaenge):\n",
    "    for j in range(vermutete_schluessellaenge):\n",
    "        buchstabe = chiffre[i + j]\n",
    "        teilmengen[j].append(buchstabe)\n",
    "\n",
    "for verschiebung, buchstaben in teilmengen.items():\n",
    "    print(\"Verschiebungsklasse: {}\".format(verschiebung))\n",
    "    print(\"Zugehörige Chiffre-Buchstaben: {}\".format(buchstaben))"
   ]
  },
  {
   "cell_type": "markdown",
   "id": "712526a8",
   "metadata": {},
   "source": [
    "#### Häufigkeitsanalyse\n",
    "Nun kann jede dieser Teilmengen mithilfe einer Häufigkeitsanalyse entschlüsselt werden. Auf [https://www.cryptool.org](https://www.cryptool.org/de/cto/vigenerebreak) findet sich eine grafisch ansprechende Umsetzung, weshalb an dieser Stelle auf diesen letzten Schritt verzichtet wird."
   ]
  },
  {
   "cell_type": "markdown",
   "id": "537bd782",
   "metadata": {},
   "source": [
    "### RSA (Rivest, Shamir und Adleman)"
   ]
  },
  {
   "cell_type": "markdown",
   "id": "b0ee23db",
   "metadata": {},
   "source": [
    "Siehe auch https://www.cryptool.org/de/cto/rsa-step-by-step und https://www.cryptool.org/de/cto/rsa-visual\n",
    "\n",
    "[Wikipedia](https://de.wikipedia.org/wiki/RSA-Kryptosystem): RSA (Rivest–Shamir–Adleman) ist ein asymmetrisches kryptographisches Verfahren, das sowohl zum Verschlüsseln als auch zum digitalen Signieren verwendet werden kann. Es verwendet ein Schlüsselpaar, bestehend aus einem privaten Schlüssel, der zum Entschlüsseln oder Signieren von Daten verwendet wird, und einem öffentlichen Schlüssel, mit dem man verschlüsselt oder Signaturen prüft. Der private Schlüssel wird geheim gehalten und kann nicht mit realistischem Aufwand aus dem öffentlichen Schlüssel berechnet werden.\n",
    "\n",
    "#### [Schlüsselpaar erstellen](https://de.wikipedia.org/wiki/RSA-Kryptosystem#Erzeugung_des_%C3%B6ffentlichen_und_privaten_Schl%C3%BCssels)\n",
    "Der öffentliche und der private Schlüssel bestehen jeweils aus einem Paar von positiven natürlichen Zahlen $(e,n)$ bzw. $(d,n)$.\n",
    "\n",
    "Als Ausgangspunkt für RSA wählt man zwei [Primzahlen](https://link.melzian.ch/sdw) $p$ und $q$. "
   ]
  },
  {
   "cell_type": "code",
   "execution_count": null,
   "id": "7ab14534",
   "metadata": {},
   "outputs": [],
   "source": [
    "# Tipp: Aktivieren Sie den \"Variable Inspector\", um die Werte der Variables mitverfolgen zu können.\n",
    "\n",
    "p = 11\n",
    "q = 13"
   ]
  },
  {
   "cell_type": "markdown",
   "id": "350f97a6",
   "metadata": {},
   "source": [
    "Wurden valide Primzahlen gewählt? Wenn nicht, suchen wir zufällig zwei kurze 6-Bit Primzahlen (also zwischen 0 und 63)"
   ]
  },
  {
   "cell_type": "code",
   "execution_count": null,
   "id": "479cc030",
   "metadata": {},
   "outputs": [],
   "source": [
    "while not is_prime(p) or not is_prime(q) or p == q:\n",
    "    p = get_prime(N=6)\n",
    "    q = get_prime(N=6)"
   ]
  },
  {
   "cell_type": "markdown",
   "id": "279bdae8",
   "metadata": {},
   "source": [
    "Das Produkt $n$ von $p$ und $q$ wird auch RSA-Modul genannt. $n$ muss grösser sein als die grösste Zahl, die verschlüsselt werden soll."
   ]
  },
  {
   "cell_type": "code",
   "execution_count": null,
   "id": "3cfd3615",
   "metadata": {},
   "outputs": [],
   "source": [
    "n = p * q"
   ]
  },
  {
   "cell_type": "markdown",
   "id": "3d656631",
   "metadata": {},
   "source": [
    "$\\phi(n)$ ist die Anzahl Zahlen $i$ ($0 < i < n$), die teilerfremd zu $n$ sind. Teilerfremd heissen zwei Zahlen, wenn der grösste gemeinsame Teiler $1$ ist."
   ]
  },
  {
   "cell_type": "code",
   "execution_count": null,
   "id": "1ae7b54f",
   "metadata": {},
   "outputs": [],
   "source": [
    "phi = (p - 1) * (q - 1)"
   ]
  },
  {
   "cell_type": "markdown",
   "id": "3e3011fd",
   "metadata": {},
   "source": [
    "Die Sicherheit von RSA basiert darauf, dass von $n$ derzeit nicht mathematisch effizient auf $p$ und $q$ und damit $\\phi(n)$ geschlossen werden kann (Primfaktorzerlegung).\n",
    "\n",
    "Wählen Sie als nächstes eine Zahl $e$:"
   ]
  },
  {
   "cell_type": "code",
   "execution_count": null,
   "id": "5adf71fc",
   "metadata": {},
   "outputs": [],
   "source": [
    "e = 23"
   ]
  },
  {
   "cell_type": "markdown",
   "id": "97e37cbd",
   "metadata": {},
   "source": [
    "Der sogenannte Exponent $e$ muss zwei Bedingungen erfüllen:\n",
    "\n",
    "- $e$ muss teilerfremd zu $\\phi(n)$ sein (d.h. der grösste gemeinsame Teiler muss 1 sein) und\n",
    "- $1 < e < \\phi(n)$\n",
    "\n",
    "Falls das manuell gewählte $e$ nicht den genannten Bedingungen entspricht, suchen wir zufällig ein anderes, valides $e$."
   ]
  },
  {
   "cell_type": "code",
   "execution_count": null,
   "id": "ae298f60",
   "metadata": {},
   "outputs": [],
   "source": [
    "while not (ggt(e, phi) == 1 and 1 < e < phi):  # testen, ob eine der beiden Bedingungen nicht erfüllt ist\n",
    "    e = zufallszahl_aus_bereich(2, phi)        # zufälliges e in erlaubter Range wählen\n",
    "    print(\"ggt({a}, {b}) == 1 -> {c}\".format(a=e, b=phi, c=ggt(e, phi) == 1))"
   ]
  },
  {
   "cell_type": "markdown",
   "id": "41ab9439",
   "metadata": {},
   "source": [
    "Anschliessend müssen wir die geheime Schlüsselzahl $d$ bestimmen, so dass gilt: \n",
    "\n",
    "$e \\cdot d − 1 = a \\cdot \\phi(n)$\n",
    "\n",
    "mit $a \\in \\mathbb{N}$. Das bedeutet, dass $e \\cdot d − 1$ ein ganzzahliges Vielfaches von $\\phi(n)$ ist.\n",
    "\n",
    "Oder anders ausgedrückt:\n",
    "\n",
    "$(e \\cdot d) \\mod \\phi(n) = 1$\n",
    "\n",
    "Mithilfe des [Erweiterten Euklidischen Algorithmus](https://de.wikipedia.org/wiki/Erweiterter_euklidischer_Algorithmus) kann $d$ effizient \"hand-crafted\" bestimmt werden. Aber: so wie einige andere Programmiersprachen hat auch Python diese Berechnung (ab Version 3.8) [eingebaut](https://docs.python.org/3/library/functions.html?highlight=pow#pow).\n",
    "\n",
    "<pre>\n",
    "pow(base, exp[, mod])\n",
    "\n",
    "if mod is present and exp is negative, base must be relatively prime to mod. In that case, pow(inv_base, -exp, mod) is returned, where inv_base is an inverse to base modulo mod.\n",
    "\n",
    "</pre>\n",
    "\n",
    "Die vorhergehende Formel nach $d$ aufgelöst ergibt somit in Python mit dem pow()-Befehl direkt:"
   ]
  },
  {
   "cell_type": "code",
   "execution_count": null,
   "id": "b86d4679",
   "metadata": {},
   "outputs": [],
   "source": [
    "d = pow(base=e, exp=-1, mod=phi)"
   ]
  },
  {
   "cell_type": "markdown",
   "id": "adcaabfc",
   "metadata": {},
   "source": [
    "Somit ergibt sich ff. Schlüsselpaar: (priv: privat, pub: öffentlich)"
   ]
  },
  {
   "cell_type": "code",
   "execution_count": null,
   "id": "f2c0a8ff",
   "metadata": {},
   "outputs": [],
   "source": [
    "empfaenger = {'priv': {'d': d}, 'pub': {'e': e, 'n': n}}\n",
    "print(empfaenger)"
   ]
  },
  {
   "cell_type": "markdown",
   "id": "b3b46e81",
   "metadata": {},
   "source": [
    "Die drei Zahlen $d$ (geheim) sowie $e$ und $n$ (beide öffentlich) haben zusammen genau die gewünschten Eigenschaften eines asymmetrischen Schlüssels. Dies wird in den folgenden Abschnitten demonstriert."
   ]
  },
  {
   "cell_type": "markdown",
   "id": "bf6e17cd",
   "metadata": {},
   "source": [
    "#### Verschlüsseln\n",
    "Um eine Zahl $m$ mit dem öffentlichen Schlüssel $(e, n)$ in die Chiffre $z$ zu verschlüsseln, wird\n",
    "\n",
    "$z = m^{e} \\mod n$\n",
    "\n",
    "berechnet. Die Chiffre $z$ wird dann zum Empfänger gesendet.\n",
    "\n",
    "Das Entschlüsseln von $z$ mit dem privaten Schlüssel $(d, n)$ erfolgt analog mit\n",
    "\n",
    "$m = z^{d} \\mod n$.\n",
    "\n",
    "Lassen Sie uns das doch einmal durchspielen.\n",
    "\n",
    "Geben Sie eine Nachricht im Klartext ein:"
   ]
  },
  {
   "cell_type": "code",
   "execution_count": null,
   "id": "119d175c",
   "metadata": {},
   "outputs": [],
   "source": [
    "klartext = list(\"Hallo\")\n",
    "print(klartext)"
   ]
  },
  {
   "cell_type": "markdown",
   "id": "04e72559",
   "metadata": {},
   "source": [
    "Wir können eine beliebige Kodierung wählen, z.B. [ASCII](https://de.wikipedia.org/wiki/American_Standard_Code_for_Information_Interchange#ASCII-Tabelle), um die Buchstaben in Zahlen umzuwandeln."
   ]
  },
  {
   "cell_type": "code",
   "execution_count": null,
   "id": "6eb1b75f",
   "metadata": {},
   "outputs": [],
   "source": [
    "klartext_ascii = [ord(buchstabe) for buchstabe in klartext]\n",
    "print(klartext_ascii)"
   ]
  },
  {
   "cell_type": "markdown",
   "id": "0d65d4bd",
   "metadata": {},
   "source": [
    "Prüfen wir noch schnell, ob alle zu verschlüsselnden Zahlen auch wirklich kleiner als $n$ sind:"
   ]
  },
  {
   "cell_type": "code",
   "execution_count": null,
   "id": "980c442e",
   "metadata": {},
   "outputs": [],
   "source": [
    "modulus = empfaenger['pub']['n']\n",
    "\n",
    "if max(klartext_ascii) >= modulus:\n",
    "    print(\"ERROR: Bitte n grösser als {} erzeugen\".format(max(klartext_ascii)))"
   ]
  },
  {
   "cell_type": "markdown",
   "id": "a92d09a6",
   "metadata": {},
   "source": [
    "Nun rechnen wir für jede Zahl $m$ des Klartextes\n",
    "\n",
    "$z = m^{e} \\mod n$"
   ]
  },
  {
   "cell_type": "code",
   "execution_count": null,
   "id": "175ce279",
   "metadata": {},
   "outputs": [],
   "source": [
    "potenz = empfaenger['pub']['e']\n",
    "\n",
    "chiffre_ascii = []\n",
    "for m in klartext_ascii:\n",
    "    z = pow(m, potenz, modulus)\n",
    "    chiffre_ascii.append(z)\n",
    "\n",
    "print(chiffre_ascii)"
   ]
  },
  {
   "cell_type": "markdown",
   "id": "c5dbecc5",
   "metadata": {},
   "source": [
    "und erhalten so unsere Chiffre."
   ]
  },
  {
   "cell_type": "code",
   "execution_count": null,
   "id": "5f9ff99e",
   "metadata": {},
   "outputs": [],
   "source": [
    "chiffretext = [chr(z) for z in chiffre_ascii]\n",
    "print(chiffretext)"
   ]
  },
  {
   "cell_type": "markdown",
   "id": "d48dce11",
   "metadata": {},
   "source": [
    "Nun kann diese Chiffre zum Empfänger gesendet werden.\n",
    "\n",
    "#### Entschlüsseln\n",
    "Das Entschlüsseln von $z$ zum Klartext $m$ erfolgt analog mit dem privaten Schlüssel $(d, n)$ und der Berechnung\n",
    "\n",
    "$m = z^{d} \\mod n$.\n",
    "\n",
    "Zunächst wandeln wir die verschlüsselten Buchstaben wieder in Zahlen um."
   ]
  },
  {
   "cell_type": "code",
   "execution_count": null,
   "id": "7fb4d478",
   "metadata": {},
   "outputs": [],
   "source": [
    "chiffre_ascii = [ord(buchstabe) for buchstabe in chiffretext]\n",
    "print(chiffre_ascii)"
   ]
  },
  {
   "cell_type": "markdown",
   "id": "2d1a31b0",
   "metadata": {},
   "source": [
    "und entschlüsseln mit o.g. Formel für $m$"
   ]
  },
  {
   "cell_type": "code",
   "execution_count": null,
   "id": "434661a5",
   "metadata": {},
   "outputs": [],
   "source": [
    "potenz = empfaenger['priv']['d']\n",
    "modulus = empfaenger['pub']['n']\n",
    "\n",
    "klartext_ascii = []\n",
    "for z in chiffre_ascii:\n",
    "    m = pow(z, potenz, modulus)\n",
    "    klartext_ascii.append(m)\n",
    "\n",
    "print(klartext_ascii)"
   ]
  },
  {
   "cell_type": "markdown",
   "id": "a68bebb8",
   "metadata": {},
   "source": [
    "und erhalten somit nach Umwandlung der ASCII-Codierung den Klartext"
   ]
  },
  {
   "cell_type": "code",
   "execution_count": null,
   "id": "68cbbe61",
   "metadata": {},
   "outputs": [],
   "source": [
    "klartext = [chr(m) for m in klartext_ascii]\n",
    "print(klartext)"
   ]
  },
  {
   "cell_type": "markdown",
   "id": "52348dc7",
   "metadata": {},
   "source": [
    "#### Signieren\n",
    "Das RSA-Signaturverfahren ist die Umkehrung des RSA-Verschlüsselungsverfahrens.\n",
    "\n",
    "Wir benötigen einen \"Fingerabdruck\" der Nachricht. Dieser Fingerabdruck wird mithilfe einer kryptografischen Hashfunktion gebildet. Sender und Empfänger müssen den Fingerabdruck unabhängig voneinander aus der Nachricht berechnen können, sie müssen sich also auf eine Hashfunktion einigen.\n",
    "\n",
    "Dieser Fingerabdruck der Nachricht wird mit dem privaten Schlüssel des Senders verschlüsselt. Der Empfänger entschlüsselt die Signatur mit dem öffentlichen Schlüssel des Senders und vergleicht diese mit dem Fingerabdruck der Nachricht, den er selbst direkt aus der Nachricht berechnet hat.\n",
    "\n",
    "Der Sender benötigt zum Signieren also zunächst ein eigenes Schlüsselpaar:"
   ]
  },
  {
   "cell_type": "code",
   "execution_count": null,
   "id": "f2f18fff",
   "metadata": {},
   "outputs": [],
   "source": [
    "p = 11\n",
    "q = 23\n",
    "n = p * q\n",
    "phi = (p - 1) * (q - 1)\n",
    "e = 41\n",
    "while not (ggt(e, phi) == 1 and 1 < e < phi):\n",
    "    e = zufallszahl_aus_bereich(2, phi)\n",
    "d = pow(base=e, exp=-1, mod=phi)\n",
    "sender = {'priv': {'d': d}, 'pub': {'e': e, 'n': n}}\n",
    "print(sender)"
   ]
  },
  {
   "cell_type": "markdown",
   "id": "28aaf7ad",
   "metadata": {},
   "source": [
    "Nun zum Fingerabdruck einer Nachricht: Ein Beispiel einer solchen Hash-Funktion ist [SHA-2](https://de.wikipedia.org/wiki/SHA-2) (Secure Hash Algorithm-2).\n",
    "\n",
    "```python\n",
    "from hashlib import sha256\n",
    "nachricht = \"Hallo\"\n",
    "fingerabdruck = sha256(nachricht.encode(\"utf-8\")).hexdigest()\n",
    "print(fingerabdruck)\n",
    "```\n",
    "<pre>\n",
    "753692ec36adb4c794c973945eb2a99c1649703ea6f76bf259abb4fb838e013e\n",
    "</pre>\n",
    "\n",
    "Zum Verschlüsseln dieser sehr grossen Zahlen (in Hexadezimaldarstellung) benötigen wir ein entsprechend grossen Schlüssel mit genügend grossem RSA-Modul $n$.\n",
    "\n",
    "Damit wir mit unseren kurzen Demo-Schlüsseln weiterarbeiten können, machen wir es uns an dieser Stelle extrem einfach und definieren selbst eine einfache Hash-Funktion: als die Summe der ASCII-Mapping-Zahlen Modulo $n$ (des Senders)."
   ]
  },
  {
   "cell_type": "code",
   "execution_count": null,
   "id": "3b4b22c9",
   "metadata": {},
   "outputs": [],
   "source": [
    "print(klartext)\n",
    "print(klartext_ascii)\n",
    "print(chiffre_ascii)\n",
    "\n",
    "fingerabdruck = sum(chiffre_ascii) % sender['pub']['n']\n",
    "\n",
    "print(fingerabdruck)"
   ]
  },
  {
   "cell_type": "markdown",
   "id": "32df051d",
   "metadata": {},
   "source": [
    "Nun verschlüsselt der __Sender__ den Fingerabdruck mit seinem __privaten__ Schlüssel. "
   ]
  },
  {
   "cell_type": "code",
   "execution_count": null,
   "id": "f5a62074",
   "metadata": {},
   "outputs": [],
   "source": [
    "modulus = sender['pub']['n']\n",
    "potenz = sender['priv']['d']\n",
    "\n",
    "signatur = pow(fingerabdruck, potenz, modulus)\n",
    "\n",
    "print(signatur)"
   ]
  },
  {
   "cell_type": "markdown",
   "id": "2dbfea5c",
   "metadata": {},
   "source": [
    "Die Signatur wird nun zusammen mit der (verschlüsselten) Nachricht an den Empfänger geschickt."
   ]
  },
  {
   "cell_type": "markdown",
   "id": "61adb187",
   "metadata": {},
   "source": [
    "#### Signatur prüfen\n",
    "\n",
    "Der Empfänger verifiziert die Signatur, indem er mit Hilfe des öffentlichen Schlüssel des Senders den Fingerabdruck aus der Signatur und parallel aus der Nachricht selbst berechnet - und beide Ergebnisse vergleicht. In unserem einfachen Beispiel also:  "
   ]
  },
  {
   "cell_type": "code",
   "execution_count": null,
   "id": "91f06337",
   "metadata": {},
   "outputs": [],
   "source": [
    "potenz = sender['pub']['e']\n",
    "modulus = sender['pub']['n']\n",
    "\n",
    "fingerabdruck_aus_signatur = pow(signatur, potenz, modulus)\n",
    "\n",
    "fingerabdruck_aus_nachricht = sum(chiffre_ascii) % modulus\n",
    "\n",
    "if fingerabdruck_aus_signatur == fingerabdruck_aus_nachricht:\n",
    "    print(\"Signatur valide\")"
   ]
  },
  {
   "cell_type": "markdown",
   "id": "6cc109e3",
   "metadata": {},
   "source": [
    "Somit weiss der Empfänger, das die Nachricht während der Übertragung nicht verändert wurde und diese auch wirklich vom Inhaber des Schlüssels $sender$ kommt."
   ]
  },
  {
   "cell_type": "markdown",
   "id": "14b2b503",
   "metadata": {},
   "source": [
    "#### Schlussbemerkung\n",
    "- Mit der Idee der asymmetrischen Verschlüsselung entfällt beim RSA-Verfahren der unsichere Schlüsselaustausch. \n",
    "\n",
    "- Die Verschlüsselung einzelner Zeichen entspricht einer monoalphabetischen Verschlüsselung und wäre durch Häufigkeitsanalysen sehr schnell zu entschlüsseln. In der Praxis wird man deshalb die Codes mehrerer Zeichen vor der RSA-Verschlüsselung zusammenfassen.\n",
    "\n",
    "Beispiel:\n",
    "\n",
    "<pre>\n",
    "\"Informatik\" --> unverschlüsselte Codeliste: (9 40 32 41 44 39 27 46 35 37)\n",
    "             --> modifizierte Codeliste    : (940 3241 4439 2746 3537)\n",
    "</pre>\n",
    "\n",
    "Ein Beispiel findet sich [hier](http://geonext.uni-bayreuth.de/fileadmin/did_inf/krypto/RSA.pdf) unter \"Verschlüsseln der Nachricht\".\n",
    "\n",
    "- Das RSA-Verfahren wird heute in der Regel mit symmetrischen Verschlüsselungsverfahren kombiniert. Dabei wird ein Schlüssel für eine symmetrische Verschlüsselung generiert, der dann per RSA-Algorithmus verschlüsselt und zusammen mit der Nachricht übertragen wird. \n",
    "\n",
    "- Signatur einer Nachricht und Verschlüsselung einer Nachricht können unabhängig voneinander verwendet werden."
   ]
  },
  {
   "cell_type": "markdown",
   "id": "c00378ba",
   "metadata": {},
   "source": [
    "### [Diffie-Hellman](https://de.wikipedia.org/wiki/Diffie-Hellman-Schlüsselaustausch)\n",
    "\n",
    "Ein [Algorithmus](https://de.wikipedia.org/wiki/Diffie-Hellman-Schlüsselaustausch), um öffentlich eine geheime Zahl $k$ zwischen zwei Personen (Alice und Bob) zu bestimmen.\n",
    "\n",
    "Wikipedia: Das Verfahren wurde von Whitfield Diffie und Martin Hellman entwickelt und im Jahr 1976 unter der Bezeichnung ax1x2 veröffentlicht. Es handelt sich um das erste der sogenannten asymmetrischen Kryptoverfahren (auch Public-Key-Kryptoverfahren), das veröffentlicht wurde.\n",
    "\n",
    "#### Geheimzahl erstellen\n",
    "... und das geht so: Alice und Bob wählen öffentlich $p$ und $s$, mit \n",
    "\n",
    "- is_prime($p$) $\\rightarrow$ True ($p$ muss eine Primzahl sein) und \n",
    "- $1 < s < p$"
   ]
  },
  {
   "cell_type": "code",
   "execution_count": null,
   "id": "b830a874",
   "metadata": {},
   "outputs": [],
   "source": [
    "p = 101\n",
    "s = 45"
   ]
  },
  {
   "cell_type": "code",
   "execution_count": null,
   "id": "36a10913",
   "metadata": {},
   "outputs": [],
   "source": [
    "if not (is_prime(p) and 1 < s < p):\n",
    "    print(\"Bitte die Werte für p und s überprüfen!\")"
   ]
  },
  {
   "cell_type": "markdown",
   "id": "c5dd72a7",
   "metadata": {},
   "source": [
    "Alice und Bob wählen jeder für sich eine zufällige, geheime Zahl $a$ (Alice) bzw. $b$ (Bob) mit\n",
    "- $1 < a < (p-1)$ und\n",
    "- $1 < b < (p-1)$"
   ]
  },
  {
   "cell_type": "code",
   "execution_count": null,
   "id": "9d237b77",
   "metadata": {},
   "outputs": [],
   "source": [
    "a = 9\n",
    "b = 55"
   ]
  },
  {
   "cell_type": "code",
   "execution_count": null,
   "id": "8ab81aa5",
   "metadata": {},
   "outputs": [],
   "source": [
    "if not (1 < a < (p - 1) and 1 < b < (p - 1)):\n",
    "    print(\"Bitte die Werte für a und b überprüfen!\")"
   ]
  },
  {
   "cell_type": "markdown",
   "id": "8bd8634e",
   "metadata": {},
   "source": [
    "Alice und Bob berechnen die Zahlen $\\alpha$ (Alice) bzw. $\\beta$ (Bob) mit\n",
    "\n",
    "$\\alpha = s^{a} \\mod p$\n",
    "\n",
    "und \n",
    "\n",
    "$\\beta = s^{b} \\mod p$"
   ]
  },
  {
   "cell_type": "code",
   "execution_count": null,
   "id": "f1fc3f15",
   "metadata": {},
   "outputs": [],
   "source": [
    "alpha = pow(base=s, exp=a, mod=p)\n",
    "beta = pow(base=s, exp=b, mod=p)"
   ]
  },
  {
   "cell_type": "markdown",
   "id": "487c628e",
   "metadata": {},
   "source": [
    "und Alice und Bob tauschen $\\alpha$ und $\\beta$ öffentlich aus und berechnen jeder für sich die gemeinsame geheime Zahl $k$ unter Zuhilfenahme der Zahlen $a$ bzw. $b$ mit\n",
    "\n",
    "Alice: $k = \\beta^{a} \\mod p$\n",
    "\n",
    "sowie \n",
    "\n",
    "Bob: $k = \\alpha^{b} \\mod p$"
   ]
  },
  {
   "cell_type": "code",
   "execution_count": null,
   "id": "0b16838e",
   "metadata": {},
   "outputs": [],
   "source": [
    "k1 = pow(base=beta, exp=a, mod=p)\n",
    "k2 = pow(base=alpha, exp=b, mod=p)"
   ]
  },
  {
   "cell_type": "code",
   "execution_count": null,
   "id": "bd06837d",
   "metadata": {},
   "outputs": [],
   "source": [
    "if k1 == k2:\n",
    "    print(\"Die Geheimzahl k ist {}\".format(k1))\n",
    "else:\n",
    "    print(\"Da ist bei der Berechnung etwas schief gelaufen!\")"
   ]
  },
  {
   "cell_type": "markdown",
   "id": "9820897b",
   "metadata": {},
   "source": [
    "Nun können Alice und Bob das geheime $k$ z.B. als Schlüssel für ihre Liebesbotschaften verwenden ... Eve kann nicht mitlesen und alle lebten glücklich bis ans Ende ihrer Tage."
   ]
  },
  {
   "cell_type": "markdown",
   "id": "4670468d",
   "metadata": {},
   "source": [
    "Das funktioniert weil:\n",
    "\n",
    "Bob rechnet: $\\downarrow$\n",
    "\n",
    "$k = \\alpha^{b} \\mod p$\n",
    "\n",
    "$k = (s^{a} \\mod p)^{b} \\mod p$\n",
    "\n",
    "$k = (s^{a})^{b} \\mod p$\n",
    "\n",
    "$k = s^{ab} \\mod p$\n",
    "\n",
    "$k = s^{ba} \\mod p$\n",
    "\n",
    "$k = (s^{b})^{a} \\mod p$\n",
    "\n",
    "$k = (s^{b} \\mod p)^{a} \\mod p$\n",
    "\n",
    "$k = \\beta^{a} \\mod p$\n",
    "\n",
    "Alice rechnet $\\uparrow$"
   ]
  },
  {
   "cell_type": "markdown",
   "id": "fea0ce1e",
   "metadata": {},
   "source": [
    "#### Schlussbemerkung\n",
    "Im Gegensatz zu RSA, wo die Sicherheit auf der Prime-Faktor-Zerlegung beruhte, so beruht die Sicherheit von DH darauf, dass die diskrete Exponentialfunktion \n",
    "\n",
    "$f(a) = s^{a} \\mod p$\n",
    "\n",
    "leicht zu berechnen ist, die Umkehrung - der diskete Logarithmus - jedoch nicht. Das bedeutet, dass man $f(a)$ leicht aus $a$, $s$ und $p$ berechnen kann. Versucht man jedoch aus $f(a), s$ und $p$ das $a$ zu berechnen, so ist dies schwer - Werte für $a$ müssen durchprobiert werden. Man spricht in diesem Zusammenhang auch von einer Einweg- oder Falltürfunktion."
   ]
  }
 ],
 "metadata": {
  "kernelspec": {
   "display_name": "Python 3 (ipykernel)",
   "language": "python",
   "name": "python3"
  },
  "language_info": {
   "codemirror_mode": {
    "name": "ipython",
    "version": 3
   },
   "file_extension": ".py",
   "mimetype": "text/x-python",
   "name": "python",
   "nbconvert_exporter": "python",
   "pygments_lexer": "ipython3",
   "version": "3.9.10"
  },
  "latex_envs": {
   "LaTeX_envs_menu_present": true,
   "autoclose": false,
   "autocomplete": true,
   "bibliofile": "biblio.bib",
   "cite_by": "apalike",
   "current_citInitial": 1,
   "eqLabelWithNumbers": true,
   "eqNumInitial": 1,
   "hotkeys": {
    "equation": "Ctrl-E",
    "itemize": "Ctrl-I"
   },
   "labels_anchors": false,
   "latex_user_defs": false,
   "report_style_numbering": false,
   "user_envs_cfg": false
  },
  "toc": {
   "base_numbering": 1,
   "nav_menu": {},
   "number_sections": true,
   "sideBar": true,
   "skip_h1_title": true,
   "title_cell": "Table of Contents",
   "title_sidebar": "Contents",
   "toc_cell": false,
   "toc_position": {
    "height": "calc(100% - 180px)",
    "left": "10px",
    "top": "150px",
    "width": "219.4px"
   },
   "toc_section_display": true,
   "toc_window_display": true
  },
  "varInspector": {
   "cols": {
    "lenName": 16,
    "lenType": 16,
    "lenVar": 40
   },
   "kernels_config": {
    "python": {
     "delete_cmd_postfix": "",
     "delete_cmd_prefix": "del ",
     "library": "var_list.py",
     "varRefreshCmd": "print(var_dic_list())"
    },
    "r": {
     "delete_cmd_postfix": ") ",
     "delete_cmd_prefix": "rm(",
     "library": "var_list.r",
     "varRefreshCmd": "cat(var_dic_list()) "
    }
   },
   "oldHeight": 432.85,
   "position": {
    "height": "454.83697509765625px",
    "left": "891.9647216796875px",
    "right": "20px",
    "top": "134.98101806640625px",
    "width": "350px"
   },
   "types_to_exclude": [
    "module",
    "function",
    "builtin_function_or_method",
    "instance",
    "_Feature"
   ],
   "varInspector_section_display": "block",
   "window_display": true
  }
 },
 "nbformat": 4,
 "nbformat_minor": 5
}
