{
 "cells": [
  {
   "cell_type": "markdown",
   "id": "fef3318a",
   "metadata": {},
   "source": [
    "# Stellenwertsysteme\n",
    "Die im Alltag gebräuchlichste Basis ist 10, in der Informatik kommt der Basis 2 und 16 besondere Bedeutung zu. Man findet auch die Basis 8."
   ]
  },
  {
   "cell_type": "code",
   "execution_count": null,
   "id": "516347b5",
   "metadata": {},
   "outputs": [],
   "source": [
    "import pandas as pd                 # to handle tables"
   ]
  },
  {
   "cell_type": "code",
   "execution_count": null,
   "id": "ffd12429",
   "metadata": {},
   "outputs": [],
   "source": [
    "start = 0\n",
    "ende = 32\n",
    "\n",
    "basis_10 = list(range(start, ende))\n",
    "basis_2 = list(map(bin, basis_10))\n",
    "basis_8 = list(map(oct, basis_10))\n",
    "basis_16 = list(map(hex, basis_10))\n",
    "\n",
    "zahlen_tabelle = pd.DataFrame(list(zip(basis_10, basis_2, basis_8,basis_16)), columns=['Basis 10','Basis 2','Basis 8','Basis 16'])\n",
    "\n",
    "print(zahlen_tabelle.to_string(index=False))"
   ]
  },
  {
   "cell_type": "code",
   "execution_count": null,
   "id": "cdceff36",
   "metadata": {},
   "outputs": [],
   "source": [
    "basis = 16\n",
    "m = \"{} {}\"\n",
    "for stelle in range(16):\n",
    "    wert = basis**stelle\n",
    "    print(m.format(stelle, wert))"
   ]
  }
 ],
 "metadata": {
  "kernelspec": {
   "display_name": "Python 3 (ipykernel)",
   "language": "python",
   "name": "python3"
  },
  "language_info": {
   "codemirror_mode": {
    "name": "ipython",
    "version": 3
   },
   "file_extension": ".py",
   "mimetype": "text/x-python",
   "name": "python",
   "nbconvert_exporter": "python",
   "pygments_lexer": "ipython3",
   "version": "3.9.9"
  },
  "latex_envs": {
   "LaTeX_envs_menu_present": true,
   "autoclose": false,
   "autocomplete": true,
   "bibliofile": "biblio.bib",
   "cite_by": "apalike",
   "current_citInitial": 1,
   "eqLabelWithNumbers": true,
   "eqNumInitial": 1,
   "hotkeys": {
    "equation": "Ctrl-E",
    "itemize": "Ctrl-I"
   },
   "labels_anchors": false,
   "latex_user_defs": false,
   "report_style_numbering": false,
   "user_envs_cfg": false
  },
  "toc": {
   "base_numbering": 1,
   "nav_menu": {},
   "number_sections": true,
   "sideBar": true,
   "skip_h1_title": false,
   "title_cell": "Table of Contents",
   "title_sidebar": "Contents",
   "toc_cell": false,
   "toc_position": {},
   "toc_section_display": true,
   "toc_window_display": false
  },
  "varInspector": {
   "cols": {
    "lenName": 16,
    "lenType": 16,
    "lenVar": 40
   },
   "kernels_config": {
    "python": {
     "delete_cmd_postfix": "",
     "delete_cmd_prefix": "del ",
     "library": "var_list.py",
     "varRefreshCmd": "print(var_dic_list())"
    },
    "r": {
     "delete_cmd_postfix": ") ",
     "delete_cmd_prefix": "rm(",
     "library": "var_list.r",
     "varRefreshCmd": "cat(var_dic_list()) "
    }
   },
   "types_to_exclude": [
    "module",
    "function",
    "builtin_function_or_method",
    "instance",
    "_Feature"
   ],
   "window_display": false
  }
 },
 "nbformat": 4,
 "nbformat_minor": 5
}
