{
 "cells": [
  {
   "cell_type": "markdown",
   "id": "7c680044",
   "metadata": {},
   "source": [
    "# Wie Sie dieses Notebook nutzen:\n",
    "- Führen Sie diesen Code Zelle für Zelle aus, indem Sie den \"Run\"-Knopf klicken oder \"CTRL + Enter\" drücken.\n",
    "- Um die Variableninhalte zu beobachten, nutzen Sie in Jupyter-Classic den \"Variable Inspektor\". Falls Sie dieses Notebook in Jupyter-Lab verwenden, nutzen Sie hierfür den eingebauten Debugger.\n",
    "- Die Dokumentation von ```range(), len()``` und allen anderen eingebauten Funktionen finden Sie hier: https://docs.python.org/3/library/functions.html\n",
    "- Der [Spickzettel](https://rocco.melzian.ch/archiv/www.jython.ch/download/spickzettel.pdf) leistet vielfach gute Dienste\n",
    "- Wenn Sie \"Code Tutor\" zur Visualisierung des Ablaufes einzelner Zellen oder Schleifen nutzen möchten, führen Sie einmalig die nachfolgende Zelle aus. Anschliessend schreiben Sie %%tutor in die erste Zeile jeder Zelle, die Sie visualisieren möchten."
   ]
  },
  {
   "cell_type": "code",
   "execution_count": null,
   "id": "bb4268a2",
   "metadata": {},
   "outputs": [],
   "source": [
    "# Für Code Tutor Visualisierungen\n",
    "from metakernel import register_ipython_magics\n",
    "register_ipython_magics()"
   ]
  },
  {
   "cell_type": "markdown",
   "id": "198f5753",
   "metadata": {},
   "source": [
    "## Dictionaries\n",
    "\n",
    "Dictionaries (oder Wörterbücher) speichern Schlüssel-Wert-Paare.\n",
    "\n",
    "### Beispiel Notenliste\n",
    "Nehmen wir an eine Lehrkraft möchte die Noten seiner Klasse in Listen speichern. Dann könnte dies für 4 Schülerinnen zum Beispiel so aussehen:\n",
    "\n",
    "```python\n",
    "noten = [4, 5, 5.5, 6]\n",
    "```\n",
    "\n",
    "Damit die Lehrkraft auch weiss, welche Person zu welcher Note gehört, könnte sie auch noch die Namen in einer Liste speichern:\n",
    "\n",
    "```python\n",
    "namen =[\"Hannah\", \"Violet\", \"Betty\", \"Delilah\"]\n",
    "```\n",
    "\n",
    "Damit könnte ein mögliches Programm so aussehen: "
   ]
  },
  {
   "cell_type": "code",
   "execution_count": null,
   "id": "e99ae34a",
   "metadata": {},
   "outputs": [],
   "source": [
    "#%%tutor\n",
    "\n",
    "noten = [4, 5, 5.5, 6]\n",
    "namen = [\"Hannah\", \"Violet\", \"Betty\", \"Delilah\"]\n",
    "\n",
    "anzahl = len(noten)\n",
    "total = sum(noten)\n",
    "durchschnitt = total / anzahl\n",
    "\n",
    "ausgabe = \"Die Note von {} lautet: {}\"\n",
    "for i in range(anzahl):\n",
    "    print(ausgabe.format(namen[i], noten[i]))\n",
    "\n",
    "print(\"Klassendurchschnitt: {:.1f}\".format(durchschnitt))"
   ]
  },
  {
   "cell_type": "markdown",
   "id": "145ef9b9",
   "metadata": {},
   "source": [
    "Dies ist aber recht umständlich. Möchte die Lehrkraft die Note von Betty nachschauen, muss sie zuerst den Index von Betty in der Liste ```namen``` suchen und dann das entsprechende Element aus der Liste ```noten``` ausgeben:"
   ]
  },
  {
   "cell_type": "code",
   "execution_count": null,
   "id": "f4c2a75d",
   "metadata": {},
   "outputs": [],
   "source": [
    "print(noten[namen.index(\"Betty\")])"
   ]
  },
  {
   "cell_type": "markdown",
   "id": "3ce6d368",
   "metadata": {},
   "source": [
    "Viel angenehmer wäre ein Befehl à la ```noten[\"Betty\"]```. Dies geht in Python mit Dictionaries. \n",
    "Ein Dictionary besteht aus einer Menge von Schlüssel-Werte-Paaren. \n",
    "\n",
    "In unserem Falle würde dies folgendermassen aussehen:"
   ]
  },
  {
   "cell_type": "code",
   "execution_count": null,
   "id": "ee026da9",
   "metadata": {},
   "outputs": [],
   "source": [
    "noten_dict = {\"Hannah\": 4, \"Violet\": 5, \"Betty\": 5.5, \"Delilah\": 6}"
   ]
  },
  {
   "cell_type": "markdown",
   "id": "65c62e70",
   "metadata": {},
   "source": [
    "Beachten Sie, dass die Klammern geschweift sind.\n",
    "\n",
    "Dabei werden die jeweils ersten Einträge (in unserem Beispiel ``` \"Hannah\", \"Violet\", \"Betty\", \"Delilah\"```) als Schlüssel bezeichnet, die zweiten Einträge (im Beispiel ```4, 5, 5.5, 6```) als Werte.\n",
    "\n",
    "Während in einer Liste nur Integer-Werte als Indizes verwendet werden können (z.B. ``` li[2], li[-3]```), können in einem Dictionary auch andere Objekte als Indizes verwendet werden, zum Beispiel Strings.\n",
    "\n",
    "Nun macht auch der Befehl"
   ]
  },
  {
   "cell_type": "code",
   "execution_count": null,
   "id": "10f52cf4",
   "metadata": {},
   "outputs": [],
   "source": [
    "print(noten_dict[\"Hannah\"])"
   ]
  },
  {
   "cell_type": "markdown",
   "id": "0e520e42",
   "metadata": {},
   "source": [
    "Sinn und liefert die Ausgabe 4.\n",
    "\n",
    "Auch bei dictonaries sind for-Schleifen möglich. So liefert die Schleife"
   ]
  },
  {
   "cell_type": "code",
   "execution_count": null,
   "id": "8ddf5b99",
   "metadata": {},
   "outputs": [],
   "source": [
    "for x in noten_dict.keys():\n",
    "    print(x)"
   ]
  },
  {
   "cell_type": "markdown",
   "id": "894dcc6a",
   "metadata": {},
   "source": [
    "die erwartete Ausgabe der Schlüssel (```keys```). Die Werte (```values```) können mit der folgenden Schleife ausgegeben werden:"
   ]
  },
  {
   "cell_type": "code",
   "execution_count": null,
   "id": "cbdf7e51",
   "metadata": {},
   "outputs": [],
   "source": [
    "for x in noten_dict.values():\n",
    "    print(x)"
   ]
  },
  {
   "cell_type": "markdown",
   "id": "332937f9",
   "metadata": {},
   "source": [
    "Sollen die Schlüssel UND die Werte ausgegeben werden, kann die ```items()```-Funktion verwendet werden."
   ]
  },
  {
   "cell_type": "code",
   "execution_count": null,
   "id": "a3b1ab01",
   "metadata": {},
   "outputs": [],
   "source": [
    "for name, note in noten_dict.items():\n",
    "    print(name, note) "
   ]
  },
  {
   "cell_type": "markdown",
   "id": "bd3c74fd",
   "metadata": {},
   "source": [
    "Die Länge eines Dictionary kann, genau gleich wie bei Listen und Strings, mit ```len()``` bestimmt werden:"
   ]
  },
  {
   "cell_type": "code",
   "execution_count": null,
   "id": "09b48858",
   "metadata": {},
   "outputs": [],
   "source": [
    "print(len(noten_dict)) "
   ]
  },
  {
   "cell_type": "markdown",
   "id": "35f8eadb",
   "metadata": {},
   "source": [
    "Ein neues Schlüssel-Werte-Paar kann wie folgt hinzugefügt werden:"
   ]
  },
  {
   "cell_type": "code",
   "execution_count": null,
   "id": "241401c2",
   "metadata": {},
   "outputs": [],
   "source": [
    "noten_dict[\"Braga\"]=3"
   ]
  },
  {
   "cell_type": "markdown",
   "id": "10fa4df3",
   "metadata": {},
   "source": [
    "Mit ```print(dict_name)``` erzeugen wir die Ausgabe des gesamten Dictionary."
   ]
  },
  {
   "cell_type": "code",
   "execution_count": null,
   "id": "9b178b90",
   "metadata": {},
   "outputs": [],
   "source": [
    "print(noten_dict)"
   ]
  },
  {
   "cell_type": "markdown",
   "id": "42d0dccf",
   "metadata": {},
   "source": [
    "In einem Dictionary darf jeder Schlüssel nur einmal vorkommen, Werte hingegen mehrmals. Wird ein existierenden Schlüssel-Werte-Paar mit einem bereits existierenden Schlüssel hinzugefügt, wird der alte Eintrag überschrieben. So sieht unsere Liste nach der Eingabe von"
   ]
  },
  {
   "cell_type": "code",
   "execution_count": null,
   "id": "cb40d5aa",
   "metadata": {},
   "outputs": [],
   "source": [
    "noten_dict[\"Braga\"] = 4"
   ]
  },
  {
   "cell_type": "markdown",
   "id": "06201ba9",
   "metadata": {},
   "source": [
    "folgendermassen aus:"
   ]
  },
  {
   "cell_type": "code",
   "execution_count": null,
   "id": "0719fba9",
   "metadata": {},
   "outputs": [],
   "source": [
    "print(noten_dict)"
   ]
  },
  {
   "cell_type": "markdown",
   "id": "adf8dbb8",
   "metadata": {},
   "source": [
    "### Aufgabe Passwörter\n",
    "\n",
    "- Was genau macht das folgende Programm.\n",
    "- Mit welchen Eingaben bekommt man die Ausgabe \"Anmeldung erfolgreich\"? Mit welchen \"Passwort ist falsch\"?\n",
    "- Gehen Sie den nachfolgenden Code Schritt für Schritt im Debugger durch"
   ]
  },
  {
   "cell_type": "code",
   "execution_count": null,
   "id": "bb831c45",
   "metadata": {},
   "outputs": [],
   "source": [
    "passwoerter = {\"Hans\": \"1234\", \"Lorelei\": \"$aUerR4hm\", \"Claudia\": \"W4nD3rCeerKUSS\"}\n",
    "\n",
    "name = input(\"Gib deinen Namen ein: \")\n",
    "\n",
    "if name in passwoerter:\n",
    "    pw = input(\"Gib dein Passwort ein: \")\n",
    "    pw = str(pw)\n",
    "    if pw == passwoerter[name]:\n",
    "        print(\"Anmeldung erfolgreich!\")\n",
    "    else:\n",
    "        print(\"Passwort ist falsch!\")\n",
    "else:\n",
    "    print(\"Dein Name ist nicht in der Liste.\")"
   ]
  },
  {
   "cell_type": "markdown",
   "id": "0b421c14",
   "metadata": {},
   "source": [
    "### Aufgabe Farbige Dreiecke\n",
    "- Was macht das folgende Programm?\n",
    "- Warum genau wird der Modulo-Operator (%) verwendet? \n",
    "\n",
    "Nutzen Sie zur Analyse den Debugger im Einzelschrittmodus.\n",
    "\n",
    "```python\n",
    "from gturtle import *\n",
    "def dreieck(farbe):\n",
    "    setFillColor(farbe)\n",
    "    startPath()\n",
    "    repeat 3:\n",
    "        fd(50)\n",
    "        rt(120)\n",
    "    fillPath()\n",
    "    \n",
    "makeTurtle()\n",
    "ht()\n",
    "farben = {0: \"red\", 1: \"green\", 2: \"blue\"}\n",
    "for i in range(6):\n",
    "    dreieck(farben[i % 3])\n",
    "    rt(60)\n",
    "```"
   ]
  },
  {
   "attachments": {
    "fahnen.png": {
     "image/png": "[encoded data removed]"
    }
   },
   "cell_type": "markdown",
   "id": "a7353817",
   "metadata": {},
   "source": [
    "### Aufgabe Mehr farbige Dreiecke\n",
    "\n",
    "Schreiben Sie in TigerJython ein Programm, welches die folgende Figur zeichnet. Benutzen Sie als Grundlage das Programm aus der vorhergehenden Aufgabe, beachten Sie aber, dass die Seitenlänge der Dreieck nun 20 Pixel beträgt.\n",
    "\n",
    "![fahnen.png](attachment:fahnen.png)"
   ]
  },
  {
   "cell_type": "markdown",
   "id": "a6fd3881",
   "metadata": {},
   "source": [
    "### Aufgabe DE/EN Wörterbuch\n",
    "Erstellen Sie ein kleines Wörterbuch deutsch-englisch als Dictonary mit ca. 10 Einträgen (mindestens 2 davon sollten auf deutsch mit \"R\" beginnen) und schreiben Sie ein Programm, welches alle Schlüssel-Wert-Paare ausgibt, deren Schlüssel (deutsches Wort) mit dem Buchstaben \"R\" beginnt."
   ]
  },
  {
   "cell_type": "code",
   "execution_count": null,
   "id": "a3bb8ece",
   "metadata": {},
   "outputs": [],
   "source": [
    "# Ihre Lösung"
   ]
  },
  {
   "cell_type": "markdown",
   "id": "481b78fc",
   "metadata": {},
   "source": [
    "### Aufgabe Dict Comprehension\n",
    "Wie bei Listen können auch bei Dictionaries Comprehensions verwendet werden - man spricht von \"Dict Comprehensions\".\n",
    "\n",
    "- Wie sieht das folgende Dictionary aus. Beantworten Sie die Frage zuerst ohne Computer und überprüfen Sie dann mit einem print-Befehl."
   ]
  },
  {
   "cell_type": "code",
   "execution_count": null,
   "id": "d575ee04",
   "metadata": {},
   "outputs": [],
   "source": [
    "li1 = {x: x*x for x in range(1,10)}\n",
    "print(li1)"
   ]
  },
  {
   "cell_type": "markdown",
   "id": "f8480592",
   "metadata": {},
   "source": [
    "- Wie sieht das folgende Dictionary aus. Beantworten Sie die Frage zuerst ohne Computer und überprüfen Sie dann mit einem print-Befehl.\n",
    "\n"
   ]
  },
  {
   "cell_type": "code",
   "execution_count": null,
   "id": "ea49ea17",
   "metadata": {},
   "outputs": [],
   "source": [
    "li2 = {b: len(b) for b in [\"hallo\", \"velo\", \"haus\", \"garten\"]}\n",
    "print(li2)"
   ]
  },
  {
   "cell_type": "markdown",
   "id": "4a4e2264",
   "metadata": {},
   "source": [
    "- Erzeugen Sie das folgende Dictionary mit einer Dict Comprehension:\n",
    "\n",
    "```python\n",
    "{1: 2, 2: 4, 3: 6, 4: 8, 5: 10, 6: 12}\n",
    "```"
   ]
  },
  {
   "cell_type": "code",
   "execution_count": null,
   "id": "9895366d",
   "metadata": {},
   "outputs": [],
   "source": [
    "li3 = ...\n",
    "print(li3)"
   ]
  },
  {
   "cell_type": "markdown",
   "id": "986f0f37",
   "metadata": {},
   "source": [
    "### Aufgabe Wort- und Buchstabenhäufigkeiten\n",
    "Vorbereitung: Download einer txt-Datei."
   ]
  },
  {
   "cell_type": "code",
   "execution_count": null,
   "id": "d6f615d8",
   "metadata": {},
   "outputs": [],
   "source": [
    "import requests\n",
    "\n",
    "# Goethe: Faust: Der Tragödie erster Teil\n",
    "url = 'https://gutenberg.org/files/2229/2229-0.txt'\n",
    "datei_encoding = 'utf-8'\n",
    "lokale_datei = 'input.txt'\n",
    "\n",
    "with requests.get(url) as response:    # Datei von webseite laden\n",
    "    with open(lokale_datei, 'w', encoding=datei_encoding) as output: # und in Datei abspeichern\n",
    "        output.write(response.content.decode(datei_encoding))"
   ]
  },
  {
   "cell_type": "markdown",
   "id": "b6e73f2e",
   "metadata": {},
   "source": [
    "Tipp: Sie können folgendermassen durch einen String itterieren:\n",
    "\n",
    "```python\n",
    "for buchstabe in \"hier steht ein string\":\n",
    "    print(buchstabe)\n",
    "```\n",
    "\n",
    "Der folgende Code zählt die Häufigkeit von Wörtern in Textdateien. Erweitern Sie den Code so, dass auch die Häufigkeit von Buchstaben gezählt wird. Geben Sie die Buchstaben nach Häufigkeit absteigend sortiert aus."
   ]
  },
  {
   "cell_type": "code",
   "execution_count": null,
   "id": "a9f5dda7",
   "metadata": {},
   "outputs": [],
   "source": [
    "satzzeichen = [\".\", \",\", \";\", \"!\", \"?\"]\n",
    "woerterzaehler = {}\n",
    "\n",
    "with open(lokale_datei, encoding=datei_encoding) as text_datei: # Datei öffnen\n",
    "    for zeile in text_datei:                                    # und jede Zeile\n",
    "        woerter = zeile.split()                                 # in Einzelwörter aufspalten (gibt Liste der Wörter einer Zeile)\n",
    "        for wort in woerter:                 # Wörter-Liste einer Zeile itterieren\n",
    "            wort = wort.lower()              # in Kleinbuchstaben umwandeln\n",
    "            for s in satzzeichen:            # evtl. Satzzeichen entfernen\n",
    "                wort = wort.removesuffix(s)\n",
    "            if wort in woerterzaehler:       # bestehenden Eintrag um 1 hochzählen\n",
    "                woerterzaehler[wort] += 1\n",
    "            else:\n",
    "                woerterzaehler[wort] = 1     # oder neuen Eintrag anlegen\n",
    "\n",
    "# Wörter sortiert nach Häufigkeit ausgeben\n",
    "ausgabe = \"{} : {}\"\n",
    "for wort in sorted(woerterzaehler, key=woerterzaehler.get, reverse=True):\n",
    "    print(ausgabe.format(wort, woerterzaehler[wort]))"
   ]
  }
 ],
 "metadata": {
  "kernelspec": {
   "display_name": "Python 3 (ipykernel)",
   "language": "python",
   "name": "python3"
  },
  "language_info": {
   "codemirror_mode": {
    "name": "ipython",
    "version": 3
   },
   "file_extension": ".py",
   "mimetype": "text/x-python",
   "name": "python",
   "nbconvert_exporter": "python",
   "pygments_lexer": "ipython3",
   "version": "3.9.10"
  },
  "latex_envs": {
   "LaTeX_envs_menu_present": true,
   "autoclose": false,
   "autocomplete": true,
   "bibliofile": "biblio.bib",
   "cite_by": "apalike",
   "current_citInitial": 1,
   "eqLabelWithNumbers": true,
   "eqNumInitial": 1,
   "hotkeys": {
    "equation": "Ctrl-E",
    "itemize": "Ctrl-I"
   },
   "labels_anchors": false,
   "latex_user_defs": false,
   "report_style_numbering": false,
   "user_envs_cfg": false
  },
  "toc": {
   "base_numbering": 1,
   "nav_menu": {},
   "number_sections": true,
   "sideBar": true,
   "skip_h1_title": true,
   "title_cell": "Table of Contents",
   "title_sidebar": "Contents",
   "toc_cell": false,
   "toc_position": {},
   "toc_section_display": true,
   "toc_window_display": false
  },
  "varInspector": {
   "cols": {
    "lenName": 16,
    "lenType": 16,
    "lenVar": 40
   },
   "kernels_config": {
    "python": {
     "delete_cmd_postfix": "",
     "delete_cmd_prefix": "del ",
     "library": "var_list.py",
     "varRefreshCmd": "print(var_dic_list())"
    },
    "r": {
     "delete_cmd_postfix": ") ",
     "delete_cmd_prefix": "rm(",
     "library": "var_list.r",
     "varRefreshCmd": "cat(var_dic_list()) "
    }
   },
   "position": {
    "height": "415.85px",
    "left": "880px",
    "right": "20px",
    "top": "120px",
    "width": "350px"
   },
   "types_to_exclude": [
    "module",
    "function",
    "builtin_function_or_method",
    "instance",
    "_Feature"
   ],
   "window_display": false
  }
 },
 "nbformat": 4,
 "nbformat_minor": 5
}
