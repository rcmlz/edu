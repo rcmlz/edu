{
 "cells": [
  {
   "cell_type": "markdown",
   "id": "a055708b-7c69-4618-8c1b-1588d4850218",
   "metadata": {},
   "source": [
    "# Wie Sie dieses Notebook nutzen:\n",
    "- Führen Sie diesen Code Zelle für Zelle aus.\n",
    "- Um die Variableninhalte zu beobachten, nutzen Sie in Jupyter-Classic den \"Variable Inspektor\". Falls Sie dieses Notebook in Jupyter-Lab verwenden, nutzen Sie hierfür den eingebauten Debugger.\n",
    "- Wenn Sie \"Code Tutor\" zur Visualisierung des Ablaufes einzelner Zellen nutzen möchten, führen Sie einmalig die nachfolgende Zelle aus. Anschliessend schreiben Sie %%tutor in die erste Zeile jeder Zelle, die Sie visualisieren möchten.\n",
    "- Die Dokumentation von range(), len() und allen anderen eingebauten Funktionen finden Sie hier: https://docs.python.org/3/library/functions.html"
   ]
  },
  {
   "cell_type": "code",
   "execution_count": null,
   "id": "f35aaaad",
   "metadata": {},
   "outputs": [],
   "source": [
    "# Für Code Tutor Visualisierungen\n",
    "from metakernel import register_ipython_magics\n",
    "register_ipython_magics()"
   ]
  },
  {
   "cell_type": "markdown",
   "id": "47552f43-0cfc-4c52-b0dd-79de4fa5d809",
   "metadata": {},
   "source": [
    "## Listen"
   ]
  },
  {
   "cell_type": "markdown",
   "id": "2faeaaeb",
   "metadata": {},
   "source": [
    "[Listen](https://docs.python.org/3/tutorial/datastructures.html#more-on-lists) werden, ähnlich wie einfache Variablen, durch Zuweisung mittels \"=\" und []-Klammern erzeugt."
   ]
  },
  {
   "cell_type": "code",
   "execution_count": null,
   "id": "f3b5a70c-f1d8-4058-b534-3fdef5c55263",
   "metadata": {},
   "outputs": [],
   "source": [
    "alist = [1, 2, 3, 4]\n",
    "print(alist)\n",
    "alist.index()"
   ]
  },
  {
   "cell_type": "markdown",
   "id": "65c9ecef",
   "metadata": {},
   "source": [
    "oder können auch aus einer [range()](https://docs.python.org/3/library/stdtypes.html#typesseq-range)"
   ]
  },
  {
   "cell_type": "code",
   "execution_count": null,
   "id": "15b7271e",
   "metadata": {},
   "outputs": [],
   "source": [
    "alist = list(range(3))\n",
    "print(alist)"
   ]
  },
  {
   "cell_type": "markdown",
   "id": "afd1e2b9",
   "metadata": {},
   "source": [
    "oder aus Zeichenketten"
   ]
  },
  {
   "cell_type": "code",
   "execution_count": null,
   "id": "ff756591",
   "metadata": {},
   "outputs": [],
   "source": [
    "astring = \"Timbuktu\"\n",
    "list_from_string = list(astring)\n",
    "print(list_from_string)"
   ]
  },
  {
   "cell_type": "markdown",
   "id": "f3b96850",
   "metadata": {},
   "source": [
    "oder als leere Liste erzeugt werden."
   ]
  },
  {
   "cell_type": "code",
   "execution_count": null,
   "id": "c9de80f1",
   "metadata": {},
   "outputs": [],
   "source": [
    "an_empty_list = []\n",
    "print(an_empty_list)"
   ]
  },
  {
   "cell_type": "markdown",
   "id": "c1925908",
   "metadata": {},
   "source": [
    "### Elemente von Listen\n",
    "Die Anzahl der Elemente lässt sich mit [len()](https://docs.python.org/3/library/functions.html#len) bestimmen"
   ]
  },
  {
   "cell_type": "code",
   "execution_count": null,
   "id": "28fe35a6",
   "metadata": {},
   "outputs": [],
   "source": [
    "anzahl_elemente = len(alist)\n",
    "print(anzahl_elemente)"
   ]
  },
  {
   "cell_type": "markdown",
   "id": "a3c4789c",
   "metadata": {},
   "source": [
    "Das erste Element hat den Index 0, das zweite Element den Index 1 etc. Das letzte Element hat den Index -1, das vorletzte Element -2 etc."
   ]
  },
  {
   "cell_type": "code",
   "execution_count": null,
   "id": "5731434a",
   "metadata": {},
   "outputs": [],
   "source": [
    "print(alist[0])\n",
    "print(alist[1])\n",
    "print(alist[2])\n",
    "print(alist[-1])\n",
    "print(alist[-2])\n",
    "print(alist[-3])"
   ]
  },
  {
   "cell_type": "markdown",
   "id": "c85d0a3a",
   "metadata": {},
   "source": [
    "Elemente einer Liste können gelesen und geändert werden, indem man ihren Index innerhalb von [] aufruft."
   ]
  },
  {
   "cell_type": "code",
   "execution_count": null,
   "id": "5034289b",
   "metadata": {},
   "outputs": [],
   "source": [
    "print(alist)\n",
    "alist[1] = 9.34\n",
    "print(alist)"
   ]
  },
  {
   "cell_type": "code",
   "execution_count": null,
   "id": "77ecccc7",
   "metadata": {},
   "outputs": [],
   "source": [
    "alist[2] = 'grün'\n",
    "print(alist)"
   ]
  },
  {
   "cell_type": "markdown",
   "id": "9537ba59",
   "metadata": {},
   "source": [
    "Listen können selbst wieder Listen als Elemente enthalten - Listen lassen sich also verschachteln."
   ]
  },
  {
   "cell_type": "code",
   "execution_count": null,
   "id": "eabc465d",
   "metadata": {},
   "outputs": [],
   "source": [
    "alist[0] = ['gelb','rot','blau']\n",
    "alist[1] = ['lila','orange','schwarz']\n",
    "print(alist)"
   ]
  },
  {
   "cell_type": "markdown",
   "id": "306d2975",
   "metadata": {},
   "source": [
    "Untermengen von Listen werden mit \":\" und start/end-Index definiert."
   ]
  },
  {
   "cell_type": "code",
   "execution_count": null,
   "id": "03591044",
   "metadata": {},
   "outputs": [],
   "source": [
    "print(alist[1:3])"
   ]
  },
  {
   "cell_type": "markdown",
   "id": "75a194d9",
   "metadata": {},
   "source": [
    "Mit der von [range()](https://docs.python.org/3/library/stdtypes.html#typesseq-range) bekannten (start,stop,step)-Logik, lassen sich auch kompliziertere Teilmengen spezifizieren."
   ]
  },
  {
   "cell_type": "code",
   "execution_count": null,
   "id": "2cfbf3b8",
   "metadata": {},
   "outputs": [],
   "source": [
    "alist = ['a', 'b', 'c', 'd', 'e']\n",
    "print(alist[1:4:2])"
   ]
  },
  {
   "cell_type": "markdown",
   "id": "1a897845",
   "metadata": {},
   "source": [
    "Viele Standardfunktionen wie min(), max() etc. funktionieren mit Listen wie erwartet."
   ]
  },
  {
   "cell_type": "code",
   "execution_count": null,
   "id": "a31dbc3e",
   "metadata": {},
   "outputs": [],
   "source": [
    "alist = [10, 20, 30, 40]\n",
    "print(min(alist))"
   ]
  },
  {
   "cell_type": "markdown",
   "id": "9b4ed1c2",
   "metadata": {},
   "source": [
    "Ob ein bestimmtes Element in einer Liste vorhanden ist, lässt sich leicht feststellen:"
   ]
  },
  {
   "cell_type": "code",
   "execution_count": null,
   "id": "200bfcfa",
   "metadata": {},
   "outputs": [],
   "source": [
    "msg = \"Ist {} eine Element von {}? {}\"\n",
    "\n",
    "gesuchtes_element = 10\n",
    "vorhanden = gesuchtes_element in alist\n",
    "print(msg.format(gesuchtes_element, alist, vorhanden))\n",
    "\n",
    "gesuchtes_element = 11\n",
    "vorhanden = gesuchtes_element in alist\n",
    "print(msg.format(gesuchtes_element, alist, vorhanden))"
   ]
  },
  {
   "cell_type": "markdown",
   "id": "bccabd1d-68d8-406e-a8ff-45b1d76fc8ba",
   "metadata": {},
   "source": [
    "### Listen iterieren\n",
    "Über Listen kann mit for-Schleifen iteriert werden, so dass alle Elemente der Liste der Reihe nach verarbeitet werden. (Die Nachfolgende Zelle ist ein guter Kandidat für %%tutor ... dann sehen Sie, was in jedem Durchlau passiert. Entfernen sie das # vor %%tutor!)"
   ]
  },
  {
   "cell_type": "code",
   "execution_count": null,
   "id": "3c62eb2e-a3bd-4bc8-a220-96b23d956091",
   "metadata": {},
   "outputs": [],
   "source": [
    "%%tutor\n",
    "alist = [\"rot\", \"grün\", \"blau\", \"gelb\"]\n",
    "for element in alist:\n",
    "    print(element)"
   ]
  },
  {
   "cell_type": "code",
   "execution_count": null,
   "id": "3119672e",
   "metadata": {},
   "outputs": [],
   "source": [
    "%%tutor\n",
    "alist = [\"rot\", \"grün\", \"blau\", \"gelb\"]\n",
    "i = 0\n",
    "n = len(alist)\n",
    "while i < n:\n",
    "    print(alist[i])\n",
    "    i = i + 1"
   ]
  },
  {
   "cell_type": "markdown",
   "id": "ced5b981",
   "metadata": {},
   "source": [
    "Das Konstrukt\n",
    "\n",
    "```python\n",
    "for index, item in enumerate(<list>):\n",
    "    ...\n",
    "```\n",
    "wird verwendet, wenn sowohl Index als auch Wert jedes Listenelements benötigt wird."
   ]
  },
  {
   "cell_type": "code",
   "execution_count": null,
   "id": "8e9a6459",
   "metadata": {},
   "outputs": [],
   "source": [
    "alist = [\"rot\", \"grün\", \"blau\", \"gelb\"]\n",
    "for index, element in enumerate(alist):\n",
    "    print(\"Index: {} Wert: {}\".format(index, element))"
   ]
  },
  {
   "cell_type": "markdown",
   "id": "53bdebbc",
   "metadata": {},
   "source": [
    "Um die Anzahl Vorkommen eines Elements zu bestimmen, wird .count() verwendet."
   ]
  },
  {
   "cell_type": "code",
   "execution_count": null,
   "id": "6e26630f",
   "metadata": {},
   "outputs": [],
   "source": [
    "alist = [\"rot\", \"rot\", \"grün\", \"gelb\"]\n",
    "print(alist.count(\"rot\"))\n",
    "print(alist.count(\"grün\"))\n",
    "print(alist.count(\"lila\"))"
   ]
  },
  {
   "cell_type": "markdown",
   "id": "8aaf5bb8",
   "metadata": {},
   "source": [
    "### Listen als Funktionsparameter\n",
    "Wenn Listen, die als Parameter bei einem Funktionsaufruf übergeben wurden, mit Methoden wie .append(), .pop() etc. verändert werden, wird immer die Originalliste verändert. Wenn dies nicht gewünscht ist, muss mittels <list>.copy() eine vollständige Kopie oder <list>[start:stop:step] eine Teilkopie erzeugt werden."
   ]
  },
  {
   "cell_type": "code",
   "execution_count": null,
   "id": "44486c98",
   "metadata": {},
   "outputs": [],
   "source": [
    "alist = [\"rot\", \"grün\", \"blau\", \"gelb\"]\n",
    "\n",
    "def letzten_eintrag_loeschen(eine_liste):\n",
    "    wert = eine_liste.pop()\n",
    "    print(wert)\n",
    "    \n",
    "print(alist)\n",
    "letzten_eintrag_loeschen(alist)\n",
    "print(alist)"
   ]
  },
  {
   "cell_type": "code",
   "execution_count": null,
   "id": "3f5a5285",
   "metadata": {},
   "outputs": [],
   "source": [
    "alist = [\"rot\", \"grün\", \"blau\", \"gelb\"]\n",
    "\n",
    "def letzten_eintrag_loeschen(eine_liste):\n",
    "    eine_kopie = eine_liste.copy()\n",
    "    wert = eine_kopie.pop()\n",
    "    print(wert)\n",
    "    \n",
    "print(alist)\n",
    "letzten_eintrag_loeschen(alist)\n",
    "print(alist)"
   ]
  },
  {
   "cell_type": "code",
   "execution_count": null,
   "id": "9bfa67ce",
   "metadata": {},
   "outputs": [],
   "source": [
    "alist = [\"rot\", \"grün\", \"blau\", \"gelb\"]\n",
    "\n",
    "def letzten_eintrag_loeschen(eine_liste):\n",
    "    eine_kopie = eine_liste[1:2:3]\n",
    "    print(eine_kopie)\n",
    "    wert = eine_kopie.pop()\n",
    "    print(eine_kopie)\n",
    "    \n",
    "print(alist)\n",
    "letzten_eintrag_loeschen(alist)\n",
    "print(alist)"
   ]
  },
  {
   "cell_type": "markdown",
   "id": "5189acb5",
   "metadata": {},
   "source": [
    "### Listenoperationen\n",
    "\n",
    "- li = [1, 2, 3, 4]\tListe mit den Zahlen 1, 2, 3, 4 definieren\n",
    "- li = [1, \"a\", [7 , 5]]\tListe mit unterschiedlichen Datentypen definieren \n",
    "- li[i]\tAuf Listenelement mit Index i zugreifen, 0: erstes Element, 1: zweites Element, -1: letztes Element,-2: vorletztes Element\n",
    "- li[start:end]\tNeue Teilliste mit Elementen start bis end,  aber ohne end\n",
    "- li[start:end:step]\tNeue Teilliste mit Elementen start bis end mit Schritt step\n",
    "- li[start:]\tNeue Teilliste mit allen Elementen von start an\n",
    "- li[:end]\tNeue Teilliste von ersten Element bis end, aber ohne end\n",
    "- li.append(element)\tAnfügen ans Ende \n",
    "- li.insert(i, element)\tEinfügen an Stelle i (Element i rutscht nach rechts)\n",
    "- li.extend(li2)\tElemente aus li2 anfügen (Konkatenation)\n",
    "- li.index(element)\tSucht das erste Vorkommen und gibt dessen Index zurück\n",
    "- li.pop(i)\tEntfernt das Element mit Index i und gibt es zurück\n",
    "- li.pop()\tEntfernt das letzte Element und gibt es zurück\n",
    "- li1 + li2\tGibt die Konkatenation von li1 und li2 in neuer Liste zurück\n",
    "- li1 += li2\tErsetzt li1 durch die Konkatenation von li1 und li2\n",
    "- li * 4\tNeue Liste mit Elementen von li viermal wiederholt\n",
    "- [0] * 4\tNeue Liste mit der Länge 4 (jedes Element Zahl 0)\n",
    "- len(li)\tGibt die Anzahl Listenelemente zurück\n",
    "- del li[i]\tEntfernt das Element mit Index i \n",
    "- del li[start:end]\tEntfernt alle Elemente von start bis end, aber ohne end \n",
    "- del li[:]\tEntfernt alle Elemente, es bleibt eine leere Liste\n",
    "- li.reverse() \tKehrt die Liste um (letztes Element wird das erste)\n",
    "- li.sort() \tSortiert die Liste (Vergleich mit Standardverfahren) \n",
    "- x in li\tGibt True zurück, falls x in der Liste enthalten ist\n",
    "- x not in li\tGibt True zurück, falls x nicht in der Liste enthalten ist"
   ]
  }
 ],
 "metadata": {
  "kernelspec": {
   "display_name": "Python 3 (ipykernel)",
   "language": "python",
   "name": "python3"
  },
  "language_info": {
   "codemirror_mode": {
    "name": "ipython",
    "version": 3
   },
   "file_extension": ".py",
   "mimetype": "text/x-python",
   "name": "python",
   "nbconvert_exporter": "python",
   "pygments_lexer": "ipython3",
   "version": "3.9.9"
  },
  "latex_envs": {
   "LaTeX_envs_menu_present": true,
   "autoclose": false,
   "autocomplete": true,
   "bibliofile": "biblio.bib",
   "cite_by": "apalike",
   "current_citInitial": 1,
   "eqLabelWithNumbers": true,
   "eqNumInitial": 1,
   "hotkeys": {
    "equation": "Ctrl-E",
    "itemize": "Ctrl-I"
   },
   "labels_anchors": false,
   "latex_user_defs": false,
   "report_style_numbering": false,
   "user_envs_cfg": false
  },
  "toc": {
   "base_numbering": 1,
   "nav_menu": {},
   "number_sections": true,
   "sideBar": true,
   "skip_h1_title": true,
   "title_cell": "Table of Contents",
   "title_sidebar": "Contents",
   "toc_cell": false,
   "toc_position": {},
   "toc_section_display": true,
   "toc_window_display": true
  },
  "varInspector": {
   "cols": {
    "lenName": 16,
    "lenType": 16,
    "lenVar": 40
   },
   "kernels_config": {
    "python": {
     "delete_cmd_postfix": "",
     "delete_cmd_prefix": "del ",
     "library": "var_list.py",
     "varRefreshCmd": "print(var_dic_list())"
    },
    "r": {
     "delete_cmd_postfix": ") ",
     "delete_cmd_prefix": "rm(",
     "library": "var_list.r",
     "varRefreshCmd": "cat(var_dic_list()) "
    }
   },
   "types_to_exclude": [
    "module",
    "function",
    "builtin_function_or_method",
    "instance",
    "_Feature"
   ],
   "window_display": false
  }
 },
 "nbformat": 4,
 "nbformat_minor": 5
}
