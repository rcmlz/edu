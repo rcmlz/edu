{
 "cells": [
  {
   "cell_type": "markdown",
   "id": "241a11d8",
   "metadata": {},
   "source": [
    "https://github.com/mkrphys/ipython-tikzmagic"
   ]
  },
  {
   "cell_type": "code",
   "execution_count": null,
   "id": "20676e5a",
   "metadata": {
    "ExecuteTime": {
     "end_time": "2021-07-05T15:53:00.889454Z",
     "start_time": "2021-07-05T15:53:00.879498Z"
    }
   },
   "outputs": [],
   "source": [
    "%load_ext tikzmagic"
   ]
  },
  {
   "cell_type": "code",
   "execution_count": null,
   "id": "f6855dfb",
   "metadata": {
    "ExecuteTime": {
     "end_time": "2021-07-05T15:58:37.752688Z",
     "start_time": "2021-07-05T15:58:36.577704Z"
    },
    "code_folding": [
     0
    ]
   },
   "outputs": [],
   "source": [
    "%%tikz -f svg --save image.svg\n",
    "\\tikzstyle{thickblackcircle} = [thick, circle, draw=black]\n",
    "\\tikzstyle{blackcircle} = [circle, draw=black]\n",
    "\\tikzstyle{thickarrow} = [thick,->,>=stealth]\n",
    "\\tikzstyle{arrow} = [->,>=stealth]\n",
    "\\foreach \\name/\\x/\\h in {s/1/2, t/9/2}\n",
    "    \\node[thickblackcircle] (G-\\name) at (\\x,\\h) {$\\name$};\n",
    "\\foreach \\name/\\x/\\h in {s/1/2, a/3/4, d/3/0, c/5/2, b/7/4, e/7/0, t/9/2}\n",
    "    \\node[blackcircle] (G-\\name) at (\\x,\\h) {$\\name$};\n",
    "\\foreach \\from/\\to/\\c/\\f in { s/a/9/9, s/d/3/?, s/c/5/?, a/c/7/7, a/b/4/?, c/d/4/4, d/e/6/4, c/e/3/3, c/b/4/?, b/t/11/6, e/t/7/? }\n",
    "    \\draw[arrow] (G-\\from) -- node [above, black] {\\c} node [below, red] {\\f} (G-\\to);"
   ]
  }
 ],
 "metadata": {
  "kernelspec": {
   "display_name": "Python 3",
   "language": "python",
   "name": "python3"
  },
  "language_info": {
   "codemirror_mode": {
    "name": "ipython",
    "version": 3
   },
   "file_extension": ".py",
   "mimetype": "text/x-python",
   "name": "python",
   "nbconvert_exporter": "python",
   "pygments_lexer": "ipython3",
   "version": "3.9.2"
  },
  "latex_envs": {
   "LaTeX_envs_menu_present": true,
   "autoclose": false,
   "autocomplete": true,
   "bibliofile": "biblio.bib",
   "cite_by": "apalike",
   "current_citInitial": 1,
   "eqLabelWithNumbers": true,
   "eqNumInitial": 1,
   "hotkeys": {
    "equation": "Ctrl-E",
    "itemize": "Ctrl-I"
   },
   "labels_anchors": false,
   "latex_user_defs": false,
   "report_style_numbering": false,
   "user_envs_cfg": false
  },
  "nbTranslate": {
   "displayLangs": [
    "*"
   ],
   "hotkey": "alt-t",
   "langInMainMenu": true,
   "sourceLang": "en",
   "targetLang": "fr",
   "useGoogleTranslate": true
  },
  "toc": {
   "base_numbering": 1,
   "nav_menu": {},
   "number_sections": true,
   "sideBar": true,
   "skip_h1_title": false,
   "title_cell": "Table of Contents",
   "title_sidebar": "Contents",
   "toc_cell": false,
   "toc_position": {},
   "toc_section_display": true,
   "toc_window_display": false
  },
  "varInspector": {
   "cols": {
    "lenName": 16,
    "lenType": 16,
    "lenVar": 40
   },
   "kernels_config": {
    "python": {
     "delete_cmd_postfix": "",
     "delete_cmd_prefix": "del ",
     "library": "var_list.py",
     "varRefreshCmd": "print(var_dic_list())"
    },
    "r": {
     "delete_cmd_postfix": ") ",
     "delete_cmd_prefix": "rm(",
     "library": "var_list.r",
     "varRefreshCmd": "cat(var_dic_list()) "
    }
   },
   "types_to_exclude": [
    "module",
    "function",
    "builtin_function_or_method",
    "instance",
    "_Feature"
   ],
   "window_display": false
  }
 },
 "nbformat": 4,
 "nbformat_minor": 5
}
