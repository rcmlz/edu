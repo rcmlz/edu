{
 "cells": [
  {
   "cell_type": "markdown",
   "metadata": {},
   "source": [
    "https://github.com/brendan-rius/jupyter-c-kernel"
   ]
  },
  {
   "cell_type": "code",
   "execution_count": 1,
   "metadata": {},
   "outputs": [
    {
     "name": "stdout",
     "output_type": "stream",
     "text": [
      "Hello World!\n",
      "sqrt(67) = 8.185353\n",
      "Faculty of 10 is: 3628800\n"
     ]
    }
   ],
   "source": [
    "//%cflags:-lm\n",
    "\n",
    "#include <stdio.h>\n",
    "#include <math.h>\n",
    "\n",
    "int main() {\n",
    "    printf(\"Hello World!\\n\");\n",
    "    printf(\"sqrt(67) = %f\\n\", sqrt(67));\n",
    "\n",
    "    \n",
    "    //FALSE implementation of faculty calculation - not working for big numbers!\n",
    "    int fact( int n ) {\n",
    "      int f = 1;\n",
    "      while ( n > 1 ) {\n",
    "        f = f * n;\n",
    "        n = n - 1;\n",
    "      }\n",
    "      return f;\n",
    "    }\n",
    "    \n",
    "    //choose > 31 and it will not work anymore - \"int\" is too small \n",
    "    printf(\"Faculty of 10 is: %d\\n\", fact(10));\n",
    "    return 0;\n",
    "}"
   ]
  },
  {
   "cell_type": "code",
   "execution_count": null,
   "metadata": {},
   "outputs": [],
   "source": []
  }
 ],
 "metadata": {
  "kernelspec": {
   "display_name": "C",
   "language": "c",
   "name": "c"
  },
  "language_info": {
   "file_extension": ".c",
   "mimetype": "text/plain",
   "name": "c"
  }
 },
 "nbformat": 4,
 "nbformat_minor": 4
}
