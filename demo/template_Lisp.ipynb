{
 "cells": [
  {
   "cell_type": "markdown",
   "metadata": {},
   "source": [
    "https://nbviewer.jupyter.org/github/yitzchak/common-lisp-jupyter/blob/master/examples/about.ipynb\n",
    "\n",
    "https://nbviewer.jupyter.org/github/yitzchak/common-lisp-jupyter/blob/master/examples/widgets.ipynb\n",
    "\n",
    "https://nbviewer.jupyter.org/github/yitzchak/common-lisp-jupyter/blob/master/examples/julia.ipynb"
   ]
  },
  {
   "cell_type": "code",
   "execution_count": 1,
   "metadata": {},
   "outputs": [
    {
     "data": {
      "text/plain": [
       "NIL"
      ]
     },
     "execution_count": 1,
     "metadata": {},
     "output_type": "execute_result"
    },
    {
     "data": {
      "text/plain": [
       "NIL"
      ]
     },
     "execution_count": 1,
     "metadata": {},
     "output_type": "execute_result"
    },
    {
     "name": "stdout",
     "output_type": "stream",
     "text": [
      "Hello, World"
     ]
    },
    {
     "name": "stderr",
     "output_type": "stream",
     "text": [
      "Goodbye, cruel World."
     ]
    }
   ],
   "source": [
    "(format t \"Hello, World\")\n",
    "(format *error-output* \"Goodbye, cruel World.\")"
   ]
  },
  {
   "cell_type": "code",
   "execution_count": 2,
   "metadata": {},
   "outputs": [
    {
     "data": {
      "text/plain": [
       "14"
      ]
     },
     "execution_count": 2,
     "metadata": {},
     "output_type": "execute_result"
    }
   ],
   "source": [
    "(+ 2 3 4 5)"
   ]
  },
  {
   "cell_type": "code",
   "execution_count": 13,
   "metadata": {},
   "outputs": [
    {
     "name": "stdout",
     "output_type": "stream",
     "text": [
      "To load \"jsown\":\n",
      "  Load 1 ASDF system:\n",
      "    jsown\n"
     ]
    },
    {
     "data": {
      "text/plain": [
       "(:JSOWN)"
      ]
     },
     "execution_count": 13,
     "metadata": {},
     "output_type": "execute_result"
    },
    {
     "name": "stdout",
     "output_type": "stream",
     "text": [
      "\n",
      "; Loading \"jsown\"\n",
      "\n"
     ]
    }
   ],
   "source": [
    "(ql:quickload :jsown)"
   ]
  },
  {
   "cell_type": "code",
   "execution_count": 18,
   "metadata": {},
   "outputs": [
    {
     "data": {
      "text/plain": [
       "\"{\\\"foo\\\":\\\"bar\\\"}\""
      ]
     },
     "execution_count": 18,
     "metadata": {},
     "output_type": "execute_result"
    }
   ],
   "source": [
    "(jsown:to-json\n",
    "    (jsown:new-js (\"foo\" \"bar\")))"
   ]
  },
  {
   "cell_type": "code",
   "execution_count": 15,
   "metadata": {},
   "outputs": [
    {
     "data": {
      "text/plain": [
       "FIBONACCI"
      ]
     },
     "execution_count": 15,
     "metadata": {},
     "output_type": "execute_result"
    },
    {
     "data": {
      "text/plain": [
       "21"
      ]
     },
     "execution_count": 15,
     "metadata": {},
     "output_type": "execute_result"
    },
    {
     "name": "stdout",
     "output_type": "stream",
     "text": [
      "\n",
      "REDEFINITION-WITH-DEFUN: \n",
      "  redefining COMMON-LISP-USER::FIBONACCI in DEFUN\n"
     ]
    }
   ],
   "source": [
    "(defun fibonacci (n)\n",
    "    (if (<= n 1)\n",
    "        1\n",
    "        (+ (fibonacci (- n 2)) (fibonacci (- n 1)))))\n",
    "\n",
    "\n",
    "(fibonacci 7)"
   ]
  },
  {
   "cell_type": "code",
   "execution_count": 16,
   "metadata": {},
   "outputs": [
    {
     "data": {
      "text/latex": [
       "$$R_{\\mu \\nu} - \\tfrac{1}{2}R \\, g_{\\mu \\nu} + \\Lambda g_{\\mu \\nu} =\n",
       "               8 \\pi G c^{-4} T_{\\mu \\nu}$$"
      ],
      "text/plain": [
       "inline-value"
      ]
     },
     "execution_count": 16,
     "metadata": {},
     "output_type": "execute_result"
    }
   ],
   "source": [
    "(jupyter:latex \"$$R_{\\\\mu \\\\nu} - \\\\tfrac{1}{2}R \\\\, g_{\\\\mu \\\\nu} + \\\\Lambda g_{\\\\mu \\\\nu} =\n",
    "               8 \\\\pi G c^{-4} T_{\\\\mu \\\\nu}$$\")"
   ]
  },
  {
   "cell_type": "code",
   "execution_count": 19,
   "metadata": {},
   "outputs": [
    {
     "name": "stdout",
     "output_type": "stream",
     "text": [
      "To load \"alexandria\":\n",
      "  Load 1 ASDF system:\n",
      "    alexandria\n",
      "\n",
      "; Loading \"alexandria\"\n",
      "\n",
      "To load \"png\":\n",
      "  Load 3 ASDF systems:\n",
      "    asdf cffi cffi-grovel\n",
      "  Install 1 Quicklisp release:\n",
      "    cl-png\n",
      "\n",
      "; Fetching #<URL \"http://beta.quicklisp.org/archive/cl-png/2019-07-10/cl-png-vl-anyversion-04dbb706-git.tgz\">\n",
      "; 8311.06KB\n",
      "\n",
      "==================================================\n",
      "8,510,528 bytes in 1.43 seconds (5824.15KB/sec)\n",
      "\n",
      "; Loading \"png\"\n",
      "[package image]...................................\n",
      "[package png].; cc -o /home/rpo/.cache/common-lisp/sbcl-1.3.1.debian-linux-x64/home/rpo/quicklisp/dists/quicklisp/software/cl-png-vl-anyversion-04dbb706-git/grovel__grovel-tmp6TLO0BDD.o -c -m64 -I/Applications/Xcode.app/Contents/Developer/Platforms/MacOSX.platform/Developer/SDKs/MacOSX10.7.sdk/usr/X11/include -I/opt/local/include -fPIC -I/home/rpo/quicklisp/dists/quicklisp/software/cffi_0.22.1/ /home/rpo/.cache/common-lisp/sbcl-1.3.1.debian-linux-x64/home/rpo/quicklisp/dists/quicklisp/software/cl-png-vl-anyversion-04dbb706-git/grovel__grovel.c\n",
      "; cc -o /home/rpo/.cache/common-lisp/sbcl-1.3.1.debian-linux-x64/home/rpo/quicklisp/dists/quicklisp/software/cl-png-vl-anyversion-04dbb706-git/grovel__grovel-tmpIRDHF4NY -m64 -Wl,--export-dynamic /home/rpo/.cache/common-lisp/sbcl-1.3.1.debian-linux-x64/home/rpo/quicklisp/dists/quicklisp/software/cl-png-vl-anyversion-04dbb706-git/grovel__grovel.o\n",
      "; /home/rpo/.cache/common-lisp/sbcl-1.3.1.debian-linux-x64/home/rpo/quicklisp/dists/quicklisp/software/cl-png-vl-anyversion-04dbb706-git/grovel__grovel /home/rpo/.cache/common-lisp/sbcl-1.3.1.debian-linux-x64/home/rpo/quicklisp/dists/quicklisp/software/cl-png-vl-anyversion-04dbb706-git/grovel__grovel.grovel-tmp.lisp\n",
      ".; cc -o /home/rpo/.cache/common-lisp/sbcl-1.3.1.debian-linux-x64/home/rpo/quicklisp/dists/quicklisp/software/cl-png-vl-anyversion-04dbb706-git/wrappers__wrapper-tmpRE46TLRG.o -c -m64 -I/Applications/Xcode.app/Contents/Developer/Platforms/MacOSX.platform/Developer/SDKs/MacOSX10.7.sdk/usr/X11/include -I/opt/local/include -fPIC -I/home/rpo/quicklisp/dists/quicklisp/software/cffi_0.22.1/ /home/rpo/.cache/common-lisp/sbcl-1.3.1.debian-linux-x64/home/rpo/quicklisp/dists/quicklisp/software/cl-png-vl-anyversion-04dbb706-git/wrappers__wrapper.c\n",
      "; cc -o /home/rpo/.cache/common-lisp/sbcl-1.3.1.debian-linux-x64/home/rpo/quicklisp/dists/quicklisp/software/cl-png-vl-anyversion-04dbb706-git/wrappers.so -shared -m64 /home/rpo/.cache/common-lisp/sbcl-1.3.1.debian-linux-x64/home/rpo/quicklisp/dists/quicklisp/software/cl-png-vl-anyversion-04dbb706-git/wrappers__wrapper.o\n",
      "...................................\n",
      "[package bmp].....................................\n",
      "[package pnm]........\n",
      "To load \"iterate\":\n",
      "  Load 1 ASDF system:\n",
      "    iterate\n",
      "\n",
      "; Loading \"iterate\"\n",
      "\n",
      "To load \"flexi-streams\":\n",
      "  Load 2 ASDF systems:\n",
      "    asdf trivial-gray-streams\n",
      "  Install 1 Quicklisp release:\n",
      "    flexi-streams\n",
      "\n",
      "; Fetching #<URL \"http://beta.quicklisp.org/archive/flexi-streams/2020-06-10/flexi-streams-20200610-git.tgz\">\n",
      "; 184.14KB\n",
      "\n",
      "==================================================\n",
      "188,558 bytes in 0.02 seconds (11508.67KB/sec)\n",
      "\n",
      "; Loading \"flexi-streams\"\n",
      "[package flexi-streams]...........................\n",
      "..................................................\n",
      "..................................................\n",
      "..................................................\n",
      "............."
     ]
    },
    {
     "data": {
      "text/plain": [
       "(:ALEXANDRIA :PNG :ITERATE :FLEXI-STREAMS)"
      ]
     },
     "execution_count": 19,
     "metadata": {},
     "output_type": "execute_result"
    },
    {
     "data": {
      "text/plain": [
       "T"
      ]
     },
     "execution_count": 19,
     "metadata": {},
     "output_type": "execute_result"
    },
    {
     "data": {
      "text/plain": [
       "T"
      ]
     },
     "execution_count": 19,
     "metadata": {},
     "output_type": "execute_result"
    },
    {
     "data": {
      "text/plain": [
       "T"
      ]
     },
     "execution_count": 19,
     "metadata": {},
     "output_type": "execute_result"
    },
    {
     "name": "stdout",
     "output_type": "stream",
     "text": [
      "\n"
     ]
    }
   ],
   "source": [
    "(ql:quickload '(:alexandria :png :iterate :flexi-streams))\n",
    "(use-package :alexandria)\n",
    "(use-package :iterate)\n",
    "(use-package :jupyter-widgets)"
   ]
  },
  {
   "cell_type": "code",
   "execution_count": 20,
   "metadata": {},
   "outputs": [
    {
     "data": {
      "text/plain": [
       "JULIA-COUNT"
      ]
     },
     "execution_count": 20,
     "metadata": {},
     "output_type": "execute_result"
    }
   ],
   "source": [
    "(defun julia-count (z c &key (max 255))\n",
    "    (iter\n",
    "        (for i from 0 to (1- max))\n",
    "        (for p first z then (+ (expt p 2) c))\n",
    "        (while (<= (abs p) 2))\n",
    "        (finally (return i))))"
   ]
  },
  {
   "cell_type": "code",
   "execution_count": 21,
   "metadata": {},
   "outputs": [
    {
     "data": {
      "text/plain": [
       "#<STANDARD-CLASS COMMON-LISP-USER::JULIA-WIDGET>"
      ]
     },
     "execution_count": 21,
     "metadata": {},
     "output_type": "execute_result"
    },
    {
     "data": {
      "text/plain": [
       "JW"
      ]
     },
     "execution_count": 21,
     "metadata": {},
     "output_type": "execute_result"
    },
    {
     "data": {
      "text/plain": [
       "*UPDATE-THREAD*"
      ]
     },
     "execution_count": 21,
     "metadata": {},
     "output_type": "execute_result"
    },
    {
     "data": {
      "text/plain": [
       "MAKE-JULIA"
      ]
     },
     "execution_count": 21,
     "metadata": {},
     "output_type": "execute_result"
    },
    {
     "data": {
      "text/plain": [
       "UPDATE"
      ]
     },
     "execution_count": 21,
     "metadata": {},
     "output_type": "execute_result"
    },
    {
     "data": {
      "text/plain": [
       "#<SB-THREAD:THREAD \"Anonymous thread\" RUNNING {1006DA5123}>"
      ]
     },
     "execution_count": 21,
     "metadata": {},
     "output_type": "execute_result"
    }
   ],
   "source": [
    "(defclass julia-widget ()\n",
    "    ((image :reader julia-image\n",
    "            :initform (make-instance 'image :width 640 :height 640))\n",
    "     (x :reader julia-x\n",
    "        :initform (make-instance 'float-text :value 0 :description \"x\"))\n",
    "     (y :reader julia-y\n",
    "        :initform (make-instance 'float-text :value 0 :description \"y\"))\n",
    "     (size :reader julia-size\n",
    "           :initform (make-instance 'float-text :value 4 :description \"size\"))\n",
    "     (ca :reader julia-ca\n",
    "         :initform (make-instance 'float-text :value -0.8 :step 0.001 :description \"ca\"))\n",
    "     (cb :reader julia-cb\n",
    "         :initform (make-instance 'float-text :value 0.156 :step 0.001 :description \"cb\"))\n",
    "     (progress :reader julia-progress\n",
    "               :initform (make-instance 'int-progress :max 640 :description \"Complete\"))\n",
    "     (controls :reader julia-controls\n",
    "               :initform (make-instance 'v-box))\n",
    "     (container :reader julia-container\n",
    "                :initform (make-instance 'h-box))))\n",
    "\n",
    "(defvar jw (make-instance 'julia-widget))\n",
    "\n",
    "(defparameter *update-thread* nil)\n",
    "\n",
    "(defun make-julia (image progress c &key (width 100) (height 100) (xmin -2.5) (xmax 2.5) (ymin -2.5) (ymax 2.5))\n",
    "    (let ((img (png:make-image height width 1 8)))\n",
    "        (iter\n",
    "            (for x from 0 to (1- width))\n",
    "            (for zx next (+ xmin (* (coerce (/ x width) 'float) (- xmax xmin))))\n",
    "            (setf (widget-value progress) x)\n",
    "            (iter\n",
    "                (for y from 0 to (1- height))\n",
    "                (for zy next (+ ymin (* (coerce (/ y height) 'float) (- ymax ymin))))\n",
    "                (for j next (julia-count (complex zx zy) c))\n",
    "                (setf (aref img y x 0) (- 255 j))))\n",
    "        (setf (widget-value image) (flexi-streams:with-output-to-sequence (o)\n",
    "            (png:encode img o)))\n",
    "        nil))\n",
    "\n",
    "(defun update ()\n",
    "    (when (and *update-thread* (bordeaux-threads:thread-alive-p *update-thread*))\n",
    "        (bordeaux-threads:destroy-thread *update-thread*))\n",
    "    (setq *update-thread* (bordeaux-threads:make-thread\n",
    "        (lambda ()\n",
    "            (with-slots (image x y size ca cb progress) jw\n",
    "                (when-let ((ca-value (widget-value ca))\n",
    "                           (cb-value (widget-value cb))\n",
    "                           (x-value (widget-value x))\n",
    "                           (y-value (widget-value y))\n",
    "                           (size-value (widget-value size)))\n",
    "                    (make-julia image progress (complex ca-value cb-value)\n",
    "                                :width (widget-width image) :height (widget-height image)\n",
    "                                :xmin (- x-value (/ size-value 2))\n",
    "                                :xmax (+ x-value (/ size-value 2))\n",
    "                                :ymin (- y-value (/ size-value 2))\n",
    "                                :ymax (+ y-value (/ size-value 2)))))))))\n",
    "                    \n",
    "\n",
    "(with-slots (image x y size ca cb controls container progress) jw\n",
    "    (setf (widget-children controls) (list x y size ca cb progress))\n",
    "    (setf (widget-children container) (list image controls))\n",
    "    (defmethod jupyter-widgets:on-trait-change :after ((object (eql x)) type name old-value new-value source)\n",
    "        (update))\n",
    "    (defmethod jupyter-widgets:on-trait-change :after ((object (eql y)) type name old-value new-value source)\n",
    "        (update))\n",
    "    (defmethod jupyter-widgets:on-trait-change :after ((object (eql size)) type name old-value new-value source)\n",
    "        (update))\n",
    "    (defmethod jupyter-widgets:on-trait-change :after ((object (eql ca)) type name old-value new-value source)\n",
    "        (update))\n",
    "    (defmethod jupyter-widgets:on-trait-change :after ((object (eql cb)) type name old-value new-value source)\n",
    "        (update))\n",
    "    (update))"
   ]
  },
  {
   "cell_type": "code",
   "execution_count": 23,
   "metadata": {},
   "outputs": [
    {
     "data": {
      "application/vnd.jupyter.widget-view+json": {
       "model_id": "5a4c4f18ebb34b6e1b0b36278487ce39",
       "version_major": 2,
       "version_minor": 0
      },
      "text/plain": [
       "A Jupyter Widget"
      ]
     },
     "metadata": {},
     "output_type": "display_data"
    }
   ],
   "source": [
    "(julia-container jw)"
   ]
  },
  {
   "cell_type": "code",
   "execution_count": null,
   "metadata": {},
   "outputs": [],
   "source": []
  }
 ],
 "metadata": {
  "kernelspec": {
   "display_name": "Common Lisp",
   "language": "common-lisp",
   "name": "common-lisp"
  },
  "language_info": {
   "codemirror_mode": "text/x-common-lisp",
   "file_extension": ".lisp",
   "mimetype": "text/x-common-lisp",
   "name": "common-lisp",
   "pygments_lexer": "common-lisp",
   "version": "1.3.1.debian"
  },
  "toc": {
   "base_numbering": 1,
   "nav_menu": {},
   "number_sections": true,
   "sideBar": true,
   "skip_h1_title": false,
   "title_cell": "Table of Contents",
   "title_sidebar": "Contents",
   "toc_cell": false,
   "toc_position": {},
   "toc_section_display": true,
   "toc_window_display": false
  }
 },
 "nbformat": 4,
 "nbformat_minor": 4
}
