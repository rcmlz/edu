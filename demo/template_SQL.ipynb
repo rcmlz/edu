{
 "cells": [
  {
   "cell_type": "code",
   "execution_count": 1,
   "metadata": {},
   "outputs": [],
   "source": [
    "%CREATE sqlite3 test.db"
   ]
  },
  {
   "cell_type": "code",
   "execution_count": 2,
   "metadata": {},
   "outputs": [],
   "source": [
    "CREATE TABLE test (Key STRING, Value INTEGER)"
   ]
  },
  {
   "cell_type": "code",
   "execution_count": 3,
   "metadata": {},
   "outputs": [
    {
     "data": {
      "text/html": [
       "<table>\n",
       "<tr>\n",
       "<th>Key</th>\n",
       "<th>Value</th>\n",
       "</tr>\n",
       "</table>"
      ],
      "text/plain": [
       "+-----+-------+\n",
       "| Key | Value |\n",
       "+-----+-------+"
      ]
     },
     "execution_count": 3,
     "metadata": {},
     "output_type": "execute_result"
    }
   ],
   "source": [
    "SELECT * FROM test"
   ]
  },
  {
   "cell_type": "code",
   "execution_count": 4,
   "metadata": {},
   "outputs": [],
   "source": [
    "INSERT INTO test (Key, Value) VALUES (\"Test\", 123), (\"tseT\", 321)"
   ]
  },
  {
   "cell_type": "code",
   "execution_count": 5,
   "metadata": {},
   "outputs": [
    {
     "data": {
      "text/html": [
       "<table>\n",
       "<tr>\n",
       "<th>Key</th>\n",
       "<th>Value</th>\n",
       "</tr>\n",
       "<tr>\n",
       "<td>Test</td>\n",
       "<td>123</td>\n",
       "</tr>\n",
       "<tr>\n",
       "<td>tseT</td>\n",
       "<td>321</td>\n",
       "</tr>\n",
       "</table>"
      ],
      "text/plain": [
       "+------+-------+\n",
       "| Key  | Value |\n",
       "+------+-------+\n",
       "| Test | 123   |\n",
       "+------+-------+\n",
       "| tseT | 321   |\n",
       "+------+-------+"
      ]
     },
     "execution_count": 5,
     "metadata": {},
     "output_type": "execute_result"
    }
   ],
   "source": [
    "SELECT * FROM test"
   ]
  },
  {
   "cell_type": "code",
   "execution_count": 6,
   "metadata": {},
   "outputs": [],
   "source": [
    "DELETE FROM test WHERE Value = 123"
   ]
  },
  {
   "cell_type": "code",
   "execution_count": 7,
   "metadata": {},
   "outputs": [
    {
     "data": {
      "text/html": [
       "<table>\n",
       "<tr>\n",
       "<th>Key</th>\n",
       "<th>Value</th>\n",
       "</tr>\n",
       "<tr>\n",
       "<td>tseT</td>\n",
       "<td>321</td>\n",
       "</tr>\n",
       "</table>"
      ],
      "text/plain": [
       "+------+-------+\n",
       "| Key  | Value |\n",
       "+------+-------+\n",
       "| tseT | 321   |\n",
       "+------+-------+"
      ]
     },
     "execution_count": 7,
     "metadata": {},
     "output_type": "execute_result"
    }
   ],
   "source": [
    "SELECT * FROM test"
   ]
  },
  {
   "cell_type": "code",
   "execution_count": 8,
   "metadata": {},
   "outputs": [],
   "source": [
    "%DELETE test.db"
   ]
  }
 ],
 "metadata": {
  "kernelspec": {
   "display_name": "xsqlite",
   "language": "sqlite",
   "name": "xsqlite"
  },
  "language_info": {
   "codemirror_mode": "sql",
   "file_extension": "",
   "mimetype": "",
   "name": "sqlite3",
   "version": "3.30.1"
  }
 },
 "nbformat": 4,
 "nbformat_minor": 4
}
