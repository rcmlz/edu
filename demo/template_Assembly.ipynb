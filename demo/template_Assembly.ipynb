{
 "cells": [
  {
   "cell_type": "markdown",
   "id": "looking-guide",
   "metadata": {},
   "source": [
    "https://github.com/gcallah/Emu86/blob/master/kernels/Introduction%20to%20Assembly%20Language%20Tutorial.ipynb"
   ]
  },
  {
   "cell_type": "code",
   "execution_count": 1,
   "id": "integrated-opinion",
   "metadata": {},
   "outputs": [
    {
     "data": {
      "text/html": [
       "Changes: <br /><table><tr><th>Type</th><th>Identifier</th><th>Value</th><tr><td>Register</td><td>EBX</td>\n",
       "            <td>16</td></tr><tr><td>Register</td><td>EDX</td>\n",
       "            <td>2</td></tr></table>"
      ]
     },
     "metadata": {},
     "output_type": "display_data"
    }
   ],
   "source": [
    "mov edx, 2\n",
    "mov ebx, 16"
   ]
  }
 ],
 "metadata": {
  "kernelspec": {
   "display_name": "Intel",
   "language": "",
   "name": "intel"
  },
  "language_info": {
   "file_extension": "x86",
   "mimetype": "intel",
   "name": "intel"
  }
 },
 "nbformat": 4,
 "nbformat_minor": 5
}
