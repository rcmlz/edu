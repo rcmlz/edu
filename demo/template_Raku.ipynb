{
 "cells": [
  {
   "cell_type": "markdown",
   "metadata": {},
   "source": [
    "# Aufgabentitel\n",
    "Hier Text, Quelle, etc. ...\n",
    "\n",
    "Cell -> Run All"
   ]
  },
  {
   "cell_type": "code",
   "execution_count": 1,
   "metadata": {},
   "outputs": [
    {
     "data": {
      "text/plain": [
       "()"
      ]
     },
     "execution_count": 1,
     "metadata": {},
     "output_type": "execute_result"
    }
   ],
   "source": [
    "#Falls mit Einheiten gearbeitet werden soll\n",
    "\n",
    "# use Units <m A Ω K ft in>;\n",
    "# say 8A * 2Ω;          # Output: 8V\n",
    "# say 0K.celsius.value; # Output: -273.15\n",
    "# say 1ft > 1in;        # Output: True\n",
    "\n",
    "# Oder dieses Modul hier (wie immer gibt es vielfache Möglichkeiten ...)\n",
    "# https://github.com/p6steve/perl6-Physics-Measure-JupyterBinder/blob/master/Synopsis.ipynb\n",
    "# use Physics::Measure;\n",
    "# use Physics::Unit;\n",
    "# use Physics::Constants;\n",
    "\n",
    "# für wissenschaftliches Zahlenformat\n",
    "# https://docs.perl6.org/routine/sprintf\n",
    "# my $a = 0.000000000000012 ;\n",
    "# sprintf '%g', $a;"
   ]
  },
  {
   "cell_type": "code",
   "execution_count": 2,
   "metadata": {},
   "outputs": [
    {
     "data": {
      "text/plain": [
       "7.853981633974483e-09"
      ]
     },
     "execution_count": 2,
     "metadata": {},
     "output_type": "execute_result"
    }
   ],
   "source": [
    "#Geg.\n",
    "my $E = 500; #V/mm\n",
    "my $Q = 0.000000025; #C\n",
    "\n",
    "#Ges:\n",
    "my $F = Nil;\n",
    "\n",
    "#Lösung\n",
    "$F = 1/4 * pi / 100_000_000; # * bla blub bli"
   ]
  },
  {
   "cell_type": "code",
   "execution_count": 3,
   "metadata": {},
   "outputs": [
    {
     "name": "stdout",
     "output_type": "stream",
     "text": [
      "Ohne Formatierung 7.853981633974483e-09\n",
      "Mit Formatierung 7.85398e-09\n"
     ]
    }
   ],
   "source": [
    "#Ergebnis\n",
    "say \"Ohne Formatierung \" ~ $F;\n",
    "say \"Mit Formatierung \" ~ sprintf '%g',  $F;"
   ]
  },
  {
   "cell_type": "code",
   "execution_count": null,
   "metadata": {},
   "outputs": [],
   "source": []
  }
 ],
 "metadata": {
  "kernelspec": {
   "display_name": "Raku",
   "language": "raku",
   "name": "raku"
  },
  "language_info": {
   "file_extension": ".p6",
   "mimetype": "text/plain",
   "name": "raku",
   "version": "6.d"
  }
 },
 "nbformat": 4,
 "nbformat_minor": 4
}
