{
 "cells": [
  {
   "cell_type": "markdown",
   "metadata": {},
   "source": [
    "# TITEL\n",
    "- Quelle: Wo stammt die Aufgabe her\n",
    "- ID Fragesammlung\n",
    "- Author: Wer schrieb die Musterlösung\n",
    "\n",
    "Hier der Text der Frage, welcher sowohl die gegeben als auch die gesuchten Werte enthält (copy/paste von der Quelle). Wir verwenden die Formelzeichen, die auch unter \"Gegeben\" als Variablen genutzt werden. Macht die ganze Sache einfacher ..."
   ]
  },
  {
   "cell_type": "code",
   "execution_count": 1,
   "metadata": {},
   "outputs": [
    {
     "name": "stderr",
     "output_type": "stream",
     "text": [
      "udunits system database from /srv/anaconda/anaconda3/lib/R/library/units/share/udunits\n",
      "\n"
     ]
    }
   ],
   "source": [
    "# Support für wissenschaftliches Zahlenformat und Einheiten\n",
    "library(scales)\n",
    "library(units)"
   ]
  },
  {
   "cell_type": "markdown",
   "metadata": {},
   "source": [
    "## Gegeben\n",
    "Werte immer mit korrekten Einheiten und Zehnerpotenzen angeben\n",
    "\n",
    "Ergebnis berechnen: Cell -> Run All"
   ]
  },
  {
   "cell_type": "code",
   "execution_count": 2,
   "metadata": {},
   "outputs": [],
   "source": [
    "a = set_units(9.0e+01, m/s^2)\n",
    "F = set_units(3.00e+02, N)\n",
    "v = set_units(9.0e+01, km/h)\n",
    "m = set_units(9.0e+01, kg)"
   ]
  },
  {
   "cell_type": "markdown",
   "metadata": {},
   "source": [
    "## Gesucht"
   ]
  },
  {
   "cell_type": "code",
   "execution_count": 3,
   "metadata": {},
   "outputs": [],
   "source": [
    "t = NA\n",
    "s = NA"
   ]
  },
  {
   "cell_type": "markdown",
   "metadata": {},
   "source": [
    "# Lösung\n",
    "siehe \"Mechanische Kräfte\" auf S. 6, \"Newton'sche Axiome\", 2. Bewegungsgleichung\n",
    "- Kraft = Masse * Beschleunigung\n",
    "\n",
    "sowie \"Kinematik von Massenpunkten\" auf S. 4, \"Gleichmässig beschleunigte Bewegung\"\n",
    "- v = a * t\n",
    "- s = a/2 * t^2\n",
    "\n",
    "in: Formelsammlung Physik, A. Wetzel, 4. Auflage 2015\n",
    "\n",
    "Achtung, manchmal ist die Bibliothek units nicht in der Lage, die Einheiten automatisch umzurechen. Dann sollten sie versuchen, die bereffende Einheit in seine Basiseinheiten umzuwandeln, so dass sich die Einheiten in den Formeln später einfach kürzen. Z.B. V = J / C = N * m / C = kg * m / s^2 * m / C = kg * m^2 / s^2 / C\n",
    "\n",
    "- U = set_units(10, V)\n",
    "- units(U) <- with(ud_units, kg * m^2 / s^2 / C) #Volt in Basiseinheiten umrechnen\n",
    "- jetzt mit U weiterrechnen"
   ]
  },
  {
   "cell_type": "code",
   "execution_count": 4,
   "metadata": {},
   "outputs": [],
   "source": [
    "units(v) <- make_units(m/s) #3.6 km/h == 1 m/s\n",
    "units(F) <- make_units(kg*m/s^2) #N == kg * m / s^2"
   ]
  },
  {
   "cell_type": "code",
   "execution_count": 5,
   "metadata": {},
   "outputs": [],
   "source": [
    "a = F / m\n",
    "t = v / a\n",
    "s = a / 2 * t^2"
   ]
  },
  {
   "cell_type": "markdown",
   "metadata": {},
   "source": [
    "## Ergebnis"
   ]
  },
  {
   "cell_type": "code",
   "execution_count": 6,
   "metadata": {},
   "outputs": [
    {
     "data": {
      "text/html": [
       "'t = 7.5e+00 [s]'"
      ],
      "text/latex": [
       "'t = 7.5e+00 {[}s{]}'"
      ],
      "text/markdown": [
       "'t = 7.5e+00 [s]'"
      ],
      "text/plain": [
       "[1] \"t = 7.5e+00 [s]\""
      ]
     },
     "metadata": {},
     "output_type": "display_data"
    },
    {
     "data": {
      "text/html": [
       "'s = 9.38e+01 [m]'"
      ],
      "text/latex": [
       "'s = 9.38e+01 {[}m{]}'"
      ],
      "text/markdown": [
       "'s = 9.38e+01 [m]'"
      ],
      "text/plain": [
       "[1] \"s = 9.38e+01 [m]\""
      ]
     },
     "metadata": {},
     "output_type": "display_data"
    }
   ],
   "source": [
    "paste(\"t =\", scientific(t))\n",
    "paste(\"s =\", scientific(s))"
   ]
  }
 ],
 "metadata": {
  "kernelspec": {
   "display_name": "R",
   "language": "R",
   "name": "ir"
  },
  "language_info": {
   "codemirror_mode": "r",
   "file_extension": ".r",
   "mimetype": "text/x-r-source",
   "name": "R",
   "pygments_lexer": "r",
   "version": "3.6.3"
  }
 },
 "nbformat": 4,
 "nbformat_minor": 4
}
