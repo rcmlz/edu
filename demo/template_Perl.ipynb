{
 "cells": [
  {
   "cell_type": "markdown",
   "metadata": {},
   "source": [
    "# Aufgabentitel\n",
    "Hier Text, Quelle, etc. ...\n",
    "\n",
    "Cell -> Run All"
   ]
  },
  {
   "cell_type": "code",
   "execution_count": 1,
   "metadata": {},
   "outputs": [],
   "source": [
    "use Math::Trig; #für pi()"
   ]
  },
  {
   "cell_type": "code",
   "execution_count": 2,
   "metadata": {},
   "outputs": [
    {
     "name": "stdout",
     "output_type": "stream",
     "text": [
      "0.785398163397448"
     ]
    },
    {
     "data": {
      "text/plain": [
       "1"
      ]
     },
     "execution_count": 2,
     "metadata": {},
     "output_type": "execute_result"
    }
   ],
   "source": [
    "#Geg.\n",
    "$E = 500; #V/mm\n",
    "$Q = 0.000000025; #C\n",
    "\n",
    "#Ges:\n",
    "$F = 'unbekannt';\n",
    "\n",
    "#Lösung\n",
    "$F = 1/4 * pi; # * bla blub bli\n",
    "\n",
    "#Ergebnis\n",
    "print($F);"
   ]
  },
  {
   "cell_type": "code",
   "execution_count": null,
   "metadata": {},
   "outputs": [],
   "source": []
  }
 ],
 "metadata": {
  "kernelspec": {
   "display_name": "Perl",
   "language": "perl",
   "name": "iperl"
  },
  "language_info": {
   "file_extension": ".pl",
   "mimetype": "text/x-perl",
   "name": "perl",
   "version": "5.22.1"
  }
 },
 "nbformat": 4,
 "nbformat_minor": 4
}
