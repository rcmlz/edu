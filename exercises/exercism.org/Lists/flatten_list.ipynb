{
 "cells": [
  {
   "cell_type": "markdown",
   "id": "a9ed87d7",
   "metadata": {},
   "source": [
    "# Flatten Array\n",
    "https://exercism.org/tracks/python/exercises/flatten-array"
   ]
  },
  {
   "cell_type": "code",
   "execution_count": null,
   "id": "a98e756e",
   "metadata": {},
   "outputs": [],
   "source": [
    "from doctest import run_docstring_examples\n",
    "import logging\n",
    "logging.basicConfig(level=logging.INFO)"
   ]
  },
  {
   "cell_type": "code",
   "execution_count": null,
   "id": "22e38f5f",
   "metadata": {},
   "outputs": [],
   "source": [
    "def flatten(iterable):\n",
    "    \"\"\"\n",
    "    Take a nested list and return a single flattened list with all values except nil/null.\n",
    "    \n",
    "    Tests:\n",
    "    >>> print(flatten([1,[2,3,None,4],[None],5]))\n",
    "    [1, 2, 3, 4, 5]\n",
    "    \n",
    "    \"\"\"\n",
    "    if not isinstance(iterable, list) and iterable != None:\n",
    "        return [iterable]\n",
    "\n",
    "    if isinstance(iterable, list) and len(iterable) >= 1:\n",
    "        return flatten(iterable.pop(0)) + flatten(iterable)\n",
    "        \n",
    "    return []\n",
    "\n",
    "run_docstring_examples(flatten, locals())"
   ]
  }
 ],
 "metadata": {
  "kernelspec": {
   "display_name": "Python 3 (ipykernel)",
   "language": "python",
   "name": "python3"
  },
  "language_info": {
   "codemirror_mode": {
    "name": "ipython",
    "version": 3
   },
   "file_extension": ".py",
   "mimetype": "text/x-python",
   "name": "python",
   "nbconvert_exporter": "python",
   "pygments_lexer": "ipython3",
   "version": "3.9.9"
  },
  "latex_envs": {
   "LaTeX_envs_menu_present": true,
   "autoclose": false,
   "autocomplete": true,
   "bibliofile": "biblio.bib",
   "cite_by": "apalike",
   "current_citInitial": 1,
   "eqLabelWithNumbers": true,
   "eqNumInitial": 1,
   "hotkeys": {
    "equation": "Ctrl-E",
    "itemize": "Ctrl-I"
   },
   "labels_anchors": false,
   "latex_user_defs": false,
   "report_style_numbering": false,
   "user_envs_cfg": false
  },
  "toc": {
   "base_numbering": 1,
   "nav_menu": {},
   "number_sections": true,
   "sideBar": true,
   "skip_h1_title": false,
   "title_cell": "Table of Contents",
   "title_sidebar": "Contents",
   "toc_cell": false,
   "toc_position": {},
   "toc_section_display": true,
   "toc_window_display": false
  },
  "varInspector": {
   "cols": {
    "lenName": 16,
    "lenType": 16,
    "lenVar": 40
   },
   "kernels_config": {
    "python": {
     "delete_cmd_postfix": "",
     "delete_cmd_prefix": "del ",
     "library": "var_list.py",
     "varRefreshCmd": "print(var_dic_list())"
    },
    "r": {
     "delete_cmd_postfix": ") ",
     "delete_cmd_prefix": "rm(",
     "library": "var_list.r",
     "varRefreshCmd": "cat(var_dic_list()) "
    }
   },
   "types_to_exclude": [
    "module",
    "function",
    "builtin_function_or_method",
    "instance",
    "_Feature"
   ],
   "window_display": false
  }
 },
 "nbformat": 4,
 "nbformat_minor": 5
}
