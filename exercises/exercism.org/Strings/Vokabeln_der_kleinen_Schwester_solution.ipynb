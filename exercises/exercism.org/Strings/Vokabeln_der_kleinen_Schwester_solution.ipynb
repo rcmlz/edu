{
 "cells": [
  {
   "cell_type": "markdown",
   "id": "f7e9f648",
   "metadata": {},
   "source": [
    "# Aufgabe\n",
    "\n",
    "Quelle: https://exercism.org/tracks/python/exercises/little-sisters-vocab/\n",
    "\n",
    "Du hilfst deiner jüngeren Schwester bei ihren Englischvokabular-Hausaufgaben, die sie sehr mühsam findet. Ihre Klasse lernt, neue Wörter zu erstellen, indem sie Präfixe und Suffixe hinzufügt. Bei einer Reihe von Wörtern sucht der Lehrer nach korrekt transformierten Wörtern mit korrekter Schreibweise, indem er das Präfix an den Anfang oder das Suffix an das Ende anhängt.\n",
    "\n",
    "Es gibt vier Aktivitäten in der Aufgabe, jede mit einer Reihe von Texten oder Wörtern, mit denen gearbeitet werden kann."
   ]
  },
  {
   "cell_type": "markdown",
   "id": "ddf8b3a2",
   "metadata": {},
   "source": [
    "### Fügen Sie einem Wort ein Präfix hinzu\n",
    "\n",
    "Eines der gebräuchlichsten Präfixe im Englischen ist \"un\", was \"nicht\" bedeutet. Bei dieser Aktivität muss Ihre Schwester negative oder \"nicht\" Wörter bilden, indem sie \"un\" ergänzt.\n",
    "\n",
    "Implementieren Sie die add_prefix_un()-Funktion, die \"word\" als Parameter verwendet und ein neues Wort zurückgibt, dem \"un\" vorangestellt ist.\n",
    "\n",
    "Beispiel: der Aufruf \n",
    "\n",
    "<pre>add_prefix_un(\"happy\")</pre> soll <pre>'unhappy'</pre> zurückgeben.\n"
   ]
  },
  {
   "cell_type": "markdown",
   "id": "8a79a1b9",
   "metadata": {},
   "source": [
    "### Präfixe zu Wortgruppen hinzufügen\n",
    "\n",
    "Es gibt vier weitere gebräuchliche Präfixe, die die Klasse deiner Schwester lernt: en (bedeutet \"einsetzen\" oder \"mit eindecken\") pre (bedeutet \"vor\" oder \"vorwärts\") auto (bedeutet \"selbst\" oder \"gleich\") und inter(bedeutet 'zwischen' oder 'unter').\n",
    "\n",
    "In dieser Übung erstellt die Klasse Wortgruppen mit diesen Präfixen, damit sie gemeinsam studiert werden können. Jedes Präfix wird in einer Liste mit häufig vorkommenden Wörtern angezeigt, mit denen es verwendet wird. Die Schüler müssen das Präfix anwenden und eine Zeichenfolge erstellen, die das Präfix für alle Wörter anzeigt.\n",
    "\n",
    "Implementieren Sie die make_word_groups(<vocab_words>)-Funktion, die eine Liste \"vocab_words\" als Parameter annimmt, in der folgenden Form: [\\<prefix>, \\<word_1>, \\<word_2> .... \\<word_n>], und die einen String mit dem Präfix zurückgibt, das auf jedes Wort angewendet wird.\n",
    "    \n",
    "Der Rückgabewert soll wie folgt aussehen: \n",
    "  \n",
    "  '\\<prefix> :: \\<prefix>\\<word_1> :: \\<prefix>\\<word_2> :: \\<prefix>\\<word_n>'\n",
    "    \n",
    "Beispielsweise soll der Aufruf:\n",
    "    \n",
    "<pre>\n",
    "    make_word_groups(['en', 'close', 'joy', 'lighten'])\n",
    "</pre>\n",
    "folgendes Ergebnis zurückgeben:\n",
    "<pre>\n",
    "    'en :: enclose :: enjoy :: enlighten'\n",
    "</pre>\n",
    "zurückgeben."
   ]
  },
  {
   "cell_type": "markdown",
   "id": "2ed8422d",
   "metadata": {},
   "source": [
    "### Entfernen eines Suffixes aus einem Wort\n",
    "\n",
    "'ness' ist ein gebräuchlicher Suffix, das \"Zustand des Seins\" bedeutet. In dieser Übung muss deine Schwester das ursprüngliche Wurzelwort finden, indem sie den ness-Suffix entfernt. Aber natürlich gibt es nervige Rechtschreibregeln: Wenn das Wurzelwort ursprünglich auf einen Konsonanten gefolgt von einem 'y' endete, dann wurde das 'y' in 'i' geändert. Das Entfernen von \"ness\" muss das \"y\" in diesen Wurzelwörtern wiederherstellen. \n",
    "\n",
    "z.B. happiness --> happi --> happy.\n",
    "\n",
    "Implementieren Sie die remove_suffix_ness(\\<word>)Funktion, die ein Wort (Str) aufnimmt und das Wurzelwort ohne ness-Suffix zurückgibt.\n",
    "\n",
    "remove_suffix_ness(\"heaviness\") ergibt 'heavy'\n",
    "\n",
    "remove_suffix_ness(\"sadness\") ergibt 'sad'\n",
    "\n",
    "remove_suffix_ness(\"happiness\") ergibt 'happy'"
   ]
  },
  {
   "cell_type": "markdown",
   "id": "6379b221",
   "metadata": {},
   "source": [
    "## Extrahiere und transformiere ein Wort\n",
    "\n",
    "Suffixe werden oft verwendet, um die Wortart eines Wortes zu ändern. Eine gängige Praxis im Englischen ist \"verbing\" oder \"verbifying\" - wobei ein Adjektiv durch das Hinzufügen eines Suffixes 'en' zu einem Verb wird.\n",
    "\n",
    "In dieser Aufgabe übt deine Schwester das 'Verbingen' von Wörtern, indem sie ein Adjektiv aus einem Satz extrahiert und es in ein Verb umwandelt. Glücklicherweise sind alle Wörter, die hier umgewandelt werden müssen, \"normal\" - sie brauchen keine Rechtschreibänderungen, um das Suffix hinzuzufügen.\n",
    "\n",
    "Implementieren Sie die noun_to_verb(\\<sentence>, \\<index>)-Funktion, die zwei Parameter benötigt. Der Parameter \"sentence\" beinhaltet den Satz. Der Parameter \"index\" besagt, welches Wort extrahiert werden soll - die Zählung beginnt beim ersten Wort mit 0. Die Funktion sollte das extrahierte Adjektiv als Verb zurückgeben.\n",
    "\n",
    "<pre>noun_to_verb('I need to make that bright.', -1 )</pre>\n",
    "ergibt\n",
    "<pre>'brighten'</pre>\n",
    "\n",
    "<pre>noun_to_verb('It got dark as the sun set.', 2)</pre>\n",
    "ergibt\n",
    "<pre>'darken'<pre>\n"
   ]
  },
  {
   "cell_type": "markdown",
   "id": "703cf4cb",
   "metadata": {},
   "source": [
    "# Konzepte\n",
    "- Aneinanderfügen von Zeichenketten (Concatination of Strings)  \n",
    "  * +\n",
    "  * format\n",
    "  * join\n",
    "- Zugriff auf Einzelelemente einer Liste\n",
    "  * liste[0], liste[-1]  \n",
    "- Einen String aufsplitten\n",
    "  * \"Split Me Am Leerzeichen\".split()\n",
    "  * \"Split, Me, Am, Komma\".split(\",\")\n",
    "  \n",
    "- Anzahl der Elemente einer Liste bestimmen\n",
    "  * len(liste)\n",
    "- Alle Elemente einer Liste in einer Schleife bearbeiten\n",
    "  * z.B. mit for-Schleife\n",
    "- Zugriff auf einzelne Buchstaben eines Strings\n",
    "  * string[0], string[-1]  \n",
    "- Vergleiche von Zeichenketten\n",
    "  * string[-1] == \".\"\n",
    "  * string[-1] == \"i\"\n",
    "- Einen Substring aus einem String extrahieren\n",
    "  * string[0:-1]"
   ]
  },
  {
   "cell_type": "markdown",
   "id": "c49fec7d",
   "metadata": {},
   "source": [
    "# Automatische Überprüfung"
   ]
  },
  {
   "cell_type": "code",
   "execution_count": null,
   "id": "f2c64b7f",
   "metadata": {},
   "outputs": [],
   "source": [
    "nachricht = \"Ihre Implementierung von {} ist {}\"\n",
    "\n",
    "true_or_false = add_prefix_un(\"do\") == \"undo\"\n",
    "print(nachricht.format(\"add_prefix_un()\", true_or_false))\n",
    "\n",
    "true_or_false = make_word_groups(['en', 'close', 'joy', 'lighten']) == 'en :: enclose :: enjoy :: enlighten'\n",
    "print(nachricht.format(\"make_word_groups()\", true_or_false))\n",
    "\n",
    "true_or_false = remove_suffix_ness(\"heaviness\") == 'heavy'\n",
    "print(nachricht.format(\"remove_suffix_ness()\", true_or_false))\n",
    "\n",
    "true_or_false = noun_to_verb('I need to make that bright.', -1 ) == 'brighten'\n",
    "print(nachricht.format(\"noun_to_verb()\", true_or_false))"
   ]
  },
  {
   "cell_type": "markdown",
   "id": "13c70ebf",
   "metadata": {},
   "source": [
    "# Ihre Lösung"
   ]
  },
  {
   "cell_type": "code",
   "execution_count": null,
   "id": "fa88b406",
   "metadata": {},
   "outputs": [],
   "source": [
    "def add_prefix_un(word):\n",
    "    \"\"\"\n",
    "\n",
    "    :param word: str of a root word\n",
    "    :return:  str of root word with un prefix\n",
    "\n",
    "    This function takes `word` as a parameter and\n",
    "    returns a new word with an 'un' prefix.\n",
    "    \"\"\"\n",
    "\n",
    "    pass\n",
    "\n",
    "\n",
    "def make_word_groups(vocab_words):\n",
    "    \"\"\"\n",
    "\n",
    "    :param vocab_words: list of vocabulary words with a prefix.\n",
    "    :return: str of prefix followed by vocabulary words with\n",
    "             prefix applied, separated by ' :: '.\n",
    "\n",
    "    This function takes a `vocab_words` list and returns a string\n",
    "    with the prefix  and the words with prefix applied, separated\n",
    "     by ' :: '.\n",
    "    \"\"\"\n",
    "\n",
    "    pass\n",
    "\n",
    "\n",
    "def remove_suffix_ness(word):\n",
    "    \"\"\"\n",
    "\n",
    "    :param word: str of word to remove suffix from.\n",
    "    :return: str of word with suffix removed & spelling adjusted.\n",
    "\n",
    "    This function takes in a word and returns the base word with `ness` removed.\n",
    "    \"\"\"\n",
    "\n",
    "    pass\n",
    "\n",
    "\n",
    "def noun_to_verb(sentence, index):\n",
    "    \"\"\"\n",
    "\n",
    "    :param sentence: str that uses the word in sentence\n",
    "    :param index:  index of the word to remove and transform\n",
    "    :return:  str word that changes the extracted adjective to a verb.\n",
    "\n",
    "    A function takes a `sentence` using the\n",
    "    vocabulary word, and the `index` of the word once that sentence\n",
    "    is split apart.  The function should return the extracted\n",
    "    adjective as a verb.\n",
    "    \"\"\"\n",
    "\n",
    "    pass"
   ]
  },
  {
   "cell_type": "markdown",
   "id": "a135f41c",
   "metadata": {},
   "source": [
    "# Lösungsvorschlag"
   ]
  },
  {
   "cell_type": "code",
   "execution_count": null,
   "id": "46ca94e2",
   "metadata": {},
   "outputs": [],
   "source": [
    "def add_prefix_un(word):\n",
    "    \"\"\"\n",
    "\n",
    "    :param word: str of a root word\n",
    "    :return:  str of root word with un prefix\n",
    "\n",
    "    This function takes `word` as a parameter and\n",
    "    returns a new word with an 'un' prefix.\n",
    "    \"\"\"\n",
    "\n",
    "    return \"un{}\".format(word)\n",
    "\n",
    "\n",
    "def make_word_groups(vocab_words):\n",
    "    \"\"\"\n",
    "\n",
    "    :param vocab_words: list of vocabulary words with a prefix.\n",
    "    :return: str of prefix followed by vocabulary words with\n",
    "             prefix applied, separated by ' :: '.\n",
    "\n",
    "    This function takes a `vocab_words` list and returns a string\n",
    "    with the prefix  and the words with prefix applied, separated\n",
    "     by ' :: '.\n",
    "    \"\"\"\n",
    "\n",
    "    return (\" :: \" + vocab_words[0]).join(vocab_words)\n",
    "\n",
    "\n",
    "def remove_suffix_ness(word):\n",
    "    \"\"\"\n",
    "\n",
    "    :param word: str of word to remove suffix \"ness\" from.\n",
    "    :return: str of word with suffix removed & spelling adjusted.\n",
    "\n",
    "    This function takes in a word and returns the base word with `ness` removed.\n",
    "    \"\"\"\n",
    "\n",
    "    ohne_suffix = word[0:-4]\n",
    "    if ohne_suffix[-1] == \"i\":\n",
    "        ohne_suffix = ohne_suffix[0:-1] + \"y\"\n",
    "    return ohne_suffix\n",
    "\n",
    "\n",
    "def noun_to_verb(sentence, index):\n",
    "    \"\"\"\n",
    "\n",
    "    :param sentence: str that uses the word in sentence\n",
    "    :param index:  index of the word to remove and transform\n",
    "    :return:  str word that changes the extracted adjective to a verb.\n",
    "\n",
    "    A function takes a `sentence` using the\n",
    "    vocabulary word, and the `index` of the word once that sentence\n",
    "    is split apart.  The function should return the extracted\n",
    "    adjective as a verb.\n",
    "    \"\"\"\n",
    "\n",
    "    woerter = sentence.split()\n",
    "    verb = woerter[index]\n",
    "    if verb[-1] == \".\":\n",
    "        verb = verb[0:-1]\n",
    "\n",
    "    return verb + \"en\""
   ]
  }
 ],
 "metadata": {
  "kernelspec": {
   "display_name": "Python 3 (ipykernel)",
   "language": "python",
   "name": "python3"
  },
  "language_info": {
   "codemirror_mode": {
    "name": "ipython",
    "version": 3
   },
   "file_extension": ".py",
   "mimetype": "text/x-python",
   "name": "python",
   "nbconvert_exporter": "python",
   "pygments_lexer": "ipython3",
   "version": "3.9.7"
  },
  "latex_envs": {
   "LaTeX_envs_menu_present": true,
   "autoclose": false,
   "autocomplete": true,
   "bibliofile": "biblio.bib",
   "cite_by": "apalike",
   "current_citInitial": 1,
   "eqLabelWithNumbers": true,
   "eqNumInitial": 1,
   "hotkeys": {
    "equation": "Ctrl-E",
    "itemize": "Ctrl-I"
   },
   "labels_anchors": false,
   "latex_user_defs": false,
   "report_style_numbering": false,
   "user_envs_cfg": false
  },
  "toc": {
   "base_numbering": 1,
   "nav_menu": {},
   "number_sections": true,
   "sideBar": true,
   "skip_h1_title": true,
   "title_cell": "Table of Contents",
   "title_sidebar": "Contents",
   "toc_cell": false,
   "toc_position": {},
   "toc_section_display": true,
   "toc_window_display": true
  },
  "varInspector": {
   "cols": {
    "lenName": 16,
    "lenType": 16,
    "lenVar": 40
   },
   "kernels_config": {
    "python": {
     "delete_cmd_postfix": "",
     "delete_cmd_prefix": "del ",
     "library": "var_list.py",
     "varRefreshCmd": "print(var_dic_list())"
    },
    "r": {
     "delete_cmd_postfix": ") ",
     "delete_cmd_prefix": "rm(",
     "library": "var_list.r",
     "varRefreshCmd": "cat(var_dic_list()) "
    }
   },
   "types_to_exclude": [
    "module",
    "function",
    "builtin_function_or_method",
    "instance",
    "_Feature"
   ],
   "window_display": false
  }
 },
 "nbformat": 4,
 "nbformat_minor": 5
}
