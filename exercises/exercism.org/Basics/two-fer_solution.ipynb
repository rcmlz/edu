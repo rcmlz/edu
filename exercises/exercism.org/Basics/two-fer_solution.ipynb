{
 "cells": [
  {
   "cell_type": "markdown",
   "id": "f7e9f648",
   "metadata": {},
   "source": [
    "# Aufgabe\n",
    "\n",
    "Schreiben sie eine Funktion two_fer()\n",
    "\n",
    "Two-fer oder 2-fer ist kurz für \"zwei für eins\". Eine für dich und eine für mich.\n",
    "\n",
    "Geben Sie bei einem gegebenen \\<Namen> eine Zeichenfolge mit der Nachricht zurück:\n",
    "\n",
    "\"One for \\<name>, one for me.\"\n",
    "\n",
    "Wenn der Name jedoch fehlt, geben Sie die Zeichenfolge zurück:\n",
    "\n",
    "\"One for you, one for me.\"\n",
    "\n",
    "Hier sind einige Beispiele:\n",
    "\n",
    "|Name|Erwarteter Rückgabewert\n",
    "|--|--\n",
    "|Alice  |\tOne for Alice, one for me.\n",
    "|Bob    |\tOne for Bob, one for me.\n",
    "|       |   One for you, one for me.\n",
    "|Zaphod |\tOne for Zaphod, one for me."
   ]
  },
  {
   "cell_type": "markdown",
   "id": "703cf4cb",
   "metadata": {},
   "source": [
    "# Konzepte\n",
    "- Funktionen definieren\n",
    "    * def function_name():\n",
    "- Parameter in Funktionen nutzen\n",
    "    * def function_name(parameter):\n",
    "- Default-Werte für Parameter setzen\n",
    "    * def function_name(parameter=\"default\"):\n",
    "- Strings zusammenfügen\n",
    "    * +\n",
    "    * format"
   ]
  },
  {
   "cell_type": "markdown",
   "id": "13c70ebf",
   "metadata": {},
   "source": [
    "# Ihre Lösung"
   ]
  },
  {
   "cell_type": "code",
   "execution_count": null,
   "id": "d7d24291",
   "metadata": {},
   "outputs": [],
   "source": [
    "def two_fer():\n",
    "    pass"
   ]
  },
  {
   "cell_type": "markdown",
   "id": "c49fec7d",
   "metadata": {},
   "source": [
    "# Automatische Überprüfung"
   ]
  },
  {
   "cell_type": "code",
   "execution_count": 7,
   "id": "f2c64b7f",
   "metadata": {},
   "outputs": [
    {
     "name": "stdout",
     "output_type": "stream",
     "text": [
      "Ihre Implementierung von two_fer() ist True\n"
     ]
    }
   ],
   "source": [
    "nachricht = \"Ihre Implementierung von {} ist {}\"\n",
    "\n",
    "\n",
    "test1 = two_fer(\"Alice\") == \"One for Alice, one for me.\"\n",
    "test2 = two_fer() == \"One for you, one for me.\"\n",
    "\n",
    "print(nachricht.format(\"two_fer()\", test1 & test2 ))\n"
   ]
  },
  {
   "cell_type": "markdown",
   "id": "30d36f1d",
   "metadata": {},
   "source": [
    "# Lösungsvorschlag"
   ]
  },
  {
   "cell_type": "code",
   "execution_count": 2,
   "id": "0aa10702",
   "metadata": {},
   "outputs": [],
   "source": [
    "def two_fer(name=\"you\"):\n",
    "    return   'One for {}, one for me.'.format(name)"
   ]
  }
 ],
 "metadata": {
  "kernelspec": {
   "display_name": "Python 3 (ipykernel)",
   "language": "python",
   "name": "python3"
  },
  "language_info": {
   "codemirror_mode": {
    "name": "ipython",
    "version": 3
   },
   "file_extension": ".py",
   "mimetype": "text/x-python",
   "name": "python",
   "nbconvert_exporter": "python",
   "pygments_lexer": "ipython3",
   "version": "3.9.6"
  },
  "latex_envs": {
   "LaTeX_envs_menu_present": true,
   "autoclose": false,
   "autocomplete": true,
   "bibliofile": "biblio.bib",
   "cite_by": "apalike",
   "current_citInitial": 1,
   "eqLabelWithNumbers": true,
   "eqNumInitial": 1,
   "hotkeys": {
    "equation": "Ctrl-E",
    "itemize": "Ctrl-I"
   },
   "labels_anchors": false,
   "latex_user_defs": false,
   "report_style_numbering": false,
   "user_envs_cfg": false
  },
  "varInspector": {
   "cols": {
    "lenName": 16,
    "lenType": 16,
    "lenVar": 40
   },
   "kernels_config": {
    "python": {
     "delete_cmd_postfix": "",
     "delete_cmd_prefix": "del ",
     "library": "var_list.py",
     "varRefreshCmd": "print(var_dic_list())"
    },
    "r": {
     "delete_cmd_postfix": ") ",
     "delete_cmd_prefix": "rm(",
     "library": "var_list.r",
     "varRefreshCmd": "cat(var_dic_list()) "
    }
   },
   "types_to_exclude": [
    "module",
    "function",
    "builtin_function_or_method",
    "instance",
    "_Feature"
   ],
   "window_display": false
  }
 },
 "nbformat": 4,
 "nbformat_minor": 5
}
