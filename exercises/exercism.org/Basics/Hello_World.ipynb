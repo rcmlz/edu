{
 "cells": [
  {
   "cell_type": "markdown",
   "id": "008adfd6",
   "metadata": {
    "slideshow": {
     "slide_type": "slide"
    }
   },
   "source": [
    "# Aufgabe\n",
    "\n",
    "Quelle: https://exercism.org/tracks/python/exercises/hello-world\n",
    "\n",
    "Die klassische Einführungsübung. Sagen Sie einfach \"Hallo Welt!\".\n",
    "\n",
    "\"Hallo Welt!\" ist das traditionelle erste Programm für den Beginn der Programmierung in einer neuen Sprache oder Umgebung.\n",
    "\n",
    "Die Ziele sind einfach:\n",
    "\n",
    "- Schreiben Sie eine Funktion, die den String \"Hello, World!\" zurückgibt.\n",
    "- Führen Sie die Testsuite aus und stellen Sie sicher, dass sie erfolgreich ist.\n",
    "- Senden Sie Ihre Lösung und überprüfen Sie sie auf der Website.\n",
    "\n",
    "Wenn alles gut geht, sind Sie bereit für Ihre erste richtige Übung."
   ]
  },
  {
   "cell_type": "markdown",
   "id": "9f58d915",
   "metadata": {
    "slideshow": {
     "slide_type": "subslide"
    }
   },
   "source": [
    "# Konzepte\n",
    "\n",
    "- Funktionen\n",
    "- Strings"
   ]
  },
  {
   "cell_type": "markdown",
   "id": "23d65e58",
   "metadata": {
    "slideshow": {
     "slide_type": "subslide"
    }
   },
   "source": [
    "# Optional\n",
    "\n",
    "Der Code zur automatischen Überprüfung nutzt\n",
    "\n",
    "- Bedingungen ( == ) und Wahrheitswerte (Bool)\n",
    "- print() Statement\n",
    "- Zusammenfügen von Zeichenketten mit Platzhaltern"
   ]
  },
  {
   "cell_type": "markdown",
   "id": "41c4e13f",
   "metadata": {
    "slideshow": {
     "slide_type": "slide"
    }
   },
   "source": [
    "# Ihre Lösung\n",
    "Gemäss der Aufgabenstellung implementieren sie nun ihre Lösung."
   ]
  },
  {
   "cell_type": "code",
   "execution_count": 5,
   "id": "c60405bc",
   "metadata": {
    "slideshow": {
     "slide_type": "-"
    }
   },
   "outputs": [],
   "source": [
    "def hello():\n",
    "    return \"Good Morning!\""
   ]
  },
  {
   "cell_type": "markdown",
   "id": "cc216f6e",
   "metadata": {
    "slideshow": {
     "slide_type": "-"
    }
   },
   "source": [
    "# Automatische Überprüfung"
   ]
  },
  {
   "cell_type": "code",
   "execution_count": 6,
   "id": "70425a3d",
   "metadata": {
    "slideshow": {
     "slide_type": "-"
    }
   },
   "outputs": [
    {
     "name": "stdout",
     "output_type": "stream",
     "text": [
      "Ihre Implementierung von hello() ist True\n"
     ]
    }
   ],
   "source": [
    "true_or_false = hello() == \"Hello, World!\"\n",
    "\n",
    "nachricht = \"Ihre Implementierung von {} ist {}\"\n",
    "\n",
    "print(nachricht.format(\"hello()\", true_or_false))"
   ]
  },
  {
   "cell_type": "code",
   "execution_count": null,
   "id": "2e94d033",
   "metadata": {},
   "outputs": [],
   "source": []
  }
 ],
 "metadata": {
  "celltoolbar": "Slideshow",
  "kernelspec": {
   "display_name": "Python 3 (ipykernel)",
   "language": "python",
   "name": "python3"
  },
  "language_info": {
   "codemirror_mode": {
    "name": "ipython",
    "version": 3
   },
   "file_extension": ".py",
   "mimetype": "text/x-python",
   "name": "python",
   "nbconvert_exporter": "python",
   "pygments_lexer": "ipython3",
   "version": "3.9.7"
  },
  "toc": {
   "base_numbering": 1,
   "nav_menu": {},
   "number_sections": true,
   "sideBar": true,
   "skip_h1_title": false,
   "title_cell": "Table of Contents",
   "title_sidebar": "Contents",
   "toc_cell": false,
   "toc_position": {},
   "toc_section_display": true,
   "toc_window_display": false
  },
  "varInspector": {
   "cols": {
    "lenName": 16,
    "lenType": 16,
    "lenVar": 40
   },
   "kernels_config": {
    "python": {
     "delete_cmd_postfix": "",
     "delete_cmd_prefix": "del ",
     "library": "var_list.py",
     "varRefreshCmd": "print(var_dic_list())"
    },
    "r": {
     "delete_cmd_postfix": ") ",
     "delete_cmd_prefix": "rm(",
     "library": "var_list.r",
     "varRefreshCmd": "cat(var_dic_list()) "
    }
   },
   "position": {
    "height": "174.85px",
    "left": "1335.67px",
    "right": "20px",
    "top": "219px",
    "width": "350px"
   },
   "types_to_exclude": [
    "module",
    "function",
    "builtin_function_or_method",
    "instance",
    "_Feature"
   ],
   "window_display": false
  }
 },
 "nbformat": 4,
 "nbformat_minor": 5
}
