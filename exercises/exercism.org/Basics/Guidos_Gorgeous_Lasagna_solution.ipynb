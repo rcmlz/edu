{
 "cells": [
  {
   "cell_type": "markdown",
   "id": "c80e3640",
   "metadata": {
    "slideshow": {
     "slide_type": "slide"
    }
   },
   "source": [
    "# Aufgabe\n",
    "\n",
    "Quelle: https://exercism.org/tracks/python/exercises/guidos-gorgeous-lasagna/\n",
    "\n",
    "Sie werden einen Code schreiben, der Ihnen hilft, eine wunderschöne Lasagne aus Ihrem Lieblingskochbuch zu kochen.\n",
    "\n",
    "Sie haben fünf Aufgaben, die sich alle auf das Kochen Ihres Rezepts beziehen.\n",
    "\n",
    "### Definieren Sie die erwartete Backzeit in Minuten\n",
    "\n",
    "Definieren Sie eine EXPECTED_BAKE_TIME-Konstante, die angibt, wie viele Minuten die Lasagne im Ofen backen soll. Laut Kochbuch sollte die Lasagne 40 Minuten im Ofen sein:\n",
    "\n",
    "### Berechnen Sie die verbleibende Backzeit in Minuten\n",
    "\n",
    "Implementieren Sie die bake_time_remaining()-Funktion, die die tatsächlichen Minuten, die die Lasagne im Ofen war, als Argument annimmt und zurückgibt, wie viele Minuten die Lasagne basierend auf der EXPECTED_BAKE_TIME noch backen muss.\n",
    "\n",
    "### Berechnen Sie die Vorbereitungszeit in Minuten\n",
    "\n",
    "Implementieren Sie die preparation_time_in_minutes()-Funktion, die die Anzahl der Schichten, die Sie der Lasagne hinzufügen möchten, als Argument verwendet und zurückgibt, wie viele Minuten Sie damit verbringen würden, sie zu machen. Angenommen, jede Schicht dauert 2 Minuten, um sich vorzubereiten.\n",
    "\n",
    "### Berechnen Sie die gesamte verstrichene Garzeit (Vorbereiten + Backen) in Minuten\n",
    "\n",
    "Implementieren Sie die elapsed_time_in_minutes()-Funktion mit zwei Parametern: number_of_layers(die Anzahl der Schichten, die der Lasagne hinzugefügt werden) und elapsed_bake_time(die Anzahl der Minuten, die die Lasagne im Ofen gebacken hat). Diese Funktion sollte die Gesamtzahl der Minuten, die Sie bisher gekocht haben (als Summe Ihrer Vorbereitungszeit und der Zeit, die die Lasagne bereits im Ofen gebacken hat), zurückgeben.\n",
    "\n",
    "### Aktualisieren Sie den Code, so dass jede Funktion korrekt dokumentiert ist.\n",
    "\n",
    "Gehen Sie den Code durch und fügen Sie Notizen und Dokumentation hinzu, so wie es bspw. bei der Funktionen bake_time_remaining() gezeigt ist. "
   ]
  },
  {
   "cell_type": "markdown",
   "id": "e261ca02",
   "metadata": {
    "slideshow": {
     "slide_type": "subslide"
    }
   },
   "source": [
    "# Konzepte\n",
    "- Variablen und Konstanten\n",
    "- Funktionen\n",
    "- Addition, Subtraktion und Multiplikation\n",
    "- Dokumentation von Funktionen"
   ]
  },
  {
   "cell_type": "markdown",
   "id": "b8420f2f",
   "metadata": {
    "slideshow": {
     "slide_type": "slide"
    }
   },
   "source": [
    "# Automatische Überprüfung"
   ]
  },
  {
   "cell_type": "code",
   "execution_count": 2,
   "id": "7e2f3b01",
   "metadata": {},
   "outputs": [
    {
     "ename": "TypeError",
     "evalue": "bake_time_remaining() takes 0 positional arguments but 1 was given",
     "output_type": "error",
     "traceback": [
      "\u001b[0;31m---------------------------------------------------------------------------\u001b[0m",
      "\u001b[0;31mTypeError\u001b[0m                                 Traceback (most recent call last)",
      "\u001b[0;32m/var/folders/wb/xnl7h1js0zl_rcmq2jq32c6r0000gw/T/ipykernel_4586/2644439959.py\u001b[0m in \u001b[0;36m<module>\u001b[0;34m\u001b[0m\n\u001b[1;32m      1\u001b[0m \u001b[0mnachricht\u001b[0m \u001b[0;34m=\u001b[0m \u001b[0;34m\"Ihre Implementierung von {} ist {}\"\u001b[0m\u001b[0;34m\u001b[0m\u001b[0;34m\u001b[0m\u001b[0m\n\u001b[1;32m      2\u001b[0m \u001b[0;34m\u001b[0m\u001b[0m\n\u001b[0;32m----> 3\u001b[0;31m \u001b[0mtrue_or_false\u001b[0m \u001b[0;34m=\u001b[0m \u001b[0mbake_time_remaining\u001b[0m\u001b[0;34m(\u001b[0m\u001b[0;36m10\u001b[0m\u001b[0;34m)\u001b[0m \u001b[0;34m==\u001b[0m \u001b[0;36m30\u001b[0m\u001b[0;34m\u001b[0m\u001b[0;34m\u001b[0m\u001b[0m\n\u001b[0m\u001b[1;32m      4\u001b[0m \u001b[0mprint\u001b[0m\u001b[0;34m(\u001b[0m\u001b[0mnachricht\u001b[0m\u001b[0;34m.\u001b[0m\u001b[0mformat\u001b[0m\u001b[0;34m(\u001b[0m\u001b[0;34m\"bake_time_remaining()\"\u001b[0m\u001b[0;34m,\u001b[0m \u001b[0mtrue_or_false\u001b[0m\u001b[0;34m)\u001b[0m\u001b[0;34m)\u001b[0m\u001b[0;34m\u001b[0m\u001b[0;34m\u001b[0m\u001b[0m\n\u001b[1;32m      5\u001b[0m \u001b[0;34m\u001b[0m\u001b[0m\n",
      "\u001b[0;31mTypeError\u001b[0m: bake_time_remaining() takes 0 positional arguments but 1 was given"
     ]
    }
   ],
   "source": [
    "nachricht = \"Ihre Implementierung von {} ist {}\"\n",
    "\n",
    "true_or_false = bake_time_remaining(10) == 30\n",
    "print(nachricht.format(\"bake_time_remaining()\", true_or_false))\n",
    "\n",
    "true_or_false = preparation_time_in_minutes(12) == 24\n",
    "print(nachricht.format(\"preparation_time_in_minutes()\", true_or_false))\n",
    "\n",
    "true_or_false = elapsed_time_in_minutes(10, 20) == 40\n",
    "print(nachricht.format(\"elapsed_time_in_minutes()\", true_or_false))\n"
   ]
  },
  {
   "cell_type": "markdown",
   "id": "6a39ba6f",
   "metadata": {
    "slideshow": {
     "slide_type": "subslide"
    }
   },
   "source": [
    "# Ihre Lösung"
   ]
  },
  {
   "cell_type": "code",
   "execution_count": 1,
   "id": "50e62ca9",
   "metadata": {},
   "outputs": [],
   "source": [
    "# TODO: Definiere die Konstante 'EXPECTED_BAKE_TIME'\n",
    "# TODO: Definiere die Konstante 'PREPARATION_TIME'\n",
    "\n",
    "\n",
    "# TODO: Definiere die Funktion 'bake_time_remaining()'\n",
    "def bake_time_remaining():\n",
    "    \"\"\"Berechnen Sie die verbleibende Backzeit.\n",
    "\n",
    "    :param elapsed_bake_time: int Backzeit bereits abgelaufen.\n",
    "    :return: int verbleibende Backzeit abgeleitet von 'EXPECTED_BAKE_TIME'.\n",
    "\n",
    "    Funktion, sterben die tatsächlichen Minuten benötigt, in denen die sterben im Ofen war, als\n",
    "    ein Argument und gibt zurück, wie viele Minuten die Lasagne noch braucht, um zu backen\n",
    "    basierend auf der `EXPECTED_BAKE_TIME`.\n",
    "    \"\"\"\n",
    "\n",
    "    pass\n",
    "\n",
    "# TODO: Definiere die Funktion 'preparation_time_in_minutes()'\n",
    "\n",
    "# TODO: Definiere die Funktion 'elapsed_time_in_minutes()'"
   ]
  },
  {
   "cell_type": "markdown",
   "id": "8f7acc1a",
   "metadata": {
    "slideshow": {
     "slide_type": "slide"
    }
   },
   "source": [
    "# Lösungsvorschlag"
   ]
  },
  {
   "cell_type": "code",
   "execution_count": null,
   "id": "5aa159ac",
   "metadata": {
    "slideshow": {
     "slide_type": "-"
    }
   },
   "outputs": [],
   "source": [
    "EXPECTED_BAKE_TIME = 40\n",
    "PREPARATION_TIME = 2\n",
    "\n",
    "def bake_time_remaining(elapsed_bake_time):\n",
    "    \"\"\"Calculate the bake time remaining.\n",
    "\n",
    "    :param elapsed_bake_time: int baking time already elapsed.\n",
    "    :return: int remaining bake time derived from 'EXPECTED_BAKE_TIME'.\n",
    "\n",
    "    Function that takes the actual minutes the lasagna has been in the oven as\n",
    "    an argument and returns how many minutes the lasagna still needs to bake\n",
    "    based on the `EXPECTED_BAKE_TIME`.\n",
    "    \"\"\"\n",
    "    return EXPECTED_BAKE_TIME - elapsed_bake_time\n",
    "\n",
    "def preparation_time_in_minutes(number_of_layers):\n",
    "    \"\"\"Calculate the preparation time.\n",
    "\n",
    "    :param number_of_layers: int number of layers.\n",
    "    :return: int preparation time.\n",
    "    \n",
    "    Function that ...\n",
    "    \"\"\"\n",
    "    return PREPARATION_TIME * number_of_layers\n",
    "    \n",
    "def elapsed_time_in_minutes(number_of_layers, elapsed_bake_time):\n",
    "    \"\"\"Calculate the preparation time.\n",
    "\n",
    "    :param number_of_layers: int .\n",
    "    :param elapsed_bake_time: int .\n",
    "    :return: int preparation time.\n",
    "\n",
    "    Function that calculates the total time elapsed for \n",
    "    preparation and baking based on `PREPARATION_TIME` per layer\n",
    "    \"\"\"\n",
    "    return preparation_time_in_minutes(number_of_layers) + elapsed_bake_time"
   ]
  },
  {
   "cell_type": "markdown",
   "id": "8c927ef6",
   "metadata": {
    "slideshow": {
     "slide_type": "subslide"
    }
   },
   "source": [
    "# Anwendung\n",
    "\n",
    "Ein kurzes Beispiel, wie man den Code nutzen könnte ..."
   ]
  },
  {
   "cell_type": "code",
   "execution_count": 9,
   "id": "3fbd9cac",
   "metadata": {
    "slideshow": {
     "slide_type": "-"
    }
   },
   "outputs": [
    {
     "name": "stdout",
     "output_type": "stream",
     "text": [
      "Gesamtzeit: 20 Minuten (Lagen: 5, bisherige Backzeit: 10)\n"
     ]
    }
   ],
   "source": [
    "lagen = 5\n",
    "abgelaufene_backzeit = 10\n",
    "\n",
    "zeit = elapsed_time_in_minutes(lagen, abgelaufene_backzeit)\n",
    "antwort = \"Gesamtzeit: {} Minuten (Lagen: {}, bisherige Backzeit: {})\"\n",
    "              \n",
    "print(antwort.format(zeit, lagen, abgelaufene_backzeit))"
   ]
  }
 ],
 "metadata": {
  "celltoolbar": "Slideshow",
  "kernelspec": {
   "display_name": "Python 3 (ipykernel)",
   "language": "python",
   "name": "python3"
  },
  "language_info": {
   "codemirror_mode": {
    "name": "ipython",
    "version": 3
   },
   "file_extension": ".py",
   "mimetype": "text/x-python",
   "name": "python",
   "nbconvert_exporter": "python",
   "pygments_lexer": "ipython3",
   "version": "3.9.5"
  },
  "toc": {
   "base_numbering": 1,
   "nav_menu": {},
   "number_sections": true,
   "sideBar": true,
   "skip_h1_title": false,
   "title_cell": "Table of Contents",
   "title_sidebar": "Contents",
   "toc_cell": false,
   "toc_position": {},
   "toc_section_display": true,
   "toc_window_display": false
  },
  "varInspector": {
   "cols": {
    "lenName": 16,
    "lenType": 16,
    "lenVar": 40
   },
   "kernels_config": {
    "python": {
     "delete_cmd_postfix": "",
     "delete_cmd_prefix": "del ",
     "library": "var_list.py",
     "varRefreshCmd": "print(var_dic_list())"
    },
    "r": {
     "delete_cmd_postfix": ") ",
     "delete_cmd_prefix": "rm(",
     "library": "var_list.r",
     "varRefreshCmd": "cat(var_dic_list()) "
    }
   },
   "position": {
    "height": "401.85px",
    "left": "1148px",
    "right": "20px",
    "top": "116px",
    "width": "444px"
   },
   "types_to_exclude": [
    "module",
    "function",
    "builtin_function_or_method",
    "instance",
    "_Feature"
   ],
   "window_display": false
  }
 },
 "nbformat": 4,
 "nbformat_minor": 5
}
