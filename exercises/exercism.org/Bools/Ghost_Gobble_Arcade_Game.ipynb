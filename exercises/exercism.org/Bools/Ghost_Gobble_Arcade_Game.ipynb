{
 "cells": [
  {
   "cell_type": "markdown",
   "id": "f7e9f648",
   "metadata": {},
   "source": [
    "# Aufgabe\n",
    "\n",
    "In dieser Übung müssen Sie einige Regeln von Pac-Man implementieren, dem klassischen Arcade-Spiel der 1980er-Jahre.\n",
    "\n",
    "Sie müssen vier Regeln implementieren, die sich alle auf die Spielzustände beziehen.\n",
    "\n",
    "Machen Sie sich keine Gedanken darüber, wie die Argumente abgeleitet werden, konzentrieren Sie sich einfach darauf, die Argumente zu kombinieren, um das beabsichtigte Ergebnis zurückzugeben.\n",
    "\n",
    "## Definieren Sie die eat_ghost()-Funktion\n",
    "\n",
    "The function should return True only if Pac-Man has a power pellet active and is touching a ghost.\n",
    "\n",
    "## Definieren Sie, ob Pac-Man punktet\n",
    "\n",
    "The function should return True if Pac-Man is touching a power pellet or a dot.\n",
    "\n",
    "## Definieren Sie, ob Pac-Man verliert\n",
    "\n",
    "The function should return True if Pac-Man is touching a ghost and does not have a power pellet active.\n",
    "\n",
    "## Definiere, ob Pac-Man gewinnt\n",
    "\n",
    "The function should return True if Pac-Man has eaten all of the dots and has not lost based on the parameters defined in part 3."
   ]
  },
  {
   "cell_type": "markdown",
   "id": "703cf4cb",
   "metadata": {},
   "source": [
    "# Konzepte\n",
    "- Funktionen und Parameter\n",
    "- Wahrheitswerte\n",
    "    * True\n",
    "    * False\n",
    "- Bedingungen, Verkettungen und Vergleiche von Wahrheitswerten\n",
    "    * and\n",
    "    * or\n",
    "    * not"
   ]
  },
  {
   "cell_type": "markdown",
   "id": "13c70ebf",
   "metadata": {},
   "source": [
    "# Ihre Lösung"
   ]
  },
  {
   "cell_type": "code",
   "execution_count": null,
   "id": "d7d24291",
   "metadata": {},
   "outputs": [],
   "source": [
    "def eat_ghost(power_pellet_active, touching_ghost):\n",
    "    \"\"\"\n",
    "\n",
    "    :param power_pellet_active: bool - does the player have an active power pellet?\n",
    "    :param touching_ghost:  bool - is the player touching a ghost?\n",
    "    :return: bool\n",
    "    \"\"\"\n",
    "    pass\n",
    "\n",
    "\n",
    "def score(touching_power_pellet, touching_dot):\n",
    "    \"\"\"\n",
    "\n",
    "    :param touching_power_pellet: bool - does the player have an active power pellet?\n",
    "    :param touching_dot:  bool - is the player touching a dot?\n",
    "    :return: bool\n",
    "    \"\"\"\n",
    "    pass\n",
    "\n",
    "\n",
    "def lose(power_pellet_active, touching_ghost):\n",
    "    \"\"\"\n",
    "\n",
    "    :param power_pellet_active: bool - does the player have an active power pellet?\n",
    "    :param touching_ghost: bool - is the player touching a ghost?\n",
    "    :return: bool\n",
    "    \"\"\"\n",
    "    pass\n",
    "\n",
    "\n",
    "def win(has_eaten_all_dots, power_pellet_active, touching_ghost):\n",
    "    \"\"\"\n",
    "\n",
    "    :param has_eaten_all_dots: bool - has the player \"eaten\" all the dots?\n",
    "    :param power_pellet_active: bool - does the player have an active power pellet?\n",
    "    :param touching_ghost:  bool - is the player touching a ghost?\n",
    "    :return: bool\n",
    "    \"\"\"\n",
    "    pass\n"
   ]
  },
  {
   "cell_type": "markdown",
   "id": "c49fec7d",
   "metadata": {},
   "source": [
    "# Automatische Überprüfung"
   ]
  },
  {
   "cell_type": "code",
   "execution_count": null,
   "id": "f2c64b7f",
   "metadata": {},
   "outputs": [],
   "source": [
    "nachricht = \"Ihre Implementierung von {} ist {}\"\n",
    "\n",
    "power_pellet_active = True\n",
    "touching_ghost = True\n",
    "touching_power_pellet = True\n",
    "touching_dot = True\n",
    "has_eaten_all_dots = True\n",
    "\n",
    "test1 = eat_ghost(power_pellet_active, touching_ghost) == True\n",
    "test2 = eat_ghost(not power_pellet_active, touching_ghost) == False\n",
    "test3 = eat_ghost(power_pellet_active, not touching_ghost) == False\n",
    "test4 = eat_ghost(not power_pellet_active, not touching_ghost) == False\n",
    "print(nachricht.format(\"eat_ghost()\", test1 & test2 & test2 & test4))\n",
    "\n",
    "test1 = score(touching_power_pellet, touching_dot) == True\n",
    "test2 = score(not touching_power_pellet, touching_dot) == True\n",
    "test3 = score(touching_power_pellet, not touching_dot) == True\n",
    "test4 = score(not touching_power_pellet, not touching_dot) == False\n",
    "print(nachricht.format(\"score()\", test1 & test2 & test2 & test4))\n",
    "\n",
    "test1 = lose(power_pellet_active, touching_ghost) == False\n",
    "test2 = lose(not power_pellet_active, touching_ghost) == True\n",
    "test3 = lose(power_pellet_active, not touching_ghost) == False\n",
    "test4 = lose(not power_pellet_active, not touching_ghost) == False\n",
    "print(nachricht.format(\"lose()\", test1 & test2 & test2 & test4))\n",
    "\n",
    "test1 = win(    has_eaten_all_dots,     power_pellet_active,     touching_ghost) == True\n",
    "test2 = win(not has_eaten_all_dots, not power_pellet_active,     touching_ghost) == False\n",
    "test3 = win(    has_eaten_all_dots, not power_pellet_active, not touching_ghost) == True\n",
    "test4 = win(not has_eaten_all_dots,     power_pellet_active, not touching_ghost) == False\n",
    "print(nachricht.format(\"win()\", test1 & test2 & test2 & test4))\n"
   ]
  },
  {
   "cell_type": "markdown",
   "id": "ad6b3d08",
   "metadata": {},
   "source": [
    "## Lösungsvorschlag"
   ]
  },
  {
   "cell_type": "code",
   "execution_count": null,
   "id": "0012504b",
   "metadata": {},
   "outputs": [],
   "source": [
    "def eat_ghost(power_pellet_active, touching_ghost):\n",
    "    \"\"\"\n",
    "\n",
    "    :param power_pellet_active: bool - does the player have an active power pellet?\n",
    "    :param touching_ghost:  bool - is the player touching a ghost?\n",
    "    :return: bool\n",
    "    \"\"\"\n",
    "    return power_pellet_active & touching_ghost\n",
    "\n",
    "\n",
    "def score(touching_power_pellet, touching_dot):\n",
    "    \"\"\"\n",
    "\n",
    "    :param touching_power_pellet: bool - does the player have an active power pellet?\n",
    "    :param touching_dot:  bool - is the player touching a dot?\n",
    "    :return: bool\n",
    "    \"\"\"\n",
    "    return touching_power_pellet or touching_dot\n",
    "\n",
    "\n",
    "def lose(power_pellet_active, touching_ghost):\n",
    "    \"\"\"\n",
    "\n",
    "    :param power_pellet_active: bool - does the player have an active power pellet?\n",
    "    :param touching_ghost: bool - is the player touching a ghost?\n",
    "    :return: bool\n",
    "    \"\"\"\n",
    "    return not power_pellet_active and touching_ghost\n",
    "\n",
    "\n",
    "def win(has_eaten_all_dots, power_pellet_active, touching_ghost):\n",
    "    \"\"\"\n",
    "\n",
    "    :param has_eaten_all_dots: bool - has the player \"eaten\" all the dots?\n",
    "    :param power_pellet_active: bool - does the player have an active power pellet?\n",
    "    :param touching_ghost:  bool - is the player touching a ghost?\n",
    "    :return: bool\n",
    "    \"\"\"\n",
    "    return has_eaten_all_dots & (not lose(power_pellet_active, touching_ghost))\n"
   ]
  }
 ],
 "metadata": {
  "kernelspec": {
   "display_name": "Python 3 (ipykernel)",
   "language": "python",
   "name": "python3"
  },
  "language_info": {
   "codemirror_mode": {
    "name": "ipython",
    "version": 3
   },
   "file_extension": ".py",
   "mimetype": "text/x-python",
   "name": "python",
   "nbconvert_exporter": "python",
   "pygments_lexer": "ipython3",
   "version": "3.9.6"
  },
  "latex_envs": {
   "LaTeX_envs_menu_present": true,
   "autoclose": false,
   "autocomplete": true,
   "bibliofile": "biblio.bib",
   "cite_by": "apalike",
   "current_citInitial": 1,
   "eqLabelWithNumbers": true,
   "eqNumInitial": 1,
   "hotkeys": {
    "equation": "Ctrl-E",
    "itemize": "Ctrl-I"
   },
   "labels_anchors": false,
   "latex_user_defs": false,
   "report_style_numbering": false,
   "user_envs_cfg": false
  },
  "varInspector": {
   "cols": {
    "lenName": 16,
    "lenType": 16,
    "lenVar": 40
   },
   "kernels_config": {
    "python": {
     "delete_cmd_postfix": "",
     "delete_cmd_prefix": "del ",
     "library": "var_list.py",
     "varRefreshCmd": "print(var_dic_list())"
    },
    "r": {
     "delete_cmd_postfix": ") ",
     "delete_cmd_prefix": "rm(",
     "library": "var_list.r",
     "varRefreshCmd": "cat(var_dic_list()) "
    }
   },
   "types_to_exclude": [
    "module",
    "function",
    "builtin_function_or_method",
    "instance",
    "_Feature"
   ],
   "window_display": false
  }
 },
 "nbformat": 4,
 "nbformat_minor": 5
}
