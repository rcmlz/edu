{
 "cells": [
  {
   "cell_type": "code",
   "execution_count": null,
   "id": "2e1ac3f7",
   "metadata": {},
   "outputs": [],
   "source": [
    "from doctest import run_docstring_examples\n",
    "from datetime import datetime\n",
    "import logging\n",
    "logging.basicConfig(level=logging.INFO)"
   ]
  },
  {
   "cell_type": "markdown",
   "id": "f561165e",
   "metadata": {},
   "source": [
    "# Day 2: Dive!\n",
    "\n",
    "Tipp:\n",
    "\n",
    "Quelle: https://adventofcode.com/2021/day/2\n",
    "\n",
    "## Part One\n",
    "\n",
    "Now, you need to figure out how to pilot this thing.\n",
    "\n",
    "It seems like the submarine can take a series of commands like forward 1, down 2, or up 3:\n",
    "<pre>\n",
    "    forward X increases the horizontal position by X units.\n",
    "    down X increases the depth by X units.\n",
    "    up X decreases the depth by X units.\n",
    "</pre>\n",
    "\n",
    "Note that since you're on a submarine, down and up affect your depth, and so they have the opposite result of what you might expect.\n",
    "\n",
    "The submarine seems to already have a planned course (your puzzle input). You should probably figure out where it's going. For example:\n",
    "\n",
    "<pre>\n",
    "forward 5\n",
    "down 5\n",
    "forward 8\n",
    "up 3\n",
    "down 8\n",
    "forward 2\n",
    "</pre>\n",
    "\n",
    "Your horizontal position and depth both start at 0. The steps above would then modify them as follows:\n",
    "\n",
    "<pre>\n",
    "    forward 5 adds 5 to your horizontal position, a total of 5.\n",
    "    down 5 adds 5 to your depth, resulting in a value of 5.\n",
    "    forward 8 adds 8 to your horizontal position, a total of 13.\n",
    "    up 3 decreases your depth by 3, resulting in a value of 2.\n",
    "    down 8 adds 8 to your depth, resulting in a value of 10.\n",
    "    forward 2 adds 2 to your horizontal position, a total of 15.\n",
    "</pre>\n",
    "\n",
    "After following these instructions, you would have a horizontal position of 15 and a depth of 10. (Multiplying these together produces 150.)\n",
    "\n",
    "Calculate the horizontal position and depth you would have after following the planned course. What do you get if you multiply your final horizontal position by your final depth?\n",
    "\n",
    "Your puzzle answer was 1604850."
   ]
  },
  {
   "cell_type": "code",
   "execution_count": null,
   "id": "10498cbc",
   "metadata": {},
   "outputs": [],
   "source": [
    "TESTDATEN = \"\"\"\n",
    "forward 5\n",
    "down 5\n",
    "forward 8\n",
    "up 3\n",
    "down 8\n",
    "forward 2\n",
    "\"\"\""
   ]
  },
  {
   "cell_type": "code",
   "execution_count": null,
   "id": "ac6984b3",
   "metadata": {},
   "outputs": [],
   "source": [
    "def pre_process(daten):\n",
    "    \"\"\"\n",
    "    List den Input\n",
    "    \n",
    "    >>> print(pre_process(TESTDATEN))\n",
    "    ['forward 5', 'down 5', 'forward 8', 'up 3', 'down 8', 'forward 2']\n",
    "\n",
    "    \"\"\"\n",
    "    liste_von_strings = list(filter(None, daten.splitlines()))\n",
    "\n",
    "    return liste_von_strings\n",
    "\n",
    "\n",
    "run_docstring_examples(pre_process, locals())"
   ]
  },
  {
   "cell_type": "code",
   "execution_count": null,
   "id": "3f73777c",
   "metadata": {},
   "outputs": [],
   "source": [
    "def dive_p1(daten):\n",
    "    \"\"\"\n",
    "    Findet die endgültige Position des U-Bootes und gibt das produkt aus x-Wert und Tiefe zurück\n",
    "    \n",
    "    Tests:\n",
    "    \n",
    "    >>> print(dive_p1(TESTDATEN))\n",
    "    150\n",
    "    \n",
    "    \"\"\"\n",
    "    liste_von_strings = pre_process(daten)\n",
    "\n",
    "    pass\n",
    "\n",
    "\n",
    "run_docstring_examples(dive_p1, locals())"
   ]
  },
  {
   "cell_type": "markdown",
   "id": "2a35784b",
   "metadata": {},
   "source": [
    "## Part Two\n",
    "\n",
    "Based on your calculations, the planned course doesn't seem to make any sense. You find the submarine manual and discover that the process is actually slightly more complicated.\n",
    "\n",
    "In addition to horizontal position and depth, you'll also need to track a third value, aim, which also starts at 0. The commands also mean something entirely different than you first thought:\n",
    "\n",
    "<pre>\n",
    "    down X increases your aim by X units.\n",
    "    up X decreases your aim by X units.\n",
    "    forward X does two things:\n",
    "        It increases your horizontal position by X units.\n",
    "        It increases your depth by your aim multiplied by X.\n",
    "</pre>\n",
    "\n",
    "Again note that since you're on a submarine, down and up do the opposite of what you might expect: \"down\" means aiming in the positive direction.\n",
    "\n",
    "Now, the above example does something different:\n",
    "\n",
    "<pre>\n",
    "    forward 5 adds 5 to your horizontal position, a total of 5. Because your aim is 0, your depth does not change.\n",
    "    down 5 adds 5 to your aim, resulting in a value of 5.\n",
    "    forward 8 adds 8 to your horizontal position, a total of 13. Because your aim is 5, your depth increases by 8*5=40.\n",
    "    up 3 decreases your aim by 3, resulting in a value of 2.\n",
    "    down 8 adds 8 to your aim, resulting in a value of 10.\n",
    "    forward 2 adds 2 to your horizontal position, a total of 15. Because your aim is 10, your depth increases by 2*10=20 to a total of 60.\n",
    "</pre>\n",
    "\n",
    "After following these new instructions, you would have a horizontal position of 15 and a depth of 60. (Multiplying these produces 900.)\n",
    "\n",
    "Using this new interpretation of the commands, calculate the horizontal position and depth you would have after following the planned course. What do you get if you multiply your final horizontal position by your final depth?\n",
    "\n",
    "Your puzzle answer was 1685186100."
   ]
  },
  {
   "cell_type": "code",
   "execution_count": null,
   "id": "d61211e5",
   "metadata": {},
   "outputs": [],
   "source": [
    "def dive_p2(daten):\n",
    "    \"\"\"\n",
    "    Findet die endgültige Position des U-Bootes und gibt das produkt aus x-Wert und Tiefe zurück\n",
    "    \n",
    "    Tests:\n",
    "    \n",
    "    >>> print(dive_p2(TESTDATEN))\n",
    "    900\n",
    "    \n",
    "    \"\"\"\n",
    "    liste_von_strings = pre_process(daten)\n",
    "\n",
    "    pass\n",
    "\n",
    "\n",
    "run_docstring_examples(dive_p2, locals())"
   ]
  },
  {
   "cell_type": "markdown",
   "id": "08e215b5",
   "metadata": {},
   "source": [
    "## Testdaten laden"
   ]
  },
  {
   "cell_type": "code",
   "execution_count": null,
   "id": "3fb7f684",
   "metadata": {},
   "outputs": [],
   "source": [
    "with open('../inputs/2021_02.csv') as f:\n",
    "    input_data = f.read()"
   ]
  },
  {
   "cell_type": "markdown",
   "id": "d5ea70ee",
   "metadata": {},
   "source": [
    "## Lösungen testen"
   ]
  },
  {
   "cell_type": "code",
   "execution_count": null,
   "id": "a1f899d8",
   "metadata": {},
   "outputs": [],
   "source": [
    "def check_solution(fun, input_data, solution):\n",
    "\n",
    "    start = datetime.now()\n",
    "    result = fun(input_data)\n",
    "    dauer = datetime.now() - start\n",
    "\n",
    "    nachricht = \"Ergebnis: {} Rechenzeit: {}\"\n",
    "    print(nachricht.format(result, dauer))\n",
    "\n",
    "    assert result == solution"
   ]
  },
  {
   "cell_type": "code",
   "execution_count": null,
   "id": "55358842",
   "metadata": {},
   "outputs": [],
   "source": [
    "check_solution(dive_p1, input_data, 1604850)\n",
    "check_solution(dive_p2, input_data, 1685186100)"
   ]
  }
 ],
 "metadata": {
  "kernelspec": {
   "display_name": "Python 3 (ipykernel)",
   "language": "python",
   "name": "python3"
  },
  "language_info": {
   "codemirror_mode": {
    "name": "ipython",
    "version": 3
   },
   "file_extension": ".py",
   "mimetype": "text/x-python",
   "name": "python",
   "nbconvert_exporter": "python",
   "pygments_lexer": "ipython3",
   "version": "3.9.9"
  },
  "latex_envs": {
   "LaTeX_envs_menu_present": true,
   "autoclose": false,
   "autocomplete": true,
   "bibliofile": "biblio.bib",
   "cite_by": "apalike",
   "current_citInitial": 1,
   "eqLabelWithNumbers": true,
   "eqNumInitial": 1,
   "hotkeys": {
    "equation": "Ctrl-E",
    "itemize": "Ctrl-I"
   },
   "labels_anchors": false,
   "latex_user_defs": false,
   "report_style_numbering": false,
   "user_envs_cfg": false
  },
  "toc": {
   "base_numbering": 1,
   "nav_menu": {},
   "number_sections": true,
   "sideBar": true,
   "skip_h1_title": false,
   "title_cell": "Table of Contents",
   "title_sidebar": "Contents",
   "toc_cell": false,
   "toc_position": {},
   "toc_section_display": true,
   "toc_window_display": false
  },
  "varInspector": {
   "cols": {
    "lenName": 16,
    "lenType": 16,
    "lenVar": 40
   },
   "kernels_config": {
    "python": {
     "delete_cmd_postfix": "",
     "delete_cmd_prefix": "del ",
     "library": "var_list.py",
     "varRefreshCmd": "print(var_dic_list())"
    },
    "r": {
     "delete_cmd_postfix": ") ",
     "delete_cmd_prefix": "rm(",
     "library": "var_list.r",
     "varRefreshCmd": "cat(var_dic_list()) "
    }
   },
   "types_to_exclude": [
    "module",
    "function",
    "builtin_function_or_method",
    "instance",
    "_Feature"
   ],
   "window_display": false
  }
 },
 "nbformat": 4,
 "nbformat_minor": 5
}
