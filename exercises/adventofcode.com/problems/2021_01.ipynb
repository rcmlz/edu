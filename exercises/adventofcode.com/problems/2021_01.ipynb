{
 "cells": [
  {
   "cell_type": "code",
   "execution_count": null,
   "id": "2e1ac3f7",
   "metadata": {},
   "outputs": [],
   "source": [
    "from doctest import run_docstring_examples\n",
    "from datetime import datetime"
   ]
  },
  {
   "cell_type": "markdown",
   "id": "f561165e",
   "metadata": {},
   "source": [
    "# Day 1: Sonar Sweep\n",
    "\n",
    "Tipp: \n",
    "\n",
    "Quelle: https://adventofcode.com/2021/day/1\n",
    "\n",
    "## Part One\n",
    "\n",
    "You're minding your own business on a ship at sea when the overboard alarm goes off! You rush to see if you can help. Apparently, one of the Elves tripped and accidentally sent the sleigh keys flying into the ocean!\n",
    "\n",
    "Before you know it, you're inside a submarine the Elves keep ready for situations like this. It's covered in Christmas lights (because of course it is), and it even has an experimental antenna that should be able to track the keys if you can boost its signal strength high enough; there's a little meter that indicates the antenna's signal strength by displaying 0-50 stars.\n",
    "\n",
    "Your instincts tell you that in order to save Christmas, you'll need to get all fifty stars by December 25th.\n",
    "\n",
    "Collect stars by solving puzzles. Two puzzles will be made available on each day in the Advent calendar; the second puzzle is unlocked when you complete the first. Each puzzle grants one star. Good luck!\n",
    "\n",
    "As the submarine drops below the surface of the ocean, it automatically performs a sonar sweep of the nearby sea floor. On a small screen, the sonar sweep report (your puzzle input) appears: each line is a measurement of the sea floor depth as the sweep looks further and further away from the submarine.\n",
    "\n",
    "For example, suppose you had the following report:\n",
    "\n",
    "<pre>\n",
    "199\n",
    "200\n",
    "208\n",
    "210\n",
    "200\n",
    "207\n",
    "240\n",
    "269\n",
    "260\n",
    "263\n",
    "</pre>\n",
    "\n",
    "This report indicates that, scanning outward from the submarine, the sonar sweep found depths of 199, 200, 208, 210, and so on.\n",
    "\n",
    "The first order of business is to figure out how quickly the depth increases, just so you know what you're dealing with - you never know if the keys will get carried into deeper water by an ocean current or a fish or something.\n",
    "\n",
    "To do this, count the number of times a depth measurement increases from the previous measurement. (There is no measurement before the first measurement.) In the example above, the changes are as follows:\n",
    "\n",
    "<pre>\n",
    "199 (N/A - no previous measurement)\n",
    "200 (increased)\n",
    "208 (increased)\n",
    "210 (increased)\n",
    "200 (decreased)\n",
    "207 (increased)\n",
    "240 (increased)\n",
    "269 (increased)\n",
    "260 (decreased)\n",
    "263 (increased)\n",
    "</pre>\n",
    "\n",
    "In this example, there are 7 measurements that are larger than the previous measurement.\n",
    "\n",
    "How many measurements are larger than the previous measurement?\n",
    "\n",
    "Your puzzle answer was 1184."
   ]
  },
  {
   "cell_type": "code",
   "execution_count": null,
   "id": "a6459924",
   "metadata": {},
   "outputs": [],
   "source": [
    "TESTDATEN = \"\"\"\n",
    "199\n",
    "200\n",
    "208\n",
    "210\n",
    "200\n",
    "207\n",
    "240\n",
    "269\n",
    "260\n",
    "263\n",
    "\"\"\""
   ]
  },
  {
   "cell_type": "code",
   "execution_count": null,
   "id": "b44ec6a5",
   "metadata": {},
   "outputs": [],
   "source": [
    "def pre_process(daten):\n",
    "    \"\"\"\n",
    "    Erzeugt eine Liste von Zahlen aus dem Input.\n",
    "    \n",
    "    >>> print(pre_process(TESTDATEN))\n",
    "    [199, 200, 208, 210, 200, 207, 240, 269, 260, 263]\n",
    "    \n",
    "    \"\"\"\n",
    "    liste_von_strings = list(filter(None, daten.splitlines()))\n",
    "    liste_von_zahlen = [int(s) for s in liste_von_strings]\n",
    "\n",
    "    return liste_von_zahlen\n",
    "    \n",
    "run_docstring_examples(pre_process, locals())    "
   ]
  },
  {
   "cell_type": "code",
   "execution_count": null,
   "id": "3f73777c",
   "metadata": {},
   "outputs": [],
   "source": [
    "def sonar_sweep_p1(measurements):\n",
    "    \"\"\"\n",
    "    Zählt in einer List die Anzahl von Nachfolger > Vorgänger.\n",
    "    \n",
    "    Tests:\n",
    "    \n",
    "    >>> print(sonar_sweep_p1(TESTDATEN))\n",
    "    7\n",
    "    \n",
    "    \"\"\"\n",
    "    messwerte = pre_process(measurements)\n",
    "    pass"
   ]
  },
  {
   "cell_type": "code",
   "execution_count": null,
   "id": "dbcf7feb",
   "metadata": {},
   "outputs": [],
   "source": [
    "run_docstring_examples(sonar_sweep_p1, locals())"
   ]
  },
  {
   "cell_type": "markdown",
   "id": "2a35784b",
   "metadata": {},
   "source": [
    "## Part Two\n",
    "\n",
    "Considering every single measurement isn't as useful as you expected: there's just too much noise in the data.\n",
    "\n",
    "Instead, consider sums of a three-measurement sliding window. Again considering the above example:\n",
    "<pre>\n",
    "199  A      \n",
    "200  A B    \n",
    "208  A B C  \n",
    "210    B C D\n",
    "200  E   C D\n",
    "207  E F   D\n",
    "240  E F G  \n",
    "269    F G H\n",
    "260      G H\n",
    "263        H\n",
    "</pre>\n",
    "\n",
    "Start by comparing the first and second three-measurement windows. The measurements in the first window are marked A (199, 200, 208); their sum is 199 + 200 + 208 = 607. The second window is marked B (200, 208, 210); its sum is 618. The sum of measurements in the second window is larger than the sum of the first, so this first comparison increased.\n",
    "\n",
    "Your goal now is to count the number of times the sum of measurements in this sliding window increases from the previous sum. So, compare A with B, then compare B with C, then C with D, and so on. Stop when there aren't enough measurements left to create a new three-measurement sum.\n",
    "\n",
    "In the above example, the sum of each three-measurement window is as follows:\n",
    "\n",
    "<pre>\n",
    "A: 607 (N/A - no previous sum)\n",
    "B: 618 (increased)\n",
    "C: 618 (no change)\n",
    "D: 617 (decreased)\n",
    "E: 647 (increased)\n",
    "F: 716 (increased)\n",
    "G: 769 (increased)\n",
    "H: 792 (increased)\n",
    "</pre>\n",
    "\n",
    "In this example, there are 5 sums that are larger than the previous sum.\n",
    "\n",
    "Consider sums of a three-measurement sliding window. How many sums are larger than the previous sum?\n",
    "\n",
    "Your puzzle answer was 1158."
   ]
  },
  {
   "cell_type": "code",
   "execution_count": null,
   "id": "d61211e5",
   "metadata": {},
   "outputs": [],
   "source": [
    "def sonar_sweep_p2(measurements):\n",
    "    \"\"\"\n",
    "    Zählt in einer List die Anzahl von Nachfolger > Vorgänger mit laufender Summe über drei Messungen.\n",
    "    \n",
    "    Tests:\n",
    "    \n",
    "    >>> print(sonar_sweep_p2(TESTDATEN))\n",
    "    5\n",
    "    \n",
    "    \"\"\"\n",
    "    messwerte = pre_process(measurements)\n",
    "    pass"
   ]
  },
  {
   "cell_type": "code",
   "execution_count": null,
   "id": "5ec7b268",
   "metadata": {},
   "outputs": [],
   "source": [
    "run_docstring_examples(sonar_sweep_p2, locals())"
   ]
  },
  {
   "cell_type": "markdown",
   "id": "08e215b5",
   "metadata": {},
   "source": [
    "## Testdaten laden"
   ]
  },
  {
   "cell_type": "code",
   "execution_count": null,
   "id": "3fb7f684",
   "metadata": {},
   "outputs": [],
   "source": [
    "with open('../inputs/2021_01.csv') as f:\n",
    "    input_data = f.read()"
   ]
  },
  {
   "cell_type": "markdown",
   "id": "6144e3e4",
   "metadata": {},
   "source": [
    "## Lösungen testen"
   ]
  },
  {
   "cell_type": "code",
   "execution_count": null,
   "id": "c196bb84",
   "metadata": {
    "code_folding": [
     0
    ]
   },
   "outputs": [],
   "source": [
    "def check_solution(fun, input_data, solution):\n",
    "    \n",
    "    start = datetime.now()\n",
    "    result = fun(input_data)\n",
    "    dauer = datetime.now() - start\n",
    "\n",
    "    nachricht = \"Ergebnis: {} Rechenzeit: {}\"\n",
    "    print(nachricht.format(result, dauer))\n",
    "\n",
    "    assert result == solution"
   ]
  },
  {
   "cell_type": "code",
   "execution_count": null,
   "id": "a1f899d8",
   "metadata": {},
   "outputs": [],
   "source": [
    "check_solution(sonar_sweep_p1, input_data, 1184)\n",
    "check_solution(sonar_sweep_p2, input_data, 1158)"
   ]
  }
 ],
 "metadata": {
  "kernelspec": {
   "display_name": "Python 3 (ipykernel)",
   "language": "python",
   "name": "python3"
  },
  "language_info": {
   "codemirror_mode": {
    "name": "ipython",
    "version": 3
   },
   "file_extension": ".py",
   "mimetype": "text/x-python",
   "name": "python",
   "nbconvert_exporter": "python",
   "pygments_lexer": "ipython3",
   "version": "3.9.9"
  },
  "latex_envs": {
   "LaTeX_envs_menu_present": true,
   "autoclose": false,
   "autocomplete": true,
   "bibliofile": "biblio.bib",
   "cite_by": "apalike",
   "current_citInitial": 1,
   "eqLabelWithNumbers": true,
   "eqNumInitial": 1,
   "hotkeys": {
    "equation": "Ctrl-E",
    "itemize": "Ctrl-I"
   },
   "labels_anchors": false,
   "latex_user_defs": false,
   "report_style_numbering": false,
   "user_envs_cfg": false
  },
  "toc": {
   "base_numbering": 1,
   "nav_menu": {},
   "number_sections": true,
   "sideBar": true,
   "skip_h1_title": false,
   "title_cell": "Table of Contents",
   "title_sidebar": "Contents",
   "toc_cell": false,
   "toc_position": {},
   "toc_section_display": true,
   "toc_window_display": true
  },
  "varInspector": {
   "cols": {
    "lenName": 16,
    "lenType": 16,
    "lenVar": 40
   },
   "kernels_config": {
    "python": {
     "delete_cmd_postfix": "",
     "delete_cmd_prefix": "del ",
     "library": "var_list.py",
     "varRefreshCmd": "print(var_dic_list())"
    },
    "r": {
     "delete_cmd_postfix": ") ",
     "delete_cmd_prefix": "rm(",
     "library": "var_list.r",
     "varRefreshCmd": "cat(var_dic_list()) "
    }
   },
   "types_to_exclude": [
    "module",
    "function",
    "builtin_function_or_method",
    "instance",
    "_Feature"
   ],
   "window_display": false
  }
 },
 "nbformat": 4,
 "nbformat_minor": 5
}
