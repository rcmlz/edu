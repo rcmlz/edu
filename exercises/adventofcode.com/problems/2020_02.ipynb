{
 "cells": [
  {
   "cell_type": "code",
   "execution_count": null,
   "id": "2e1ac3f7",
   "metadata": {},
   "outputs": [],
   "source": [
    "from doctest import run_docstring_examples\n",
    "from datetime import datetime"
   ]
  },
  {
   "cell_type": "markdown",
   "id": "f561165e",
   "metadata": {},
   "source": [
    "# Day 2: Password Philosophy\n",
    "\n",
    "Tipp: Ein einmalig erzeugtes Wörterbuch (Dictionary) mit Schlüssel-Wert-Paaren aus den Input-Daten kann für beide Teilaufgaben verwendet werden. \n",
    "\n",
    "Quelle: https://adventofcode.com/2020/day/2\n",
    "\n",
    "## Part One\n",
    "\n",
    "Your flight departs in a few days from the coastal airport; the easiest way down to the coast from here is via [toboggan](https://en.wikipedia.org/wiki/Toboggan).\n",
    "\n",
    "The shopkeeper at the North Pole Toboggan Rental Shop is having a bad day. \"Something's wrong with our computers; we can't log in!\" You ask if you can take a look.\n",
    "\n",
    "Their password database seems to be a little corrupted: some of the passwords wouldn't have been allowed by the Official Toboggan Corporate Policy that was in effect when they were chosen.\n",
    "\n",
    "To try to debug the problem, they have created a list (your puzzle input) of passwords (according to the corrupted database) and the corporate policy when that password was set.\n",
    "\n",
    "For example, suppose you have the following list:\n",
    "\n",
    "|Erlaubte Anzahl|des Buchstaben|in zu prüfendem Passwort\n",
    "|--|--|--\n",
    "|1-3| a:| abcde\n",
    "|1-3| b:| cdefg\n",
    "|2-9| c:| ccccccccc\n",
    "\n",
    "Each line gives the password policy and then the password. The password policy indicates the lowest and highest number of times a given letter must appear for the password to be valid. For example, 1-3 a means that the password must contain a at least 1 time and at most 3 times.\n",
    "\n",
    "In the above example, 2 passwords are valid. The middle password, cdefg, is not; it contains no instances of b, but needs at least 1. The first and third passwords are valid: they contain one a or nine c, both within the limits of their respective policies.\n",
    "\n",
    "How many passwords are valid according to their policies?\n",
    "\n",
    "Your puzzle answer was 493."
   ]
  },
  {
   "cell_type": "code",
   "execution_count": null,
   "id": "10498cbc",
   "metadata": {},
   "outputs": [],
   "source": [
    "TESTDATEN = \"\"\"\n",
    "1-3 a: abcde\n",
    "1-3 b: cdefg\n",
    "2-9 c: ccccccccc\n",
    "\"\"\""
   ]
  },
  {
   "cell_type": "code",
   "execution_count": null,
   "id": "ac6984b3",
   "metadata": {},
   "outputs": [],
   "source": [
    "def pre_process(daten):\n",
    "    \"\"\"\n",
    "    Erzeugt eine Liste von Wörterbüchern aus dem Input, so dass später die Passwortsuche leicht von der Hand geht.\n",
    "    \n",
    "    >>> print(pre_process(TESTDATEN))\n",
    "    [{'zahl1': 1, 'zahl2': 3, 'letter': 'a', 'password': 'abcde'}, {'zahl1': 1, 'zahl2': 3, 'letter': 'b', 'password': 'cdefg'}, {'zahl1': 2, 'zahl2': 9, 'letter': 'c', 'password': 'ccccccccc'}]\n",
    "    \n",
    "    \"\"\"\n",
    "    pass\n",
    "\n",
    "run_docstring_examples(pre_process, locals())    "
   ]
  },
  {
   "cell_type": "code",
   "execution_count": null,
   "id": "3f73777c",
   "metadata": {},
   "outputs": [],
   "source": [
    "def password_philosophy_p1(daten):\n",
    "    \"\"\"\n",
    "    Findet Anzahl erlaubte Passwörter im Daten-Input.\n",
    "    \n",
    "    Tests:\n",
    "    \n",
    "    >>> print(password_philosophy_p1(TESTDATEN))\n",
    "    2\n",
    "    \n",
    "    \"\"\"\n",
    "    pass\n",
    "\n",
    "run_docstring_examples(password_philosophy_p1, locals())"
   ]
  },
  {
   "cell_type": "markdown",
   "id": "2a35784b",
   "metadata": {},
   "source": [
    "## Part Two\n",
    "\n",
    "While it appears you validated the passwords correctly, they don't seem to be what the Official Toboggan Corporate Authentication System is expecting.\n",
    "\n",
    "The shopkeeper suddenly realizes that he just accidentally explained the password policy rules from his old job at the sled rental place down the street! The Official Toboggan Corporate Policy actually works a little differently.\n",
    "\n",
    "Each policy actually describes two positions in the password, where 1 means the first character, 2 means the second character, and so on. (Be careful; Toboggan Corporate Policies have no concept of \"index zero\"!) Exactly one of these positions must contain the given letter. Other occurrences of the letter are irrelevant for the purposes of policy enforcement.\n",
    "\n",
    "Given the same example list from above:\n",
    "\n",
    "|Positionen|des Buchstaben|in zu prüfendem Passwort|Bewertung\n",
    "|--|--|--|--\n",
    "|1-3| a:| abcde| is valid: position 1 contains a and position 3 does not.\n",
    "|1-3| b:| cdefg| is invalid: neither position 1 nor position 3 contains b.\n",
    "|2-9| c:| ccccccccc |is invalid: both position 2 and position 9 contain c.\n",
    "\n",
    "How many passwords are valid according to the new interpretation of the policies?\n",
    "\n",
    "Your puzzle answer was 593."
   ]
  },
  {
   "cell_type": "code",
   "execution_count": null,
   "id": "d61211e5",
   "metadata": {},
   "outputs": [],
   "source": [
    "def password_philosophy_p2(daten):\n",
    "    \"\"\"\n",
    "    Findet Anzahl erlaubte Passwörter im Daten-Input nach neuer Regel.\n",
    "    \n",
    "    Tests:\n",
    "    \n",
    "    >>> print(password_philosophy_p2(TESTDATEN))\n",
    "    1\n",
    "    \n",
    "    \"\"\"\n",
    "    pass\n",
    "\n",
    "run_docstring_examples(password_philosophy_p2, locals())"
   ]
  },
  {
   "cell_type": "markdown",
   "id": "08e215b5",
   "metadata": {},
   "source": [
    "## Testdaten laden"
   ]
  },
  {
   "cell_type": "code",
   "execution_count": null,
   "id": "3fb7f684",
   "metadata": {},
   "outputs": [],
   "source": [
    "with open('../inputs/2020_02.csv') as f:\n",
    "    input_data = f.read()"
   ]
  },
  {
   "cell_type": "markdown",
   "id": "d5ea70ee",
   "metadata": {},
   "source": [
    "## Lösungen testen"
   ]
  },
  {
   "cell_type": "code",
   "execution_count": null,
   "id": "a1f899d8",
   "metadata": {},
   "outputs": [],
   "source": [
    "def check_solution(fun, input_data, solution):\n",
    "    \n",
    "    start = datetime.now()\n",
    "    result = fun(input_data)\n",
    "    dauer = datetime.now() - start\n",
    "\n",
    "    nachricht = \"Ergebnis: {} Rechenzeit: {}\"\n",
    "    print(nachricht.format(result, dauer))\n",
    "\n",
    "    assert result == solution"
   ]
  },
  {
   "cell_type": "code",
   "execution_count": null,
   "id": "55358842",
   "metadata": {},
   "outputs": [],
   "source": [
    "check_solution(password_philosophy_p1, input_data, 493)\n",
    "check_solution(password_philosophy_p2, input_data, 593)"
   ]
  }
 ],
 "metadata": {
  "kernelspec": {
   "display_name": "Python 3 (ipykernel)",
   "language": "python",
   "name": "python3"
  },
  "language_info": {
   "codemirror_mode": {
    "name": "ipython",
    "version": 3
   },
   "file_extension": ".py",
   "mimetype": "text/x-python",
   "name": "python",
   "nbconvert_exporter": "python",
   "pygments_lexer": "ipython3",
   "version": "3.9.9"
  },
  "latex_envs": {
   "LaTeX_envs_menu_present": true,
   "autoclose": false,
   "autocomplete": true,
   "bibliofile": "biblio.bib",
   "cite_by": "apalike",
   "current_citInitial": 1,
   "eqLabelWithNumbers": true,
   "eqNumInitial": 1,
   "hotkeys": {
    "equation": "Ctrl-E",
    "itemize": "Ctrl-I"
   },
   "labels_anchors": false,
   "latex_user_defs": false,
   "report_style_numbering": false,
   "user_envs_cfg": false
  },
  "toc": {
   "base_numbering": 1,
   "nav_menu": {},
   "number_sections": true,
   "sideBar": true,
   "skip_h1_title": false,
   "title_cell": "Table of Contents",
   "title_sidebar": "Contents",
   "toc_cell": false,
   "toc_position": {},
   "toc_section_display": true,
   "toc_window_display": true
  },
  "varInspector": {
   "cols": {
    "lenName": 16,
    "lenType": 16,
    "lenVar": 40
   },
   "kernels_config": {
    "python": {
     "delete_cmd_postfix": "",
     "delete_cmd_prefix": "del ",
     "library": "var_list.py",
     "varRefreshCmd": "print(var_dic_list())"
    },
    "r": {
     "delete_cmd_postfix": ") ",
     "delete_cmd_prefix": "rm(",
     "library": "var_list.r",
     "varRefreshCmd": "cat(var_dic_list()) "
    }
   },
   "types_to_exclude": [
    "module",
    "function",
    "builtin_function_or_method",
    "instance",
    "_Feature"
   ],
   "window_display": false
  }
 },
 "nbformat": 4,
 "nbformat_minor": 5
}
