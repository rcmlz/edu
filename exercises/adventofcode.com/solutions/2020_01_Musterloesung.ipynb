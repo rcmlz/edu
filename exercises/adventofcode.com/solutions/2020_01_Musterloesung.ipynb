{
 "cells": [
  {
   "cell_type": "code",
   "execution_count": null,
   "id": "2e1ac3f7",
   "metadata": {},
   "outputs": [],
   "source": [
    "from doctest import run_docstring_examples\n",
    "from datetime import datetime"
   ]
  },
  {
   "cell_type": "markdown",
   "id": "f561165e",
   "metadata": {},
   "source": [
    "# Day 1: Report Repair\n",
    "\n",
    "Tipp: diese Aufgabe kann u.A. mit zwei bzw. drei verschachtelten For-Schleifen gelöst werden.\n",
    "\n",
    "Quelle: https://adventofcode.com/2020/day/1\n",
    "\n",
    "## Part One\n",
    "\n",
    "After saving Christmas five years in a row, you've decided to take a vacation at a nice resort on a tropical island. Surely, Christmas will go on without you.\n",
    "\n",
    "The tropical island has its own currency and is entirely cash-only. The gold coins used there have a little picture of a starfish; the locals just call them stars. None of the currency exchanges seem to have heard of them, but somehow, you'll need to find fifty of these coins by the time you arrive so you can pay the deposit on your room.\n",
    "\n",
    "To save your vacation, you need to get all fifty stars by December 25th.\n",
    "\n",
    "Collect stars by solving puzzles. Two puzzles will be made available on each day in the Advent calendar; the second puzzle is unlocked when you complete the first. Each puzzle grants one star. Good luck!\n",
    "\n",
    "Before you leave, the Elves in accounting just need you to fix your expense report (your puzzle input); apparently, something isn't quite adding up.\n",
    "\n",
    "Specifically, they need you to find the two entries that sum to 2020 and then multiply those two numbers together.\n",
    "\n",
    "For example, suppose your expense report contained the following:\n",
    "\n",
    "1721\n",
    "979\n",
    "366\n",
    "299\n",
    "675\n",
    "1456\n",
    "\n",
    "In this list, the two entries that sum to 2020 are 1721 and 299. Multiplying them together produces 1721 * 299 = 514579, so the correct answer is 514579.\n",
    "\n",
    "Of course, your expense report is much larger. Find the two entries that sum to 2020; what do you get if you multiply them together?\n",
    "\n",
    "Your puzzle answer was 1020084."
   ]
  },
  {
   "cell_type": "code",
   "execution_count": null,
   "id": "3f73777c",
   "metadata": {},
   "outputs": [],
   "source": [
    "def report_repair_p1(expenses, zielsumme=2020):\n",
    "    \"\"\"\n",
    "    Findet die zwei Zahlen aus einer Liste von Zahlen, die addiert \"zielsumme\" ergeben und gibt das Produkt zurück. \n",
    "    \n",
    "    1721 + 299 = 2020\n",
    "    1721 * 299 = 514579\n",
    "    \n",
    "    Tests:\n",
    "    \n",
    "    >>> print(report_repair_p1([1721, 979, 366, 299, 675, 1456], 2020))\n",
    "    514579\n",
    "    \n",
    "    \"\"\"\n",
    "    n = len(expenses)\n",
    "    resultat = None\n",
    "    for i in range(n-1):\n",
    "        for j in range(i+1, n):\n",
    "            summe = expenses[i] + expenses[j]\n",
    "            if summe == zielsumme:\n",
    "                resultat = expenses[i] * expenses[j]\n",
    "                break\n",
    "    return resultat"
   ]
  },
  {
   "cell_type": "code",
   "execution_count": null,
   "id": "dbcf7feb",
   "metadata": {},
   "outputs": [],
   "source": [
    "run_docstring_examples(report_repair_p1, locals())"
   ]
  },
  {
   "cell_type": "markdown",
   "id": "2a35784b",
   "metadata": {},
   "source": [
    "## Part Two\n",
    "\n",
    "The Elves in accounting are thankful for your help; one of them even offers you a starfish coin they had left over from a past vacation. They offer you a second one if you can find three numbers in your expense report that meet the same criteria.\n",
    "\n",
    "Using the above example again, the three entries that sum to 2020 are 979, 366, and 675. Multiplying them together produces the answer, 241861950.\n",
    "\n",
    "In your expense report, what is the product of the three entries that sum to 2020?\n",
    "\n",
    "Your puzzle answer was 295086480."
   ]
  },
  {
   "cell_type": "code",
   "execution_count": null,
   "id": "d61211e5",
   "metadata": {},
   "outputs": [],
   "source": [
    "def report_repair_p2(expenses, zielsumme=2020):\n",
    "    \"\"\"\n",
    "    Findet die drei Zahlen aus einer Liste von Zahlen, die addiert \"zielsumme\" ergeben und gibt das Produkt zurück. \n",
    "    \n",
    "    Tests:\n",
    "    979 + 366 + 675 = 2020\n",
    "    979 * 366 * 675 = 241861950\n",
    "    \n",
    "    >>> print(report_repair_p2([1721, 979, 366, 299, 675, 1456], 2020))\n",
    "    241861950\n",
    "    \n",
    "    \"\"\"\n",
    "    n = len(expenses)\n",
    "    resultat = None\n",
    "    for i in range(n-2):\n",
    "        for j in range(i+1, n-1):\n",
    "            teilsumme = expenses[i] + expenses[j]\n",
    "            for k in range(j+1, n):\n",
    "                if teilsumme + expenses[k] == zielsumme:\n",
    "                    resultat = expenses[i] * expenses[j] * expenses[k]\n",
    "                    break\n",
    "    return resultat"
   ]
  },
  {
   "cell_type": "code",
   "execution_count": null,
   "id": "5ec7b268",
   "metadata": {},
   "outputs": [],
   "source": [
    "run_docstring_examples(report_repair_p2, locals())"
   ]
  },
  {
   "cell_type": "markdown",
   "id": "08e215b5",
   "metadata": {},
   "source": [
    "## Testdaten laden"
   ]
  },
  {
   "cell_type": "code",
   "execution_count": null,
   "id": "3fb7f684",
   "metadata": {},
   "outputs": [],
   "source": [
    "with open('../inputs/2020_01.csv') as f:\n",
    "    input_data = [int(line.rstrip()) for line in f]"
   ]
  },
  {
   "cell_type": "markdown",
   "id": "6144e3e4",
   "metadata": {},
   "source": [
    "## Solution"
   ]
  },
  {
   "cell_type": "code",
   "execution_count": null,
   "id": "c196bb84",
   "metadata": {},
   "outputs": [],
   "source": [
    "def check_solution(fun, input_data, solution=0):\n",
    "    \n",
    "    start = datetime.now()\n",
    "    result = fun(input_data)\n",
    "    dauer = datetime.now() - start\n",
    "\n",
    "    nachricht = \"Ergebnis: {} Rechenzeit: {}\"\n",
    "    print(nachricht.format(result, dauer))\n",
    "\n",
    "    assert result == solution"
   ]
  },
  {
   "cell_type": "code",
   "execution_count": null,
   "id": "a1f899d8",
   "metadata": {},
   "outputs": [],
   "source": [
    "check_solution(report_repair_p1, input_data, 1020084)\n",
    "check_solution(report_repair_p2, input_data, 295086480)"
   ]
  }
 ],
 "metadata": {
  "kernelspec": {
   "display_name": "Python 3 (ipykernel)",
   "language": "python",
   "name": "python3"
  },
  "language_info": {
   "codemirror_mode": {
    "name": "ipython",
    "version": 3
   },
   "file_extension": ".py",
   "mimetype": "text/x-python",
   "name": "python",
   "nbconvert_exporter": "python",
   "pygments_lexer": "ipython3",
   "version": "3.9.9"
  },
  "latex_envs": {
   "LaTeX_envs_menu_present": true,
   "autoclose": false,
   "autocomplete": true,
   "bibliofile": "biblio.bib",
   "cite_by": "apalike",
   "current_citInitial": 1,
   "eqLabelWithNumbers": true,
   "eqNumInitial": 1,
   "hotkeys": {
    "equation": "Ctrl-E",
    "itemize": "Ctrl-I"
   },
   "labels_anchors": false,
   "latex_user_defs": false,
   "report_style_numbering": false,
   "user_envs_cfg": false
  },
  "toc": {
   "base_numbering": 1,
   "nav_menu": {},
   "number_sections": true,
   "sideBar": true,
   "skip_h1_title": false,
   "title_cell": "Table of Contents",
   "title_sidebar": "Contents",
   "toc_cell": false,
   "toc_position": {},
   "toc_section_display": true,
   "toc_window_display": true
  },
  "varInspector": {
   "cols": {
    "lenName": 16,
    "lenType": 16,
    "lenVar": 40
   },
   "kernels_config": {
    "python": {
     "delete_cmd_postfix": "",
     "delete_cmd_prefix": "del ",
     "library": "var_list.py",
     "varRefreshCmd": "print(var_dic_list())"
    },
    "r": {
     "delete_cmd_postfix": ") ",
     "delete_cmd_prefix": "rm(",
     "library": "var_list.r",
     "varRefreshCmd": "cat(var_dic_list()) "
    }
   },
   "types_to_exclude": [
    "module",
    "function",
    "builtin_function_or_method",
    "instance",
    "_Feature"
   ],
   "window_display": false
  }
 },
 "nbformat": 4,
 "nbformat_minor": 5
}
