{
 "cells": [
  {
   "cell_type": "code",
   "execution_count": null,
   "id": "2e1ac3f7",
   "metadata": {},
   "outputs": [],
   "source": [
    "from doctest import run_docstring_examples\n",
    "#import logging\n",
    "#logging.basicConfig(level=logging.INFO)"
   ]
  },
  {
   "cell_type": "markdown",
   "id": "f561165e",
   "metadata": {},
   "source": [
    "# Minimale Abkürzungen (Schleifen)\n",
    "\n",
    "Quelle: https://www.programmieraufgaben.ch/aufgabe/minimale-abkuerzungen/c6upnev5\n",
    "\n",
    "## Aufgabenstellung\n",
    "Schreibe eine Funktion, die eine Reihe von Zeichenketten annimmt und die eindeutige Folge von Abürzungen gleicher Länge zurückgibt.\n",
    "\n",
    "<pre>\n",
    "Beispiel 1:\n",
    "Eingabe: [\"Montag\", \"Dienstag\", \"Mittwoch\", \"Donnerstag\", \"Freitag\", \"Samstag\", \"Sonntag\"]\n",
    "Ausgabe: [\"Mo\", \"Di\", \"Mi\", \"Do\", \"Fr\", \"Sa\", \"So\"] \n",
    "</pre>\n",
    "\n",
    "<pre>\n",
    "Beispiel 2:\n",
    "Eingabe: [\"Januar\", \"Februar\", \"März\", \"April\", \"Mai\", \"Juni\", \"Juli\", \"August\", \"September\", \"Oktober\", \"November\", \"Dezember\"]\n",
    "Ausgabe: [\"Jan\", \"Feb\", \"Mär\", \"Apr\", \"Mai\", \"Jun\", \"Jul\", \"Aug\", \"Sep\", \"Okt\", \"Nov\", \"Dez\"] \n",
    "</pre>"
   ]
  },
  {
   "cell_type": "markdown",
   "id": "121dc34f",
   "metadata": {},
   "source": [
    "## Ihre Lösung"
   ]
  },
  {
   "cell_type": "code",
   "execution_count": null,
   "id": "21d58461",
   "metadata": {},
   "outputs": [],
   "source": [
    "def abrevate(eingabe):\n",
    "    \"\"\"\n",
    "    Konvertiert eine Liste von Zeichenketten in ein Liste von minimal abgekürzten Zeichenketten.\n",
    "    \n",
    "    Beispiele:\n",
    "    >>> print(abrevate((\"Montag\", \"Dienstag\", \"Mittwoch\", \"Donnerstag\", \"Freitag\", \"Samstag\", \"Sonntag\")))\n",
    "    ('Mo', 'Di', 'Mi', 'Do', 'Fr', 'Sa', 'So')\n",
    "    \n",
    "    >>> print(abrevate((\"Januar\", \"Februar\", \"März\", \"April\", \"Mai\", \"Juni\", \"Juli\", \"August\", \"September\", \"Oktober\", \"November\", \"Dezember\")))\n",
    "    ('Jan', 'Feb', 'Mär', 'Apr', 'Mai', 'Jun', 'Jul', 'Aug', 'Sep', 'Okt', 'Nov', 'Dez')\n",
    "    \n",
    "    \"\"\"\n",
    "    pass\n",
    "\n",
    "run_docstring_examples(abrevate, locals())"
   ]
  },
  {
   "cell_type": "markdown",
   "id": "d5ea70ee",
   "metadata": {},
   "source": [
    "## Lösungen testen"
   ]
  },
  {
   "cell_type": "code",
   "execution_count": null,
   "id": "55358842",
   "metadata": {},
   "outputs": [],
   "source": [
    "assert abrevate((\"Monday\", \"Tuesday\", \"Wednesday\", \"Thursday\", \"Friday\", \"Saturday\", \"Sunday\")) == ('Mo', 'Tu', 'We', 'Th', 'Fr', 'Sa', 'Su')"
   ]
  }
 ],
 "metadata": {
  "kernelspec": {
   "display_name": "Python 3 (ipykernel)",
   "language": "python",
   "name": "python3"
  },
  "language_info": {
   "codemirror_mode": {
    "name": "ipython",
    "version": 3
   },
   "file_extension": ".py",
   "mimetype": "text/x-python",
   "name": "python",
   "nbconvert_exporter": "python",
   "pygments_lexer": "ipython3",
   "version": "3.9.10"
  },
  "latex_envs": {
   "LaTeX_envs_menu_present": true,
   "autoclose": false,
   "autocomplete": true,
   "bibliofile": "biblio.bib",
   "cite_by": "apalike",
   "current_citInitial": 1,
   "eqLabelWithNumbers": true,
   "eqNumInitial": 1,
   "hotkeys": {
    "equation": "Ctrl-E",
    "itemize": "Ctrl-I"
   },
   "labels_anchors": false,
   "latex_user_defs": false,
   "report_style_numbering": false,
   "user_envs_cfg": false
  },
  "toc": {
   "base_numbering": 1,
   "nav_menu": {},
   "number_sections": true,
   "sideBar": true,
   "skip_h1_title": false,
   "title_cell": "Table of Contents",
   "title_sidebar": "Contents",
   "toc_cell": false,
   "toc_position": {},
   "toc_section_display": true,
   "toc_window_display": true
  },
  "varInspector": {
   "cols": {
    "lenName": 16,
    "lenType": 16,
    "lenVar": 40
   },
   "kernels_config": {
    "python": {
     "delete_cmd_postfix": "",
     "delete_cmd_prefix": "del ",
     "library": "var_list.py",
     "varRefreshCmd": "print(var_dic_list())"
    },
    "r": {
     "delete_cmd_postfix": ") ",
     "delete_cmd_prefix": "rm(",
     "library": "var_list.r",
     "varRefreshCmd": "cat(var_dic_list()) "
    }
   },
   "types_to_exclude": [
    "module",
    "function",
    "builtin_function_or_method",
    "instance",
    "_Feature"
   ],
   "window_display": false
  }
 },
 "nbformat": 4,
 "nbformat_minor": 5
}
