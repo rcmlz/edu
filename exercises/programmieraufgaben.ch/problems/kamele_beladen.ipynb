{
 "cells": [
  {
   "cell_type": "code",
   "execution_count": null,
   "id": "2e1ac3f7",
   "metadata": {},
   "outputs": [],
   "source": [
    "from doctest import run_docstring_examples"
   ]
  },
  {
   "cell_type": "markdown",
   "id": "f561165e",
   "metadata": {},
   "source": [
    "# Kamele beladen (Rekursion)\n",
    "\n",
    "Quelle: https://www.programmieraufgaben.ch/aufgabe/kamele-beladen/6gddr4zm\n",
    "\n",
    "## Aufgabenstellung\n",
    "Ein Kamel soll optimal beladen werden. Das Kamel kann maximal 270 kg tragen. Aktuell sind Waren mit den folgenden Gewichten zu transportieren: 5, 18, 32, 34, 45, 57, 63, 69, 94, 98 und 121 kg. Nicht alle Gepäckstücke müssen verwendet werden; die 270 kg sollen aber möglichst gut, wenn nicht sogar ganz ohne Rest beladen werden.\n",
    "\n",
    "Schreiben Sie eine rekursive Funktion, welches die maximal mögliche Beladung eines Kamels in Abhängigketi der Gesamttragfähigkeit des Kamels und der zu transportierenden Gepäckstücke berechnet.\n",
    "\n",
    "Tipp: Für jedes Gepäckstück aus dem Vorrat kann das Problem rekursiv vereinfacht werden. Dazu wird dessen Gewicht probehalber aufgeladen. Danach wird das beste Resultat der nun noch verfügbaren weiteren Möglichkeiten gesucht und zum probehalber aufgeladenen Gewicht addiert.\n",
    "\n",
    "Behandeln Sie zunächst die Abbruchbedingung: der verbleibende Vorrat von nicht zu schweren Gepäckstücken ist leer."
   ]
  },
  {
   "cell_type": "markdown",
   "id": "121dc34f",
   "metadata": {},
   "source": [
    "## Rekursive Lösung"
   ]
  },
  {
   "cell_type": "code",
   "execution_count": null,
   "id": "ac6984b3",
   "metadata": {
    "code_folding": []
   },
   "outputs": [],
   "source": [
    "def beladen(kapazitaet, vorrat):\n",
    "    \"\"\"\n",
    "    Berechnet die maximal mögliche Beladung des Kamels in rekursiver Manier.\n",
    "    \n",
    "    >>> print(beladen(1, []))\n",
    "    0\n",
    "    >>> print(beladen(0, [1, 2, 3]))\n",
    "    0\n",
    "    >>> print(beladen(1, [1, 1]))\n",
    "    1\n",
    "    >>> print(beladen(3, [1, 2, 3]))\n",
    "    3\n",
    "    >>> print(beladen(5, [1, 2, 3]))\n",
    "    5\n",
    "    >>> print(beladen(5, [6, 1, 1, 8]))\n",
    "    2\n",
    "\n",
    "    Jedes geeignete Gepäckstück wird probehalber aufgeladen\n",
    "    und zur rekursiv optimalen Lösung (auf Basis des neuen Vorrats \n",
    "    und der Restkapazität) addiert.\n",
    "        \n",
    "    \"\"\"\n",
    "    pass\n",
    "\n",
    "run_docstring_examples(beladen, locals())"
   ]
  },
  {
   "cell_type": "markdown",
   "id": "d5ea70ee",
   "metadata": {},
   "source": [
    "## Rekursive Lösungen testen\n",
    "\n",
    "Ab ca. 14 Gewichten beginnt die Aufgabe die Grenze der rekursiven Berechenbarkeit zu \"knacken\"!"
   ]
  },
  {
   "cell_type": "code",
   "execution_count": null,
   "id": "55358842",
   "metadata": {},
   "outputs": [],
   "source": [
    "assert beladen(270, [5, 18, 32, 34, 45, 57, 63, 69, 94, 98, 121]) == 270\n",
    "\n",
    "#assert beladen(1000, [181, 130, 128, 125, 124, 121, 104, 101, 98, 94, 69, 61, 13]) == 1000\n",
    "\n",
    "# Das zweite Beispiel mit der simplen, rekursiven Lösung zu berechnen dauert ... und dauert ... und dauert.\n",
    "# Da benötigen wir wohl einen besseren Algorithmus."
   ]
  }
 ],
 "metadata": {
  "kernelspec": {
   "display_name": "Python 3 (ipykernel)",
   "language": "python",
   "name": "python3"
  },
  "language_info": {
   "codemirror_mode": {
    "name": "ipython",
    "version": 3
   },
   "file_extension": ".py",
   "mimetype": "text/x-python",
   "name": "python",
   "nbconvert_exporter": "python",
   "pygments_lexer": "ipython3",
   "version": "3.9.9"
  },
  "latex_envs": {
   "LaTeX_envs_menu_present": true,
   "autoclose": false,
   "autocomplete": true,
   "bibliofile": "biblio.bib",
   "cite_by": "apalike",
   "current_citInitial": 1,
   "eqLabelWithNumbers": true,
   "eqNumInitial": 1,
   "hotkeys": {
    "equation": "Ctrl-E",
    "itemize": "Ctrl-I"
   },
   "labels_anchors": false,
   "latex_user_defs": false,
   "report_style_numbering": false,
   "user_envs_cfg": false
  },
  "toc": {
   "base_numbering": 1,
   "nav_menu": {},
   "number_sections": true,
   "sideBar": true,
   "skip_h1_title": false,
   "title_cell": "Table of Contents",
   "title_sidebar": "Contents",
   "toc_cell": false,
   "toc_position": {},
   "toc_section_display": true,
   "toc_window_display": false
  },
  "varInspector": {
   "cols": {
    "lenName": 16,
    "lenType": 16,
    "lenVar": 40
   },
   "kernels_config": {
    "python": {
     "delete_cmd_postfix": "",
     "delete_cmd_prefix": "del ",
     "library": "var_list.py",
     "varRefreshCmd": "print(var_dic_list())"
    },
    "r": {
     "delete_cmd_postfix": ") ",
     "delete_cmd_prefix": "rm(",
     "library": "var_list.r",
     "varRefreshCmd": "cat(var_dic_list()) "
    }
   },
   "types_to_exclude": [
    "module",
    "function",
    "builtin_function_or_method",
    "instance",
    "_Feature"
   ],
   "window_display": false
  }
 },
 "nbformat": 4,
 "nbformat_minor": 5
}
