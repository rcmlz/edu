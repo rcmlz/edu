{
 "cells": [
  {
   "cell_type": "code",
   "execution_count": null,
   "id": "2e1ac3f7",
   "metadata": {},
   "outputs": [],
   "source": [
    "from doctest import run_docstring_examples\n",
    "#from decimal import Decimal\n",
    "#import logging\n",
    "#logging.basicConfig(level=logging.INFO)"
   ]
  },
  {
   "cell_type": "markdown",
   "id": "f561165e",
   "metadata": {},
   "source": [
    "# Wurzelziehen nach dem Verfahren von Heron (Rekursion)\n",
    "\n",
    "Quelle: https://www.programmieraufgaben.ch/aufgabe/wurzelziehen-nach-dem-verfahren-von-heron/kugctg53\n",
    "\n",
    "## Quadratwurzel\n",
    "Schreiben Sie eine Funktion, welche die Quadratwurzel $a$ einer Zahl $A$ zieht, indem das Verfahren von Heron rekusiv angewendet wird, bis eine definierte Genauigkeit $\\epsilon$ erreicht ist.\n",
    "\n",
    "Abbruchbedingung:\n",
    "$$ abs(a_{i+1} - a_{i}) \\leq \\epsilon$$\n",
    "\n",
    "Rekursionsformel:\n",
    "$$ a_{1} = \\frac{A}{2}$$\n",
    "\n",
    "$$a_{i+1} =  \\frac{A + a_{i}^{2}}{2 \\cdot a_{i}}$$\n",
    "\n",
    "## Kubikwurzel\n",
    "Implementieren Sie nun die Kubikwurzel.\n",
    "\n",
    "Rekursionsformel:\n",
    "$$ a_{1} = \\frac{A}{3}$$\n",
    "\n",
    "$$a_{i+1} =  \\frac{A + 2 \\cdot a_{i}^{3}}{3 \\cdot a_{i}^{2}}$$"
   ]
  },
  {
   "cell_type": "markdown",
   "id": "121dc34f",
   "metadata": {},
   "source": [
    "## Ihre Lösung"
   ]
  },
  {
   "cell_type": "code",
   "execution_count": null,
   "id": "ac6984b3",
   "metadata": {},
   "outputs": [],
   "source": [
    "def wurzel(A, n, epsilon=1e-5, a_i=None):\n",
    "    \"\"\"\n",
    "    Berechnet die n-te Wurzel einer Zahl A mit einer definierten Genauigkeit epsilon.\n",
    "    \n",
    "    ACHTUNG! Um den Code einfach zu halten, ist auf die erzwungene Verwendung von Decimal() und korrektem Runden bspw. mit .quantize() \n",
    "    verzichtet worden. Dies hat zur Konsequenz, dass Rundungsfehler auftreten!\n",
    "    \n",
    "    Der Fokus der nachfolgenden Lösung liegt auf der Demonstration der Rekursion!\n",
    "    \n",
    "    >>> print(wurzel(A=5, n=2))\n",
    "    2.23606797749979\n",
    "\n",
    "    >>> print(wurzel(A=8, n=3))\n",
    "    2.0\n",
    "\n",
    "    \"\"\"\n",
    "    assert (n == 2 or n == 3) and A > 0 and 0 < epsilon < 1 \n",
    "    \n",
    "    if a_i == None:  # a_1 setzen\n",
    "        a_i = A / n\n",
    "\n",
    "    a_i_plus_1 = (A + (n - 1) * a_i**n) / (n * a_i**(n - 1))\n",
    "\n",
    "    error = abs(a_i_plus_1 - a_i)\n",
    "\n",
    "    #logging.info(\"{} {} {} {} {} {}\".format(A, n, epsilon, a_i, a_i_plus_1, error))\n",
    "\n",
    "    if error <= epsilon:\n",
    "        return a_i_plus_1\n",
    "\n",
    "    return wurzel(A, n, epsilon, a_i_plus_1)\n",
    "\n",
    "\n",
    "run_docstring_examples(wurzel, locals())"
   ]
  },
  {
   "cell_type": "markdown",
   "id": "d5ea70ee",
   "metadata": {},
   "source": [
    "## Lösungen testen"
   ]
  },
  {
   "cell_type": "code",
   "execution_count": null,
   "id": "55358842",
   "metadata": {},
   "outputs": [],
   "source": [
    "wurzel(100, 2, epsilon=1e-3)"
   ]
  },
  {
   "cell_type": "code",
   "execution_count": null,
   "id": "4ce8667c",
   "metadata": {},
   "outputs": [],
   "source": [
    "wurzel(27, 3, epsilon=1e-2)"
   ]
  },
  {
   "cell_type": "code",
   "execution_count": null,
   "id": "4b0fc24d",
   "metadata": {},
   "outputs": [],
   "source": [
    "wurzel(27, 3, epsilon=1e-15)"
   ]
  }
 ],
 "metadata": {
  "kernelspec": {
   "display_name": "Python 3 (ipykernel)",
   "language": "python",
   "name": "python3"
  },
  "language_info": {
   "codemirror_mode": {
    "name": "ipython",
    "version": 3
   },
   "file_extension": ".py",
   "mimetype": "text/x-python",
   "name": "python",
   "nbconvert_exporter": "python",
   "pygments_lexer": "ipython3",
   "version": "3.9.9"
  },
  "latex_envs": {
   "LaTeX_envs_menu_present": true,
   "autoclose": false,
   "autocomplete": true,
   "bibliofile": "biblio.bib",
   "cite_by": "apalike",
   "current_citInitial": 1,
   "eqLabelWithNumbers": true,
   "eqNumInitial": 1,
   "hotkeys": {
    "equation": "Ctrl-E",
    "itemize": "Ctrl-I"
   },
   "labels_anchors": false,
   "latex_user_defs": false,
   "report_style_numbering": false,
   "user_envs_cfg": false
  },
  "toc": {
   "base_numbering": 1,
   "nav_menu": {},
   "number_sections": true,
   "sideBar": true,
   "skip_h1_title": false,
   "title_cell": "Table of Contents",
   "title_sidebar": "Contents",
   "toc_cell": false,
   "toc_position": {},
   "toc_section_display": true,
   "toc_window_display": true
  },
  "varInspector": {
   "cols": {
    "lenName": 16,
    "lenType": 16,
    "lenVar": 40
   },
   "kernels_config": {
    "python": {
     "delete_cmd_postfix": "",
     "delete_cmd_prefix": "del ",
     "library": "var_list.py",
     "varRefreshCmd": "print(var_dic_list())"
    },
    "r": {
     "delete_cmd_postfix": ") ",
     "delete_cmd_prefix": "rm(",
     "library": "var_list.r",
     "varRefreshCmd": "cat(var_dic_list()) "
    }
   },
   "types_to_exclude": [
    "module",
    "function",
    "builtin_function_or_method",
    "instance",
    "_Feature"
   ],
   "window_display": false
  }
 },
 "nbformat": 4,
 "nbformat_minor": 5
}
