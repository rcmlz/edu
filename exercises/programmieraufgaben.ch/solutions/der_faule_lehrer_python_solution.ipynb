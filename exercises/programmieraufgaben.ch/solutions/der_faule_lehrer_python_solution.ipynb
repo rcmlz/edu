{
 "cells": [
  {
   "cell_type": "code",
   "execution_count": null,
   "id": "2e1ac3f7",
   "metadata": {},
   "outputs": [],
   "source": [
    "from doctest import run_docstring_examples\n",
    "from datetime import datetime\n",
    "from math import sqrt\n",
    "\n",
    "import logging\n",
    "logging.basicConfig(level=logging.INFO)"
   ]
  },
  {
   "cell_type": "markdown",
   "id": "f561165e",
   "metadata": {},
   "source": [
    "# Der faule Lehrer (Schleifen)\n",
    "\n",
    "Quelle: https://www.programmieraufgaben.ch/aufgabe/der-faule-lehrer/5t2tux7e\n",
    "\n",
    "## Aufgabenstellung\n",
    "Herr Lehrer Stressli ist Mathematiker und daher eher faul. In einem Mathebuch für seine Klasse hat er folgende Aufgabe gefunden:\n",
    "\n",
    "<pre>\n",
    "Löse die folgenden drei Aufgaben und erfinde 3 weitere im selben Stil:\n",
    "\n",
    "364 * 2475 = ???\n",
    "308 * 2925 = ???\n",
    "165 * 5460 = ???\n",
    "</pre>\n",
    "\n",
    "Selbst hat der faule Stressli die Aufgabe natürlich nicht gelöst. Nun kommen aber Schüler mit weiteren Aufgaben im selben Stil und er soll deren Lösungen bewerten!\n",
    "\n",
    "Doch was ist 'der selbe Stil'? Im Lösungsbuch steht, dass das Produkt der beiden ganzzahligen Faktoren immer 900900 ergeben muss. Aha!\n",
    "\n",
    "Natürlich könnte Herr Stressli dies nun immer nachrechnen. Doch er bevorzugt eine Liste mit allen möglichen Produkten aus zwei Faktoren, welche 900900 ergeben:\n",
    "\n",
    "<pre>\n",
    "900900 = 1 * 900900\n",
    "900900 = 2 * 450450\n",
    "900900 = 3 * 300300\n",
    "900900 = 4 * 225225\n",
    "900900 = 5 * ...\n",
    "</pre>\n",
    "\n",
    "Mit dieser Liste muss er nicht mal seinen Taschenrechner bemühen!\n",
    "\n",
    "Helfen Sie Herrn Stressli mit einem Programm, das alle möglichen Multiplikationen (aus zwei Faktoren) sortiert ausgibt, welche als Produkt 900900 ergeben. Der erste der beiden Faktoren soll immer kleiner als der zweite sein. Die Sortierung ist aufsteigend nach dem ersten Faktor. Somit kann unser faule Lehrer einfach in der Liste nachschlagen, ob seine Schüler eine sinnvolle Lösung erstellt haben.\n",
    "\n",
    "Sie tun damit Herrn Stressli einen doppelten Gefallen: Er war sogar zu faul, dieses Programm selbst zu schreiben!"
   ]
  },
  {
   "cell_type": "code",
   "execution_count": null,
   "id": "10498cbc",
   "metadata": {},
   "outputs": [],
   "source": [
    "TESTDATEN = \"\"\"\n",
    "12 = 1 * 12\n",
    "12 = 2 * 6\n",
    "12 = 3 * 4\n",
    "\"\"\""
   ]
  },
  {
   "cell_type": "code",
   "execution_count": null,
   "id": "ac6984b3",
   "metadata": {},
   "outputs": [],
   "source": [
    "def vergleichswerte(daten):\n",
    "    \"\"\"\n",
    "    Erzeugt eine Liste von Listen mit den beiden Faktoren in der richtigen Reihenfolge aus dem Input.\n",
    "    Bei einem Faktor 12, wie in den Testdaten, sähe der Output so aus:\n",
    "    \n",
    "    >>> print(vergleichswerte(TESTDATEN))\n",
    "    [[1, 12], [2, 6], [3, 4]]\n",
    "    \n",
    "    \"\"\"\n",
    "    liste_von_strings = list(filter(None, daten.splitlines()))\n",
    "\n",
    "    ergebnis = []\n",
    "\n",
    "    for z in liste_von_strings:\n",
    "        produkt, faktoren = z.split(\"=\")\n",
    "        f1, f2 = faktoren.split(\"*\")\n",
    "        ergebnis.append([int(f1), int(f2)])\n",
    "\n",
    "    return ergebnis\n",
    "\n",
    "\n",
    "run_docstring_examples(vergleichswerte, locals())"
   ]
  },
  {
   "cell_type": "markdown",
   "id": "121dc34f",
   "metadata": {},
   "source": [
    "## Ihre Lösung"
   ]
  },
  {
   "cell_type": "code",
   "execution_count": null,
   "id": "3f73777c",
   "metadata": {},
   "outputs": [],
   "source": [
    "def erzeuge_liste_von_zwei_faktoren_fuer(produkt):\n",
    "    \"\"\"\n",
    "    Findet alle Paare von Faktoren, die \"produkt\" ergeben und gibt eine Liste von Listen zurück.\n",
    "    \n",
    "    Tests:\n",
    "    \n",
    "    >>> print(erzeuge_liste_von_zwei_faktoren_fuer(12))\n",
    "    [[1, 12], [2, 6], [3, 4]]\n",
    "    \n",
    "    \"\"\"\n",
    "\n",
    "    ergebnis = []\n",
    "    max_factor = int(sqrt(produkt))\n",
    "\n",
    "    for f1 in range(1, max_factor + 1):\n",
    "        if produkt % f1 == 0:\n",
    "            f2 = int(produkt / f1)\n",
    "            ergebnis.append([f1, f2])\n",
    "\n",
    "    return ergebnis\n",
    "\n",
    "\n",
    "run_docstring_examples(erzeuge_liste_von_zwei_faktoren_fuer, locals())"
   ]
  },
  {
   "cell_type": "markdown",
   "id": "08e215b5",
   "metadata": {},
   "source": [
    "## Testdaten laden"
   ]
  },
  {
   "cell_type": "code",
   "execution_count": null,
   "id": "3fb7f684",
   "metadata": {},
   "outputs": [],
   "source": [
    "with open('../inputs/der_faule_lehrer_solution.csv') as f:\n",
    "    input_data = f.read()"
   ]
  },
  {
   "cell_type": "markdown",
   "id": "d5ea70ee",
   "metadata": {},
   "source": [
    "## Lösungen testen"
   ]
  },
  {
   "cell_type": "code",
   "execution_count": null,
   "id": "55358842",
   "metadata": {},
   "outputs": [],
   "source": [
    "assert erzeuge_liste_von_zwei_faktoren_fuer(900900) == vergleichswerte(input_data)"
   ]
  }
 ],
 "metadata": {
  "kernelspec": {
   "display_name": "Python 3 (ipykernel)",
   "language": "python",
   "name": "python3"
  },
  "language_info": {
   "codemirror_mode": {
    "name": "ipython",
    "version": 3
   },
   "file_extension": ".py",
   "mimetype": "text/x-python",
   "name": "python",
   "nbconvert_exporter": "python",
   "pygments_lexer": "ipython3",
   "version": "3.9.10"
  },
  "latex_envs": {
   "LaTeX_envs_menu_present": true,
   "autoclose": false,
   "autocomplete": true,
   "bibliofile": "biblio.bib",
   "cite_by": "apalike",
   "current_citInitial": 1,
   "eqLabelWithNumbers": true,
   "eqNumInitial": 1,
   "hotkeys": {
    "equation": "Ctrl-E",
    "itemize": "Ctrl-I"
   },
   "labels_anchors": false,
   "latex_user_defs": false,
   "report_style_numbering": false,
   "user_envs_cfg": false
  },
  "toc": {
   "base_numbering": 1,
   "nav_menu": {},
   "number_sections": true,
   "sideBar": true,
   "skip_h1_title": false,
   "title_cell": "Table of Contents",
   "title_sidebar": "Contents",
   "toc_cell": false,
   "toc_position": {},
   "toc_section_display": true,
   "toc_window_display": true
  },
  "varInspector": {
   "cols": {
    "lenName": 16,
    "lenType": 16,
    "lenVar": 40
   },
   "kernels_config": {
    "python": {
     "delete_cmd_postfix": "",
     "delete_cmd_prefix": "del ",
     "library": "var_list.py",
     "varRefreshCmd": "print(var_dic_list())"
    },
    "r": {
     "delete_cmd_postfix": ") ",
     "delete_cmd_prefix": "rm(",
     "library": "var_list.r",
     "varRefreshCmd": "cat(var_dic_list()) "
    }
   },
   "types_to_exclude": [
    "module",
    "function",
    "builtin_function_or_method",
    "instance",
    "_Feature"
   ],
   "window_display": false
  }
 },
 "nbformat": 4,
 "nbformat_minor": 5
}
