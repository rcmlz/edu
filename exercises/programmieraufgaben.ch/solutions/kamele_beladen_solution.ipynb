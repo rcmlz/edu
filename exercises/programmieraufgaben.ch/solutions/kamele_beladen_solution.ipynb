{
 "cells": [
  {
   "cell_type": "code",
   "execution_count": null,
   "id": "2e1ac3f7",
   "metadata": {},
   "outputs": [],
   "source": [
    "from doctest import run_docstring_examples\n",
    "from datetime import datetime\n",
    "#import logging\n",
    "#logging.basicConfig(level=logging.INFO)"
   ]
  },
  {
   "cell_type": "code",
   "execution_count": null,
   "id": "77e276a0",
   "metadata": {
    "code_folding": [
     0
    ]
   },
   "outputs": [],
   "source": [
    "def time_solution(fun, p1, p2, solution):\n",
    "\n",
    "    start = datetime.now()\n",
    "    result = fun(p1, p2)\n",
    "    dauer = datetime.now() - start\n",
    "\n",
    "    nachricht = \"Ergebnis: {} Rechenzeit: {}\"\n",
    "    print(nachricht.format(result, dauer))\n",
    "\n",
    "    assert result == solution"
   ]
  },
  {
   "cell_type": "markdown",
   "id": "f561165e",
   "metadata": {},
   "source": [
    "# Kamele beladen (Rekursion)\n",
    "\n",
    "Quelle: https://www.programmieraufgaben.ch/aufgabe/kamele-beladen/6gddr4zm\n",
    "\n",
    "## Aufgabenstellung\n",
    "Ein Kamel soll optimal beladen werden. Das Kamel kann maximal 270 kg tragen. Aktuell sind Waren mit den folgenden Gewichten zu transportieren: 5, 18, 32, 34, 45, 57, 63, 69, 94, 98 und 121 kg. Nicht alle Gepäckstücke müssen verwendet werden; die 270 kg sollen aber möglichst gut, wenn nicht sogar ganz ohne Rest beladen werden.\n",
    "\n",
    "Schreiben Sie eine rekursive Funktion, welches die maximal mögliche Beladung eines Kamels in Abhängigketi der Gesamttragfähigkeit des Kamels und der zu transportierenden Gepäckstücke berechnet.\n",
    "\n",
    "Tipp: Für jedes Gepäckstück aus dem Vorrat kann das Problem rekursiv vereinfacht werden. Dazu wird dessen Gewicht probehalber aufgeladen. Danach wird das beste Resultat der nun noch verfügbaren weiteren Möglichkeiten gesucht und zum probehalber aufgeladenen Gewicht addiert.\n",
    "\n",
    "Behandeln Sie zunächst die Abbruchbedingung: der verbleibende Vorrat von nicht zu schweren Gepäckstücken ist leer."
   ]
  },
  {
   "cell_type": "markdown",
   "id": "121dc34f",
   "metadata": {},
   "source": [
    "## Rekursive Lösung"
   ]
  },
  {
   "cell_type": "code",
   "execution_count": null,
   "id": "ac6984b3",
   "metadata": {
    "code_folding": [
     0
    ]
   },
   "outputs": [],
   "source": [
    "def maximalgewicht(kapazitaet, vorrat):\n",
    "    \"\"\"\n",
    "    Berechnet die maximal mögliche Beladung des Kamels in rekursiver Manier.\n",
    "    \n",
    "    >>> print(maximalgewicht(1, []))\n",
    "    0\n",
    "    >>> print(maximalgewicht(0, [1, 2, 3]))\n",
    "    0\n",
    "    >>> print(maximalgewicht(1, [1, 1]))\n",
    "    1\n",
    "    >>> print(maximalgewicht(3, [1, 2, 3]))\n",
    "    3\n",
    "    >>> print(maximalgewicht(5, [1, 2, 3]))\n",
    "    5\n",
    "    >>> print(maximalgewicht(5, [6, 1, 1, 8]))\n",
    "    2\n",
    "\n",
    "    Jedes geeignete Gepäckstück wird probehalber aufgeladen\n",
    "    und zur rekursiv optimalen Lösung (auf Basis des neuen Vorrats \n",
    "    und der Restkapazität) addiert.\n",
    "        \n",
    "    \"\"\"\n",
    "    if len(vorrat) < 1 or min(vorrat) > kapazitaet:  # geeigneter Vorrat leer?\n",
    "        return 0\n",
    "    else:\n",
    "        zuladungen = []\n",
    "        for item in vorrat: # jedes Gewicht probeweise aufladen und das Maximum der restlichen, daraus resultierenden möglichen Beladungen bestimmen\n",
    "            if item > kapazitaet:\n",
    "                continue\n",
    "\n",
    "            vorrat_neu = vorrat.copy()\n",
    "            vorrat_neu.remove(item)\n",
    "\n",
    "            zuladung = maximalgewicht(kapazitaet - item, vorrat_neu)\n",
    "            zuladungen.append(zuladung + item)\n",
    "\n",
    "        return max(zuladungen)\n",
    "\n",
    "\n",
    "run_docstring_examples(maximalgewicht, locals())"
   ]
  },
  {
   "cell_type": "markdown",
   "id": "d5ea70ee",
   "metadata": {},
   "source": [
    "## Rekursive Lösungen testen\n",
    "\n",
    "Ab ca. 14 Gewichten beginnt die Aufgabe die Grenze der rekursiven Berechenbarkeit zu \"knacken\"!"
   ]
  },
  {
   "cell_type": "code",
   "execution_count": null,
   "id": "55358842",
   "metadata": {},
   "outputs": [],
   "source": [
    "time_solution(maximalgewicht, 270, [5, 18, 32, 34, 45, 63, 69], 266)\n",
    "time_solution(maximalgewicht, 270, [5, 18, 32, 34, 45, 57, 63, 69, 94, 98, 121], 270)\n",
    "\n",
    "#time_solution(maximalgewicht, 1000, [181, 130, 128, 125, 124, 121, 104, 101, 98, 94, 69, 61, 13], 1000)\n",
    "\n",
    "# Das dritte, grössere Beispiel mit der schlanken, rekursiven Lösung zu berechnen dauert ... und dauert ... und dauert.\n",
    "# Da benötigen wir wohl einen besseren Algorithmus."
   ]
  },
  {
   "cell_type": "markdown",
   "id": "692b7b92",
   "metadata": {},
   "source": [
    "## Alternative Rekursive Lösung\n",
    "\n",
    "Diese etwas kompliziertere rekursive Variante gibt die Gewichte aus, die zur maximalen Ladung führen - ist aber auch nicht für grössere Probleme geeignet. "
   ]
  },
  {
   "cell_type": "code",
   "execution_count": null,
   "id": "e17dd5ff",
   "metadata": {
    "code_folding": [
     0
    ]
   },
   "outputs": [],
   "source": [
    "def aufladen(kapazitaet, vorrat, aktuelle_beladung=[]):\n",
    "    \"\"\"\n",
    "    Berechnet rekursiv die maximale Ladung des Kamels und gibt die benötigten Gewichte als List aus.\n",
    "    \n",
    "    >>> print(aufladen(1, []))\n",
    "    []\n",
    "    >>> print(aufladen(0, [1, 2, 3]))\n",
    "    []\n",
    "    >>> print(aufladen(2, [1, 1]))\n",
    "    [1, 1]\n",
    "    >>> print(aufladen(1, [1, 1], [1]))\n",
    "    [1, 1]\n",
    "    >>> print(aufladen(3, [1, 2, 3]))\n",
    "    [1, 2]\n",
    "    >>> print(aufladen(5, [1, 2, 3]))\n",
    "    [2, 3]\n",
    "    >>> print(aufladen(5, [6, 1, 1, 8]))\n",
    "    [1, 1]\n",
    "    \n",
    "    \"\"\"\n",
    "    #logging.info(\"{} {} {}\".format(kapazitaet, vorrat, aktuelle_beladung))\n",
    "\n",
    "    if len(vorrat) < 1 or min(vorrat) > kapazitaet:  # geeigneter Vorrat leer?\n",
    "        return aktuelle_beladung\n",
    "    else:\n",
    "        max_zuladung = []   # Liste von Gewichten\n",
    "        for item in vorrat: # jedes Gewicht probeweise aufladen und das Maximum der restlichen, daraus resultierenden möglichen Beladungen bestimmen\n",
    "            if item > kapazitaet:\n",
    "                continue\n",
    "\n",
    "            vorrat_neu = vorrat.copy()\n",
    "            vorrat_neu.remove(item)\n",
    "\n",
    "            beladung_neu = aktuelle_beladung.copy()\n",
    "            beladung_neu.append(item)\n",
    "\n",
    "            zuladung = aufladen(kapazitaet - item, vorrat_neu, beladung_neu)\n",
    "\n",
    "            if sum(zuladung) > sum(max_zuladung):\n",
    "                max_zuladung = zuladung\n",
    "\n",
    "        return max_zuladung\n",
    "\n",
    "\n",
    "run_docstring_examples(aufladen, locals())"
   ]
  },
  {
   "cell_type": "markdown",
   "id": "209458bf",
   "metadata": {},
   "source": [
    "## Alternative Rekursive Lösungen testen"
   ]
  },
  {
   "cell_type": "code",
   "execution_count": null,
   "id": "80ca3be1",
   "metadata": {},
   "outputs": [],
   "source": [
    "time_solution(aufladen, 270, [5, 18, 32, 34, 45, 63, 69], [5, 18, 32, 34, 45, 63, 69])\n",
    "time_solution(aufladen, 270, [5, 18, 32, 34, 45, 57, 63, 69, 94, 98, 121], [5, 18, 32, 94, 121])"
   ]
  },
  {
   "cell_type": "markdown",
   "id": "3b7ff7f6",
   "metadata": {},
   "source": [
    "## Dynamic Programming - Lösung\n",
    "Die Standardlösung des sogenannten [Rucksackproblems](https://de.wikipedia.org/wiki/Rucksackproblem) mittels Dynamic Programming weist eine bessere Laufzeit als die rekursiven Varianten aus. "
   ]
  },
  {
   "cell_type": "code",
   "execution_count": null,
   "id": "b498e8ed",
   "metadata": {
    "code_folding": [
     0
    ]
   },
   "outputs": [],
   "source": [
    "def beladen_dp(kapazitaet, vorrat):\n",
    "    \"\"\"\n",
    "    Berechnet die maximal mögliche Beladung des Kamels mit dem Standard-DP-Algorithmus für das Rucksack-Problem mit ganzzahligen Gewichten.\n",
    "    \n",
    "    >>> print(beladen_dp(1, []))\n",
    "    0\n",
    "    >>> print(beladen_dp(0, [1, 2, 3]))\n",
    "    0\n",
    "    >>> print(beladen_dp(1, [1, 1]))\n",
    "    1\n",
    "    >>> print(beladen_dp(3, [1, 2, 3]))\n",
    "    3\n",
    "    >>> print(beladen_dp(5, [1, 2, 3]))\n",
    "    5\n",
    "    >>> print(beladen_dp(5, [6, 1, 1, 8]))\n",
    "    2\n",
    "    \n",
    "    \"\"\"\n",
    "    if len(vorrat) < 1 or min(vorrat) > kapazitaet:  # geeigneter Vorrat leer?\n",
    "        return 0\n",
    "\n",
    "    # DP Tabelle vorbereiten\n",
    "    # Die Werte der ersten Zeile und ersten Spalte der Matrix sind 0,\n",
    "    # was den Zuständen \"keine Gepäckstücke vorhanden\" bzw. \"keine Kapazität vorhanden\" entspricht.\n",
    "    dp = [[0 for j in range(kapazitaet + 1)]]  # die erste Zeile mit Nullen wird gleich beim Initialisieren mit eingefügt\n",
    "    for zeile in range(len(vorrat)):           # restlichen Zeilen hinzufügen (pro Gepäckstück eine)\n",
    "        row = [0]                              # der erste Wert jeder Zeile ist immer 0\n",
    "        row.extend([None for j in range(kapazitaet)])\n",
    "        dp.append(row)\n",
    "\n",
    "    # DP Tabelle ausfüllen, zeilenweise, wir starten mit dem 2. Feld in der 2. Zeile\n",
    "    zeilen = range(1, len(dp))\n",
    "    spalten = range(1, len(dp[0]))\n",
    "    for zeile in zeilen:\n",
    "        item_gewicht = vorrat[zeile - 1]\n",
    "        for spalte in spalten:\n",
    "            spalte_ohne_item = spalte - item_gewicht  # diese Spalte repräsentiert das maximales Gewicht des Rucksacks ohne dieses Item\n",
    "            zeile_ohne_item = zeile - 1\n",
    "            gewicht_ohne_item = dp[zeile_ohne_item][spalte]\n",
    "            if spalte_ohne_item >= 0:                 # passt das item überhaupt in den bisherigen Rucksack?\n",
    "                gewicht_mit_item = dp[zeile_ohne_item][spalte_ohne_item] + item_gewicht\n",
    "                dp[zeile][spalte] = max(gewicht_mit_item, gewicht_ohne_item)\n",
    "            else:\n",
    "                dp[zeile][spalte] = gewicht_ohne_item\n",
    "\n",
    "    return dp[-1][-1]\n",
    "\n",
    "\n",
    "run_docstring_examples(beladen_dp, locals())"
   ]
  },
  {
   "cell_type": "markdown",
   "id": "4a2191ad",
   "metadata": {},
   "source": [
    "## DP Lösungen testen"
   ]
  },
  {
   "cell_type": "code",
   "execution_count": null,
   "id": "2fa75cee",
   "metadata": {
    "code_folding": [
     0,
     4
    ]
   },
   "outputs": [],
   "source": [
    "time_solution(beladen_dp, \n",
    "              270, \n",
    "              [5, 18, 32, 34, 45, 57, 63, 69, 94, 98, 121],\n",
    "              270)\n",
    "time_solution(beladen_dp, \n",
    "              1000,\n",
    "              [181, 130, 128, 125, 124, 121, 104, 101, 98, 94, 69, 61, 13],\n",
    "              1000)"
   ]
  }
 ],
 "metadata": {
  "kernelspec": {
   "display_name": "Python 3 (ipykernel)",
   "language": "python",
   "name": "python3"
  },
  "language_info": {
   "codemirror_mode": {
    "name": "ipython",
    "version": 3
   },
   "file_extension": ".py",
   "mimetype": "text/x-python",
   "name": "python",
   "nbconvert_exporter": "python",
   "pygments_lexer": "ipython3",
   "version": "3.9.10"
  },
  "latex_envs": {
   "LaTeX_envs_menu_present": true,
   "autoclose": false,
   "autocomplete": true,
   "bibliofile": "biblio.bib",
   "cite_by": "apalike",
   "current_citInitial": 1,
   "eqLabelWithNumbers": true,
   "eqNumInitial": 1,
   "hotkeys": {
    "equation": "Ctrl-E",
    "itemize": "Ctrl-I"
   },
   "labels_anchors": false,
   "latex_user_defs": false,
   "report_style_numbering": false,
   "user_envs_cfg": false
  },
  "toc": {
   "base_numbering": 1,
   "nav_menu": {},
   "number_sections": true,
   "sideBar": true,
   "skip_h1_title": false,
   "title_cell": "Table of Contents",
   "title_sidebar": "Contents",
   "toc_cell": false,
   "toc_position": {},
   "toc_section_display": true,
   "toc_window_display": true
  },
  "varInspector": {
   "cols": {
    "lenName": 16,
    "lenType": 16,
    "lenVar": 40
   },
   "kernels_config": {
    "python": {
     "delete_cmd_postfix": "",
     "delete_cmd_prefix": "del ",
     "library": "var_list.py",
     "varRefreshCmd": "print(var_dic_list())"
    },
    "r": {
     "delete_cmd_postfix": ") ",
     "delete_cmd_prefix": "rm(",
     "library": "var_list.r",
     "varRefreshCmd": "cat(var_dic_list()) "
    }
   },
   "types_to_exclude": [
    "module",
    "function",
    "builtin_function_or_method",
    "instance",
    "_Feature"
   ],
   "window_display": false
  }
 },
 "nbformat": 4,
 "nbformat_minor": 5
}
