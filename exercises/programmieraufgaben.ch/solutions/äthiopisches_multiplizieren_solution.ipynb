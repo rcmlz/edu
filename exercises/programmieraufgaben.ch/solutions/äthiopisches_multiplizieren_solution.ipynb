{
 "cells": [
  {
   "cell_type": "code",
   "execution_count": null,
   "id": "2e1ac3f7",
   "metadata": {},
   "outputs": [],
   "source": [
    "from doctest import run_docstring_examples\n",
    "#import logging\n",
    "#logging.basicConfig(level=logging.INFO)"
   ]
  },
  {
   "cell_type": "markdown",
   "id": "f561165e",
   "metadata": {},
   "source": [
    "# Äthiopisches Multiplizieren (Rekursion)\n",
    "\n",
    "Quelle: https://www.programmieraufgaben.ch/aufgabe/aethiopisches-multiplizieren/064fkdm4\n",
    "\n",
    "## Aufgabenstellung\n",
    "Schreiben Sie eine Funktion, welches das Äthiopische Multiplizieren rekursiv realisiert.\n",
    "\n",
    "Die Äthiopier hatten einen interessanten Weg gefunden, zwei große Zahlen miteinander zu multiplizieren. Zunächst haben sie beiden Zahlen, die es zu multiplizieren galt, nebeneinander geschrieben, z.B.:\n",
    "<pre>\n",
    "17 x 34\n",
    "</pre>\n",
    "Nun geht es aber etwas anders weiter, als wir das zu tun pflegen. Die linke Zahl wird nun für jede darunterliegende Zeile halbiert, Nachkommastellen werden abgeschnitten. Die rechte Zahl hingegen wird Zeile für Zeile verdoppelt. Dies wird so lange betrieben, bis die linke Zahl gleich 1 ist.\n",
    "<pre>\n",
    "17    34\n",
    " 8    68\n",
    " 4   136 \n",
    " 2   272\n",
    " 1   544\n",
    "</pre>\n",
    "Nun werden alle die Zeilen durchgestrichen, bei denen die linke Zahl gerade (also ohne Rest durch 2 teilbar) ist.\n",
    "<pre>\n",
    "17    34\n",
    " 8    -68- \n",
    " 4   -136- \n",
    " 2   -272- \n",
    " 1   544\n",
    "</pre>\n",
    "Von den verbleibenden Zeilen werden die rechten Zahlen addiert, also:\n",
    "<pre>\n",
    "17    34\n",
    " 8    -- \n",
    " 4   --- \n",
    " 2   --- \n",
    " 1   544\n",
    "     ====\n",
    "     578\n",
    "</pre>\n",
    "\n",
    "Und die Summe ist 578 - voilà! - zugleich das Ergebnis des Produkts aus 17 x 34."
   ]
  },
  {
   "cell_type": "markdown",
   "id": "121dc34f",
   "metadata": {},
   "source": [
    "## Ihre Lösung"
   ]
  },
  {
   "cell_type": "code",
   "execution_count": null,
   "id": "ac6984b3",
   "metadata": {},
   "outputs": [],
   "source": [
    "def aethiopisches_multiplizieren(x, y):\n",
    "    \"\"\"\n",
    "    Multipliziert zwei Integer-Zahlen mittels Algorithmus des Äthiopischen Multiplizierens und nutzt dafür Rekursion.\n",
    "    \n",
    "    >>> print(aethiopisches_multiplizieren(2, 2))\n",
    "    4\n",
    "\n",
    "    >>> print(aethiopisches_multiplizieren(17, 34))\n",
    "    578\n",
    "    \n",
    "    \"\"\"\n",
    "    #logging.info(\"{} x {}\".format(x, y))\n",
    "    #logging.info(\"multiplier: {}\".format(multiplier))\n",
    "\n",
    "    # Man kann das Problem auf 2 Zeilen lösen ... wenn man nur natürliche Zahlen > 0 als Eingabe annimmt!\n",
    "    #if x == 1: return y\n",
    "    #return aethiopisches_multiplizieren(x // 2, y * 2) + x % 2 * y\n",
    "\n",
    "    # oder mit etwas mehr Code - sicherlich auch etwas lesbarer und auch robuster gegenüber den Eingaben:\n",
    "\n",
    "    if x == 0 or y == 0:\n",
    "        return 0\n",
    "    elif x == 1:\n",
    "        return y\n",
    "    elif y == 1:\n",
    "        return x\n",
    "\n",
    "    multiplier = x % 2\n",
    "\n",
    "    return aethiopisches_multiplizieren(x // 2, y * 2) + multiplier * y\n",
    "\n",
    "\n",
    "run_docstring_examples(aethiopisches_multiplizieren, locals())"
   ]
  },
  {
   "cell_type": "markdown",
   "id": "d5ea70ee",
   "metadata": {},
   "source": [
    "## Lösungen testen"
   ]
  },
  {
   "cell_type": "code",
   "execution_count": null,
   "id": "55358842",
   "metadata": {},
   "outputs": [],
   "source": [
    "assert aethiopisches_multiplizieren(3, 12) == 36\n",
    "assert aethiopisches_multiplizieren(0, 12) == 0"
   ]
  }
 ],
 "metadata": {
  "kernelspec": {
   "display_name": "Python 3 (ipykernel)",
   "language": "python",
   "name": "python3"
  },
  "language_info": {
   "codemirror_mode": {
    "name": "ipython",
    "version": 3
   },
   "file_extension": ".py",
   "mimetype": "text/x-python",
   "name": "python",
   "nbconvert_exporter": "python",
   "pygments_lexer": "ipython3",
   "version": "3.9.10"
  },
  "latex_envs": {
   "LaTeX_envs_menu_present": true,
   "autoclose": false,
   "autocomplete": true,
   "bibliofile": "biblio.bib",
   "cite_by": "apalike",
   "current_citInitial": 1,
   "eqLabelWithNumbers": true,
   "eqNumInitial": 1,
   "hotkeys": {
    "equation": "Ctrl-E",
    "itemize": "Ctrl-I"
   },
   "labels_anchors": false,
   "latex_user_defs": false,
   "report_style_numbering": false,
   "user_envs_cfg": false
  },
  "toc": {
   "base_numbering": 1,
   "nav_menu": {},
   "number_sections": true,
   "sideBar": true,
   "skip_h1_title": false,
   "title_cell": "Table of Contents",
   "title_sidebar": "Contents",
   "toc_cell": false,
   "toc_position": {},
   "toc_section_display": true,
   "toc_window_display": true
  },
  "varInspector": {
   "cols": {
    "lenName": 16,
    "lenType": 16,
    "lenVar": 40
   },
   "kernels_config": {
    "python": {
     "delete_cmd_postfix": "",
     "delete_cmd_prefix": "del ",
     "library": "var_list.py",
     "varRefreshCmd": "print(var_dic_list())"
    },
    "r": {
     "delete_cmd_postfix": ") ",
     "delete_cmd_prefix": "rm(",
     "library": "var_list.r",
     "varRefreshCmd": "cat(var_dic_list()) "
    }
   },
   "types_to_exclude": [
    "module",
    "function",
    "builtin_function_or_method",
    "instance",
    "_Feature"
   ],
   "window_display": false
  }
 },
 "nbformat": 4,
 "nbformat_minor": 5
}
