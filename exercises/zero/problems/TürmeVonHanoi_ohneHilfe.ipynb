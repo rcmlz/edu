{
 "cells": [
  {
   "cell_type": "code",
   "execution_count": null,
   "id": "2e1ac3f7",
   "metadata": {},
   "outputs": [],
   "source": [
    "from doctest import run_docstring_examples\n",
    "#import logging\n",
    "#logging.basicConfig(level=logging.INFO)"
   ]
  },
  {
   "cell_type": "markdown",
   "id": "f561165e",
   "metadata": {},
   "source": [
    "# Türme von Hanoi\n",
    "\n",
    "Quelle: https://de.wikipedia.org/wiki/T%C3%BCrme_von_Hanoi\n",
    "\n",
    "Schreiben Sie eine Funktion, welche eine Liste der Bewegungen erstellt, die alle $n$ Scheiben von Turm A nach Turm B verschiebt, und dabei niemals eine grössere auf eine kleinere Scheibe setzt und immer nur eine Scheibe gleichzeitig bewegt. Turm C wird als Zwischenlager verwendet."
   ]
  },
  {
   "cell_type": "markdown",
   "id": "9140d84f",
   "metadata": {},
   "source": [
    "## Ihre Lösung"
   ]
  },
  {
   "cell_type": "code",
   "execution_count": null,
   "id": "ac6984b3",
   "metadata": {},
   "outputs": [],
   "source": [
    "def tvh(n, turmA='A', turmB='B', turmC='C'):\n",
    "    \"\"\"\n",
    "    Löst das Spiel Turm von Hanoi, indem die Scheibe n von Turm A nach B bewegt wird - unter Zuhilfenahme von Turm C.\n",
    "    Gibt eine Liste von Tupeln (Scheibe, Start, Ziel) der notwendigen Bewegungen zurück.\n",
    "    \n",
    "    >>> tvh(1)\n",
    "    1 A B\n",
    "    \n",
    "    >>> tvh(2, 'A', 'C', 'B')\n",
    "    1 A B\n",
    "    2 A C\n",
    "    1 B C\n",
    "    \n",
    "    \"\"\"\n",
    "    pass\n",
    "\n",
    "run_docstring_examples(tvh, locals())"
   ]
  },
  {
   "cell_type": "markdown",
   "id": "d5ea70ee",
   "metadata": {},
   "source": [
    "## Lösung anwenden"
   ]
  },
  {
   "cell_type": "code",
   "execution_count": null,
   "id": "fa845243",
   "metadata": {},
   "outputs": [],
   "source": []
  }
 ],
 "metadata": {
  "kernelspec": {
   "display_name": "Python 3 (ipykernel)",
   "language": "python",
   "name": "python3"
  },
  "language_info": {
   "codemirror_mode": {
    "name": "ipython",
    "version": 3
   },
   "file_extension": ".py",
   "mimetype": "text/x-python",
   "name": "python",
   "nbconvert_exporter": "python",
   "pygments_lexer": "ipython3",
   "version": "3.9.9"
  },
  "latex_envs": {
   "LaTeX_envs_menu_present": true,
   "autoclose": false,
   "autocomplete": true,
   "bibliofile": "biblio.bib",
   "cite_by": "apalike",
   "current_citInitial": 1,
   "eqLabelWithNumbers": true,
   "eqNumInitial": 1,
   "hotkeys": {
    "equation": "Ctrl-E",
    "itemize": "Ctrl-I"
   },
   "labels_anchors": false,
   "latex_user_defs": false,
   "report_style_numbering": false,
   "user_envs_cfg": false
  },
  "toc": {
   "base_numbering": 1,
   "nav_menu": {},
   "number_sections": true,
   "sideBar": true,
   "skip_h1_title": false,
   "title_cell": "Table of Contents",
   "title_sidebar": "Contents",
   "toc_cell": false,
   "toc_position": {},
   "toc_section_display": true,
   "toc_window_display": true
  },
  "varInspector": {
   "cols": {
    "lenName": 16,
    "lenType": 16,
    "lenVar": 40
   },
   "kernels_config": {
    "python": {
     "delete_cmd_postfix": "",
     "delete_cmd_prefix": "del ",
     "library": "var_list.py",
     "varRefreshCmd": "print(var_dic_list())"
    },
    "r": {
     "delete_cmd_postfix": ") ",
     "delete_cmd_prefix": "rm(",
     "library": "var_list.r",
     "varRefreshCmd": "cat(var_dic_list()) "
    }
   },
   "types_to_exclude": [
    "module",
    "function",
    "builtin_function_or_method",
    "instance",
    "_Feature"
   ],
   "window_display": false
  }
 },
 "nbformat": 4,
 "nbformat_minor": 5
}
