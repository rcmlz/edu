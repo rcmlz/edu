{
 "cells": [
  {
   "cell_type": "code",
   "execution_count": null,
   "id": "2e1ac3f7",
   "metadata": {},
   "outputs": [],
   "source": [
    "from doctest import run_docstring_examples\n",
    "#import logging\n",
    "#logging.basicConfig(level=logging.INFO)"
   ]
  },
  {
   "cell_type": "markdown",
   "id": "f561165e",
   "metadata": {},
   "source": [
    "# Damenproblem\n",
    "\n",
    "Quelle: https://de.wikipedia.org/wiki/Damenproblem\n",
    "\n",
    "Es sollen jeweils $m$ Damen auf einem $n$ x $n$-Schachbrett so aufgestellt werden, dass keine zwei Damen einander gemäß ihren in den Schachregeln definierten Zugmöglichkeiten schlagen können."
   ]
  },
  {
   "cell_type": "markdown",
   "id": "9f2afc58",
   "metadata": {},
   "source": [
    "## Hilfsfunktionen"
   ]
  },
  {
   "cell_type": "code",
   "execution_count": null,
   "id": "07b92f87",
   "metadata": {},
   "outputs": [],
   "source": [
    "def buchstaben(n):\n",
    "    return [(chr(ord('A') + i)) for i in range(n)]\n",
    "\n",
    "\n",
    "def zahlen(n):\n",
    "    return range(1, n + 1)\n",
    "\n",
    "\n",
    "def schachbrett(n):\n",
    "    spielfeld = set()\n",
    "    for zahl in zahlen(n):\n",
    "        spielfeld = spielfeld.union(\n",
    "            tuple(zip(buchstaben(n), [zahl for i in range(n)])))\n",
    "    \n",
    "    return spielfeld\n",
    "\n",
    "\n",
    "def geschlagene_felder(dame=('A', 1), schachbrett=schachbrett(8)):\n",
    "    # Damen schlagen sich, wenn x1 == x2 oder y1 == y2 oder |x1 - x2| == |y1 -y2|\n",
    "    x1 = ord(dame[0])\n",
    "    y1 = dame[1]\n",
    "    felder = set()\n",
    "    for feld in schachbrett:\n",
    "        x2 = ord(feld[0])\n",
    "        y2 = feld[1]\n",
    "        if x1 == x2 or y1 == y2 or abs(x1 - x2) == abs(y1 - y2):\n",
    "                felder.add(feld)\n",
    "\n",
    "    return felder\n"
   ]
  },
  {
   "cell_type": "markdown",
   "id": "9140d84f",
   "metadata": {},
   "source": [
    "## Ihre Lösung"
   ]
  },
  {
   "cell_type": "code",
   "execution_count": null,
   "id": "ac6984b3",
   "metadata": {},
   "outputs": [],
   "source": [
    "def damenproblem(damen=8, schachbrett=schachbrett(8), positionen=set()):\n",
    "    \"\"\"\n",
    "    Findet eine Lösung des Damenproblems.\n",
    "    \n",
    "    >>> damenproblem(damen=2, schachbrett=schachbrett(4))\n",
    "    ('A1', 'B3')\n",
    "    \n",
    "    \"\"\"\n",
    "    pass\n",
    "\n",
    "run_docstring_examples(damenproblem, locals())"
   ]
  },
  {
   "cell_type": "markdown",
   "id": "d5ea70ee",
   "metadata": {},
   "source": [
    "## Lösung anwenden"
   ]
  },
  {
   "cell_type": "code",
   "execution_count": null,
   "id": "20134fe7",
   "metadata": {},
   "outputs": [],
   "source": [
    "m = 8\n",
    "n = 8\n",
    "loesung = damenproblem(m, schachbrett(n))\n",
    "print(\"Eine Lösung, um {m} Damen auf einem Schachfeld der Grösse {n}x{n} zu platzieren, lautet:\\n{loesung}\".format(m=m, n=n, loesung=loesung))"
   ]
  }
 ],
 "metadata": {
  "kernelspec": {
   "display_name": "Python 3 (ipykernel)",
   "language": "python",
   "name": "python3"
  },
  "language_info": {
   "codemirror_mode": {
    "name": "ipython",
    "version": 3
   },
   "file_extension": ".py",
   "mimetype": "text/x-python",
   "name": "python",
   "nbconvert_exporter": "python",
   "pygments_lexer": "ipython3",
   "version": "3.9.9"
  },
  "latex_envs": {
   "LaTeX_envs_menu_present": true,
   "autoclose": false,
   "autocomplete": true,
   "bibliofile": "biblio.bib",
   "cite_by": "apalike",
   "current_citInitial": 1,
   "eqLabelWithNumbers": true,
   "eqNumInitial": 1,
   "hotkeys": {
    "equation": "Ctrl-E",
    "itemize": "Ctrl-I"
   },
   "labels_anchors": false,
   "latex_user_defs": false,
   "report_style_numbering": false,
   "user_envs_cfg": false
  },
  "toc": {
   "base_numbering": 1,
   "nav_menu": {},
   "number_sections": true,
   "sideBar": true,
   "skip_h1_title": false,
   "title_cell": "Table of Contents",
   "title_sidebar": "Contents",
   "toc_cell": false,
   "toc_position": {},
   "toc_section_display": true,
   "toc_window_display": true
  },
  "varInspector": {
   "cols": {
    "lenName": 16,
    "lenType": 16,
    "lenVar": 40
   },
   "kernels_config": {
    "python": {
     "delete_cmd_postfix": "",
     "delete_cmd_prefix": "del ",
     "library": "var_list.py",
     "varRefreshCmd": "print(var_dic_list())"
    },
    "r": {
     "delete_cmd_postfix": ") ",
     "delete_cmd_prefix": "rm(",
     "library": "var_list.r",
     "varRefreshCmd": "cat(var_dic_list()) "
    }
   },
   "types_to_exclude": [
    "module",
    "function",
    "builtin_function_or_method",
    "instance",
    "_Feature"
   ],
   "window_display": false
  }
 },
 "nbformat": 4,
 "nbformat_minor": 5
}
