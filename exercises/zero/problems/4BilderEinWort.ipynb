{
 "cells": [
  {
   "cell_type": "code",
   "execution_count": null,
   "id": "2e1ac3f7",
   "metadata": {},
   "outputs": [],
   "source": [
    "from doctest import run_docstring_examples\n",
    "from datetime import datetime\n",
    "from itertools import permutations\n",
    "#import logging\n",
    "#logging.basicConfig(level=logging.INFO)"
   ]
  },
  {
   "cell_type": "markdown",
   "id": "f561165e",
   "metadata": {},
   "source": [
    "# Vier Bilder Ein Wort\n",
    "\n",
    "Quelle: https://en.wikipedia.org/wiki/4_Pics_1_Word\n",
    "\n",
    "Schreiben Sie eine Funktion __find_words(buchstabensalat, zielwortlaenge, woerterbuch)__, welche aus einer Menge beliebiger Buchstaben alle validen Wörter einer bestimmten Länge extrahiert. Nutzen Sie dazu die Liste mit Wörtern unter '../inputs/dictionaries/german.dic'."
   ]
  },
  {
   "cell_type": "code",
   "execution_count": null,
   "id": "537e3a82",
   "metadata": {},
   "outputs": [],
   "source": [
    "TEST_DICTIONARY = \"\"\"\n",
    "Aal\n",
    "Hecht\n",
    "Forelle\n",
    "Anna\n",
    "Nana\n",
    "\"\"\""
   ]
  },
  {
   "cell_type": "code",
   "execution_count": null,
   "id": "ac6984b3",
   "metadata": {},
   "outputs": [],
   "source": [
    "def find_words(buchstabensalat, zielwortlaenge, woerterbuch):\n",
    "    \"\"\"\n",
    "    Erzeugt aus dem Buchstabensalat der Eingabe alle Permutationen der Zielwortlaenge\n",
    "    und prüft, ob diese im Wörterbuch vorhanden sind.\n",
    "    \n",
    "    >>> print(find_words('laa', 3, TEST_DICTIONARY))\n",
    "    ['aal']\n",
    "\n",
    "    >>> print(find_words('nnaa', 4, TEST_DICTIONARY))\n",
    "    ['anna', 'nana']\n",
    "\n",
    "    >>> print(find_words('nnaa', 3, TEST_DICTIONARY))\n",
    "    []\n",
    "\n",
    "    \"\"\"\n",
    "    pass\n",
    "\n",
    "run_docstring_examples(find_words, locals())"
   ]
  },
  {
   "cell_type": "markdown",
   "id": "08e215b5",
   "metadata": {},
   "source": [
    "## Wörterbuch laden"
   ]
  },
  {
   "cell_type": "code",
   "execution_count": null,
   "id": "10498cbc",
   "metadata": {},
   "outputs": [],
   "source": [
    "with open('../inputs/dictionaries/german.dic',encoding=\"ISO-8859-1\") as f:\n",
    "    DICTIONARY = f.read()"
   ]
  },
  {
   "cell_type": "markdown",
   "id": "d5ea70ee",
   "metadata": {},
   "source": [
    "## Lösung anwenden"
   ]
  },
  {
   "cell_type": "code",
   "execution_count": null,
   "id": "1838413e",
   "metadata": {},
   "outputs": [],
   "source": []
  }
 ],
 "metadata": {
  "kernelspec": {
   "display_name": "Python 3 (ipykernel)",
   "language": "python",
   "name": "python3"
  },
  "language_info": {
   "codemirror_mode": {
    "name": "ipython",
    "version": 3
   },
   "file_extension": ".py",
   "mimetype": "text/x-python",
   "name": "python",
   "nbconvert_exporter": "python",
   "pygments_lexer": "ipython3",
   "version": "3.9.9"
  },
  "latex_envs": {
   "LaTeX_envs_menu_present": true,
   "autoclose": false,
   "autocomplete": true,
   "bibliofile": "biblio.bib",
   "cite_by": "apalike",
   "current_citInitial": 1,
   "eqLabelWithNumbers": true,
   "eqNumInitial": 1,
   "hotkeys": {
    "equation": "Ctrl-E",
    "itemize": "Ctrl-I"
   },
   "labels_anchors": false,
   "latex_user_defs": false,
   "report_style_numbering": false,
   "user_envs_cfg": false
  },
  "toc": {
   "base_numbering": 1,
   "nav_menu": {},
   "number_sections": true,
   "sideBar": true,
   "skip_h1_title": false,
   "title_cell": "Table of Contents",
   "title_sidebar": "Contents",
   "toc_cell": false,
   "toc_position": {},
   "toc_section_display": true,
   "toc_window_display": true
  },
  "varInspector": {
   "cols": {
    "lenName": 16,
    "lenType": 16,
    "lenVar": 40
   },
   "kernels_config": {
    "python": {
     "delete_cmd_postfix": "",
     "delete_cmd_prefix": "del ",
     "library": "var_list.py",
     "varRefreshCmd": "print(var_dic_list())"
    },
    "r": {
     "delete_cmd_postfix": ") ",
     "delete_cmd_prefix": "rm(",
     "library": "var_list.r",
     "varRefreshCmd": "cat(var_dic_list()) "
    }
   },
   "types_to_exclude": [
    "module",
    "function",
    "builtin_function_or_method",
    "instance",
    "_Feature"
   ],
   "window_display": false
  }
 },
 "nbformat": 4,
 "nbformat_minor": 5
}
