{
 "cells": [
  {
   "cell_type": "code",
   "execution_count": null,
   "id": "2e1ac3f7",
   "metadata": {},
   "outputs": [],
   "source": [
    "from doctest import run_docstring_examples\n",
    "#from datetime import datetime\n",
    "#import logging\n",
    "#logging.basicConfig(level=logging.INFO)"
   ]
  },
  {
   "cell_type": "markdown",
   "id": "f561165e",
   "metadata": {},
   "source": [
    "# Calculator - the Game\n",
    "\n",
    "Quelle: https://www.simplemachine.co/game/calculator-the-game/\n",
    "\n",
    "Schreibe eine rekursive Funktion __solve(startwert, endwert, schritte, befehlsvorrat, befehleskette = [])__, welche beliebige Rätsel des Knobelspiels \"Calculator - the Game\" löst und eine valide Befehlskette zurückgibt, die in Schnitten von Startwert zum Endwert führt."
   ]
  },
  {
   "cell_type": "markdown",
   "id": "9770ed92",
   "metadata": {},
   "source": [
    "## Ihre Lösung"
   ]
  },
  {
   "cell_type": "code",
   "execution_count": null,
   "id": "ac6984b3",
   "metadata": {},
   "outputs": [],
   "source": [
    "def solve(startwert, endwert, schritte, befehlsvorrat, befehleskette = []):\n",
    "    \"\"\"\n",
    "    Erzeugt eine Befehlskette, um vom Startwert zum Zielwert in Schnitte mit beliebigen Befehlen aus dem Befehlsvorrat zu gelangen.\n",
    "    \n",
    "    >>> solve(0, 2, 2, ['+1'])\n",
    "    ['+1', '+1']\n",
    "    \n",
    "    >>> solve(1, 3, 2, ['+1', '+2', '+3'], ['+1'])\n",
    "    ['+1', '+1', '+1']\n",
    "\n",
    "    \"\"\"\n",
    "    pass\n",
    "\n",
    "run_docstring_examples(solve, locals())"
   ]
  },
  {
   "cell_type": "markdown",
   "id": "d5ea70ee",
   "metadata": {},
   "source": [
    "## Lösung anwenden"
   ]
  },
  {
   "cell_type": "code",
   "execution_count": null,
   "id": "fa845243",
   "metadata": {},
   "outputs": [],
   "source": [
    "start = 0\n",
    "ziel = 8\n",
    "bewegungen = 3\n",
    "befehlsvorrat = ['+2', '+3']\n",
    "\n",
    "solve(start, ziel, bewegungen, befehlsvorrat)"
   ]
  }
 ],
 "metadata": {
  "kernelspec": {
   "display_name": "Python 3 (ipykernel)",
   "language": "python",
   "name": "python3"
  },
  "language_info": {
   "codemirror_mode": {
    "name": "ipython",
    "version": 3
   },
   "file_extension": ".py",
   "mimetype": "text/x-python",
   "name": "python",
   "nbconvert_exporter": "python",
   "pygments_lexer": "ipython3",
   "version": "3.9.9"
  },
  "latex_envs": {
   "LaTeX_envs_menu_present": true,
   "autoclose": false,
   "autocomplete": true,
   "bibliofile": "biblio.bib",
   "cite_by": "apalike",
   "current_citInitial": 1,
   "eqLabelWithNumbers": true,
   "eqNumInitial": 1,
   "hotkeys": {
    "equation": "Ctrl-E",
    "itemize": "Ctrl-I"
   },
   "labels_anchors": false,
   "latex_user_defs": false,
   "report_style_numbering": false,
   "user_envs_cfg": false
  },
  "toc": {
   "base_numbering": 1,
   "nav_menu": {},
   "number_sections": true,
   "sideBar": true,
   "skip_h1_title": false,
   "title_cell": "Table of Contents",
   "title_sidebar": "Contents",
   "toc_cell": false,
   "toc_position": {},
   "toc_section_display": true,
   "toc_window_display": true
  },
  "varInspector": {
   "cols": {
    "lenName": 16,
    "lenType": 16,
    "lenVar": 40
   },
   "kernels_config": {
    "python": {
     "delete_cmd_postfix": "",
     "delete_cmd_prefix": "del ",
     "library": "var_list.py",
     "varRefreshCmd": "print(var_dic_list())"
    },
    "r": {
     "delete_cmd_postfix": ") ",
     "delete_cmd_prefix": "rm(",
     "library": "var_list.r",
     "varRefreshCmd": "cat(var_dic_list()) "
    }
   },
   "types_to_exclude": [
    "module",
    "function",
    "builtin_function_or_method",
    "instance",
    "_Feature"
   ],
   "window_display": false
  }
 },
 "nbformat": 4,
 "nbformat_minor": 5
}
