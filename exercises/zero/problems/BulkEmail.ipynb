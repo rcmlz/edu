{
 "cells": [
  {
   "cell_type": "markdown",
   "id": "c85c299f",
   "metadata": {},
   "source": [
    "# String Processing, Listen und Schleifen\n",
    "__Anwendungsfall:__ Sie bekommen eine Textdatei mit Kontakten (Name, Email-Adresse, Geschlecht, ...) und möchten eine personalisierte Email an jeden Kontakt senden."
   ]
  },
  {
   "cell_type": "markdown",
   "id": "bfe604df",
   "metadata": {},
   "source": [
    "## Aufgabe\n",
    "Bis auf 3 Code-Stellen in der Funktion __erzeuge_adressbuch_aus()__, an denen Sie jeweils einen String splitten müssen, ist das Email-Sende-Notebook schon fertig.\n",
    "\n",
    "Diese Code-Stellen sind mit __#TO DO:__ gekennzeichnet. Ob sie \"richtig splitten\" und damit die Aufgabe erfüllt haben, können sie erkennen, wenn sie die beiden zugehörigen Tests laufen lassen.\n",
    "\n",
    "PS: Dieses Notebook würde Emails senden, wenn sie korrekte Werte bei den \"Zugangsdaten\" angeben und es lokal von ihrem Computer zu Hause oder bspw. unter https://colab.research.google.com/ ausführen. Seien sie aber vorsichtig mit ihrem Email-Passwort, wenn sie Cloud-Dienste zur Ausführung des Notebooks nutzen!"
   ]
  },
  {
   "cell_type": "markdown",
   "id": "f9935d1b",
   "metadata": {},
   "source": [
    "## Programm\n",
    "1. Ein mehrzeiliger String (KONTAKTE) wird in eine Liste von Listen (hier adressbuch genannt) umgewandelt\n",
    "2. Das Adressbuch wird benutzt, um für jeden Empfänger eine Email zu erstellen. Emails sind Strings. Diese Emails werden wieder in einer Liste gespeichert (hier briefkorb genannt)\n",
    "3. Im letzen Schritt werden alle Emails an einen SMTP-Server übergeben - genau, wie es andere Email-Programme auch machen (Simple Mail Transport Protocoll)"
   ]
  },
  {
   "cell_type": "code",
   "execution_count": null,
   "id": "678699f5",
   "metadata": {},
   "outputs": [],
   "source": [
    "# Dieser Code läuft natürlich erst, wenn die Zellen weiter unten ausgeführt wurden.\n",
    "# Die Funktionen erzeuge_adressbuch_aus(), erstelle_emails_an() und briefe_einwerfen()\n",
    "# müssen bekannt sein.\n",
    "\n",
    "adressbuch = erzeuge_adressbuch_aus(KONTAKTE)\n",
    "print(\"{} Adressen verarbeitet\".format(len(adressbuch)))\n",
    "\n",
    "briefkorb = erstelle_emails_an(adressbuch)\n",
    "print(\"{} Emails erstellt\".format(len(briefkorb)))\n",
    "\n",
    "protokoll = briefe_einwerfen(briefkorb)\n",
    "print(\"{} Emails versendet\".format(len(protokoll)))"
   ]
  },
  {
   "cell_type": "code",
   "execution_count": null,
   "id": "8aef2e35",
   "metadata": {},
   "outputs": [],
   "source": [
    "for entry in protokoll:\n",
    "  print(\"To: {}\\tStatus: {}\".format(entry[0]['To'],entry[1]))"
   ]
  },
  {
   "cell_type": "markdown",
   "id": "80ba2fda",
   "metadata": {},
   "source": [
    "### Konfiguration"
   ]
  },
  {
   "cell_type": "markdown",
   "id": "00bce150",
   "metadata": {},
   "source": [
    "#### Unter welchem Namen wollen wir versenden:"
   ]
  },
  {
   "cell_type": "code",
   "execution_count": null,
   "id": "499af495",
   "metadata": {},
   "outputs": [],
   "source": [
    "ABSENDER = \"Rocco Melzian <rocco.melzian@kantiolten.ch>\" # was auf dem Couvert steht"
   ]
  },
  {
   "cell_type": "markdown",
   "id": "b91421b6",
   "metadata": {},
   "source": [
    "#### Welchen Inhalt die Email haben soll:"
   ]
  },
  {
   "cell_type": "code",
   "execution_count": null,
   "id": "57c28b24",
   "metadata": {},
   "outputs": [],
   "source": [
    "BETREFF = \"Vorsicht! Geheime Verschlusssache\"\n",
    "\n",
    "NACHRICHT = \"\"\"\n",
    "{ANREDE} {VORNAME}\n",
    "\n",
    "Die geheimen Koordinaten lauten ...\n",
    "\n",
    "{GRUSSFORMEL} {UNTERZEICHNER}\n",
    "\"\"\""
   ]
  },
  {
   "cell_type": "markdown",
   "id": "6d056a2d",
   "metadata": {},
   "source": [
    "#### An wen soll die Email gehen:\n",
    "Diese Daten werden später aus einer Datei direkt eingelesen werden - dann können es beliebig viele Zeilen sein."
   ]
  },
  {
   "cell_type": "code",
   "execution_count": null,
   "id": "8959c62a",
   "metadata": {},
   "outputs": [],
   "source": [
    "KONTAKTE = \"\"\"\n",
    "Rocco Melzian;m;rocco.melzian@kantiolten.ch\n",
    "Rocco Melzian;w;rocco@melzian.ch\n",
    "Rocco Melzian;d;zero-overhead@melzian.eu\n",
    "Rocco Melzian;;zero-overhead@melzian.eu\n",
    "\"\"\"\n",
    "ANZAHL_SPALTEN_KONTAKTE = 3 #1. Name Vorname; 2. Geschlecht; 3. Email"
   ]
  },
  {
   "cell_type": "markdown",
   "id": "318b9db7",
   "metadata": {},
   "source": [
    "#### Unsere Zugangsdaten zu einem \"Briefkasten\":\n",
    "Die Zeiten, wo man in jeden \"Briefkasten\" ohne Authentifizierung \"Post\" für jeden Absender und jeden Empfänger einwerfen konnte, sind längst vorbei.\n",
    "\n",
    "https://de.wikipedia.org/wiki/Simple_Mail_Transfer_Protocol"
   ]
  },
  {
   "cell_type": "code",
   "execution_count": null,
   "id": "5d8167d0",
   "metadata": {},
   "outputs": [],
   "source": [
    "from getpass import getpass\n",
    "\n",
    "MY_SMTP_SERVER = \"smtp.office365.com\"        # Postkasten\n",
    "MY_SMTP_PORT = 587                           # sozusagen der Postkastenschlitz\n",
    "MY_SMTP_USER = \"rocco.melzian@kantiolten.ch\" # Zugangsdaten Postkasten\n",
    "\n",
    "try: MY_SMTP_PASSWORD\n",
    "except NameError: MY_SMTP_PASSWORD = getpass(\"Passwort für {}: \".format(MY_SMTP_USER)) # wenn input() statt getpass() verwendet wird, wird das Passwort während der Eingabe angezeigt"
   ]
  },
  {
   "cell_type": "markdown",
   "id": "957cbedd",
   "metadata": {},
   "source": [
    "### Implementierung"
   ]
  },
  {
   "cell_type": "markdown",
   "id": "7ccc2ea1",
   "metadata": {},
   "source": [
    "#### erzeuge_adressbuch_aus()"
   ]
  },
  {
   "cell_type": "code",
   "execution_count": null,
   "id": "545d059f",
   "metadata": {},
   "outputs": [],
   "source": [
    "def erzeuge_adressbuch_aus(kontakte_string):\n",
    "    \n",
    "    #TO DO: Splitten sie den Inhalt von kontakte_string am Zeilenumbruch\n",
    "    kontakte_liste = kontakte_string.split(???) \n",
    "    \n",
    "    adressbuch = []\n",
    "    for zeile in kontakte_liste:\n",
    "        zeile = zeile.rstrip()                  # Zeilenumbruch '\\n' entfernen\n",
    "\n",
    "        #TO DO: Splitten sie den Inhalt von daten am ;\n",
    "        daten = zeile???\n",
    "\n",
    "        if(len(daten) != ANZAHL_SPALTEN_KONTAKTE):  # Nur vollständige Kontakte\n",
    "            continue\n",
    "\n",
    "        name_string = daten[0]\n",
    "        geschlecht = daten[1]\n",
    "        email = daten[2]\n",
    "\n",
    "        #TO DO: Splitten sie name_string am Leerzeichen (default);\n",
    "        vorname, name = name_string???\n",
    "        \n",
    "        eintrag = [name, vorname, geschlecht, email]\n",
    "        \n",
    "        adressbuch.append(eintrag)\n",
    "\n",
    "    return(adressbuch)"
   ]
  },
  {
   "cell_type": "markdown",
   "id": "efeff351",
   "metadata": {},
   "source": [
    "#### Tests für die Funktion \"erzeuge_adressbuch_aus()\""
   ]
  },
  {
   "cell_type": "code",
   "execution_count": null,
   "id": "0d89e02f",
   "metadata": {},
   "outputs": [],
   "source": [
    "test_message = \"Test {} : {}\""
   ]
  },
  {
   "cell_type": "code",
   "execution_count": null,
   "id": "8418f943",
   "metadata": {},
   "outputs": [],
   "source": [
    "testnummer = 1\n",
    "testdaten1_kontakte = \"Rocco Melzian;m;rocco.melzian@kantiolten.ch\"\n",
    "testdaten1_erwartet = [\n",
    "    ['Melzian', 'Rocco', 'm', 'rocco.melzian@kantiolten.ch']\n",
    "]\n",
    "testdaten1_erzeugt = erzeuge_adressbuch_aus(testdaten1_kontakte)\n",
    "ergebnis = testdaten1_erwartet == testdaten1_erzeugt\n",
    "print(test_message.format(testnummer, ergebnis))"
   ]
  },
  {
   "cell_type": "code",
   "execution_count": null,
   "id": "b16d7b29",
   "metadata": {},
   "outputs": [],
   "source": [
    "testnummer = 2\n",
    "testdaten2_kontakte = \"\"\"\n",
    "Rocco Melzian;m;rocco.melzian@kantiolten.ch\n",
    "Rocco Melzian;w;rocco@melzian.ch\n",
    "\"\"\"\n",
    "testdaten2_erwartet = [\n",
    "    ['Melzian', 'Rocco', 'm', 'rocco.melzian@kantiolten.ch'],\n",
    "    ['Melzian', 'Rocco', 'w', 'rocco@melzian.ch']\n",
    "]\n",
    "testdaten2_erzeugt = erzeuge_adressbuch_aus(testdaten2_kontakte)\n",
    "ergebnis = testdaten2_erwartet == testdaten2_erzeugt\n",
    "print(test_message.format(testnummer, ergebnis))"
   ]
  },
  {
   "cell_type": "markdown",
   "id": "4e891613",
   "metadata": {},
   "source": [
    "#### erstelle_emails_an()\n",
    "und Helfer-Funktionen. Die Funktion text_fuer() müsste verbessert werden, wenn bspw. die Anrede abhängig vom Geschlecht sein soll."
   ]
  },
  {
   "cell_type": "code",
   "execution_count": null,
   "id": "64d69662",
   "metadata": {},
   "outputs": [],
   "source": [
    "from email.mime.text import MIMEText\n",
    "from email.mime.multipart import MIMEMultipart\n",
    "\n",
    "def erstelle_emails_an(empfaengerinnen):\n",
    "    sammelbox = []\n",
    "    for empfaenger in empfaengerinnen:\n",
    "        individualierter_text = text_fuer(empfaenger)\n",
    "        diese_email = beschriften_fuer(empfaenger)\n",
    "        diese_email.attach(MIMEText(individualierter_text, 'plain'))\n",
    "        sammelbox.append(diese_email)\n",
    "    return(sammelbox)\n",
    "\n",
    "def text_fuer(empfaengerin):\n",
    "    \n",
    "        name,vorname,geschlecht,email = empfaengerin\n",
    "\n",
    "        text = NACHRICHT.format(# Platzhalter in NACHRICHT ersetzen\n",
    "                            ANREDE=\"Liebe\",\n",
    "                            VORNAME=vorname,\n",
    "                            GRUSSFORMEL=\"Hastalavista\",\n",
    "                            UNTERZEICHNER=\"Ich\")\n",
    "        return(text)\n",
    "\n",
    "def beschriften_fuer(empfaenger):\n",
    "    \n",
    "    name = empfaenger[0]\n",
    "    vorname = empfaenger[1]\n",
    "    email = empfaenger[3]\n",
    "    empfaengerin_formatiert = \"{} {} <{}>\".format(vorname, name, email)\n",
    "\n",
    "    msg = MIMEMultipart() # Email-Grundgerüst\n",
    "    \n",
    "    # Was wir auf die Postkarte bei \"Empfänger\" schreiben können:\n",
    "    # https://de.wikipedia.org/wiki/Header_(E-Mail)\n",
    "    msg['From'] = ABSENDER\n",
    "    msg['To'] = empfaengerin_formatiert\n",
    "    msg['Subject'] = BETREFF\n",
    "    return(msg)"
   ]
  },
  {
   "cell_type": "markdown",
   "id": "e456412f",
   "metadata": {},
   "source": [
    "#### briefe_einwerfen()\n",
    "Simple Mail Transfer Protocol - \"Briefe in den Postkasten einwerfen\""
   ]
  },
  {
   "cell_type": "code",
   "execution_count": null,
   "id": "8285ab99",
   "metadata": {
    "code_folding": []
   },
   "outputs": [],
   "source": [
    "import smtplib\n",
    "\n",
    "def briefe_einwerfen(briefe):\n",
    "    conn = smtplib.SMTP(MY_SMTP_SERVER,MY_SMTP_PORT)\n",
    "    conn.starttls()\n",
    "    \n",
    "    try: \n",
    "        conn.login(MY_SMTP_USER,MY_SMTP_PASSWORD)\n",
    "    except: \n",
    "        del globals()['MY_SMTP_PASSWORD']  #reset password\n",
    "        print(\"Server/Username/Passwort wrong? Passwort has been reset - enter it again.\")\n",
    "        return \"\"\n",
    "    \n",
    "    log = []\n",
    "    for brief in briefe:\n",
    "        status = conn.send_message(brief)\n",
    "        entry = [brief, status]\n",
    "        log.append(entry)\n",
    "    conn.close()\n",
    "    return(log)"
   ]
  },
  {
   "cell_type": "markdown",
   "id": "bccf4b81",
   "metadata": {},
   "source": [
    "## Verwendete Konzepte:\n",
    "- Definieren von Variablen und Konstanten\n",
    "- Definieren von mehrzeiligen String-Variablen\n",
    "- Zeilenumbrüche \\n\n",
    "- User input()\n",
    "- String.format() mit Platzhaltern nutzen\n",
    "- Importieren von Bibliotheken\n",
    "- Importierte Funktionen nutzen\n",
    "- Funktionen mit Parametern selbst schreiben und anwenden\n",
    "- String.split() nutzen\n",
    "- String.format() mit benannten Platzhaltern nutzen\n",
    "- For-Schleifen nutzen\n",
    "- Listen erstellen\n",
    "- Listen sukzessive befüllen\n",
    "- Länge von Listen bestimmen\n",
    "- Elemente aus Listen auslesen"
   ]
  }
 ],
 "metadata": {
  "kernelspec": {
   "display_name": "Python 3 (ipykernel)",
   "language": "python",
   "name": "python3"
  },
  "language_info": {
   "codemirror_mode": {
    "name": "ipython",
    "version": 3
   },
   "file_extension": ".py",
   "mimetype": "text/x-python",
   "name": "python",
   "nbconvert_exporter": "python",
   "pygments_lexer": "ipython3",
   "version": "3.9.9"
  },
  "latex_envs": {
   "LaTeX_envs_menu_present": true,
   "autoclose": false,
   "autocomplete": true,
   "bibliofile": "biblio.bib",
   "cite_by": "apalike",
   "current_citInitial": 1,
   "eqLabelWithNumbers": true,
   "eqNumInitial": 1,
   "hotkeys": {
    "equation": "Ctrl-E",
    "itemize": "Ctrl-I"
   },
   "labels_anchors": false,
   "latex_user_defs": false,
   "report_style_numbering": false,
   "user_envs_cfg": false
  },
  "toc": {
   "base_numbering": 1,
   "nav_menu": {},
   "number_sections": true,
   "sideBar": true,
   "skip_h1_title": true,
   "title_cell": "Table of Contents",
   "title_sidebar": "Contents",
   "toc_cell": false,
   "toc_position": {
    "height": "calc(100% - 180px)",
    "left": "10px",
    "top": "150px",
    "width": "249px"
   },
   "toc_section_display": true,
   "toc_window_display": true
  },
  "varInspector": {
   "cols": {
    "lenName": 16,
    "lenType": 16,
    "lenVar": 40
   },
   "kernels_config": {
    "python": {
     "delete_cmd_postfix": "",
     "delete_cmd_prefix": "del ",
     "library": "var_list.py",
     "varRefreshCmd": "print(var_dic_list())"
    },
    "r": {
     "delete_cmd_postfix": ") ",
     "delete_cmd_prefix": "rm(",
     "library": "var_list.r",
     "varRefreshCmd": "cat(var_dic_list()) "
    }
   },
   "position": {
    "height": "541.85px",
    "left": "1070px",
    "right": "20px",
    "top": "120px",
    "width": "350px"
   },
   "types_to_exclude": [
    "module",
    "function",
    "builtin_function_or_method",
    "instance",
    "_Feature"
   ],
   "window_display": false
  }
 },
 "nbformat": 4,
 "nbformat_minor": 5
}
